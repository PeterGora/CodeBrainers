{
 "cells": [
  {
   "cell_type": "markdown",
   "metadata": {},
   "source": [
    "![](data:image/jpeg;base64,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)"
   ]
  },
  {
   "cell_type": "markdown",
   "metadata": {},
   "source": [
    "# Unix Shell\n",
    "\n",
    "_Mikołaj Leszczuk_"
   ]
  },
  {
   "cell_type": "markdown",
   "metadata": {},
   "source": [
    "## Skrypty powłoki\n",
    "\n",
    "### Wprowadzenie\n",
    "\n",
    "**Skrypt powłoki** to [program komputerowy](https://pl.wikipedia.org/wiki/Program_komputerowy) przeznaczony do uruchamiania przez [powłokę systemu Unix](https://en.wikipedia.org/wiki/Unix_shell), [interpreter wiersza poleceń](https://pl.wikipedia.org/wiki/Wiersz_polece%C5%84). Za [języki skryptowe](https://pl.wikipedia.org/wiki/J%C4%99zyk_skryptowy) uważa się różne dialekty skryptów powłoki. Typowe operacje wykonywane przez skrypty powłoki obejmują manipulowanie plikami, wykonywanie programu i drukowanie tekstu. Skrypt, który konfiguruje środowisko, uruchamia program i wykonuje niezbędne czyszczenie, rejestrowanie itp. nazywany jest **opakowaniem** (ang. __*wrapperem*__).\n",
    "\n",
    "![Edycja skryptu powłoki FreeBSD do konfiguracji zapory IP](https://upload.wikimedia.org/wikipedia/commons/f/f0/FreeBSD_10_vi_RC_Firewall.png)\n",
    "\n",
    "Termin ten jest również używany bardziej ogólnie do oznaczenia zautomatyzowanego trybu uruchamiania powłoki systemu operacyjnego; w określonych systemach operacyjnych nazywane są innymi rzeczami, takimi jak pliki wsadowe (strumień MSDos-Win95, [OS/2](https://pl.wikipedia.org/wiki/OS/2)), procedury poleceń (VMS) i skrypty powłoki (strumień [Windows NT](https://pl.wikipedia.org/wiki/Windows_NT) i pochodne innych firm, takie jak [4NT](https://en.wikipedia.org/wiki/Take_Command_Console) - [`cmd.exe`](https://pl.wikipedia.org/wiki/Cmd.exe)), a systemy operacyjne mainframe są powiązane z wieloma terminami.\n",
    "\n",
    "Typowa instalacja zgodna z Unix/Linux/POSIX zawiera [Korn Shell](https://pl.wikipedia.org/wiki/Korn_shell) (`ksh`) w kilku możliwych wersjach, takich jak ksh88, Korn Shell '93 i inne. Najstarszą powszechnie używaną powłoką jest [powłoka Bourne'a](https://pl.wikipedia.org/wiki/Pow%C5%82oka_Bourne%E2%80%99a) (`sh`); Systemy uniksowe niezmiennie zawierają również [powłokę C](https://pl.wikipedia.org/wiki/Csh) (`csh`), [Bash](https://pl.wikipedia.org/wiki/Bash) (`bash`), [Remote Shell](https://pl.wikipedia.org/wiki/Rsh_(remote_shell)) (`rsh`), [Secure Shell](https://pl.wikipedia.org/wiki/Secure_Shell) (`ssh`) dla połączeń [SSL](https://pl.wikipedia.org/wiki/Transport_Layer_Security) [telnet](https://pl.wikipedia.org/wiki/Telnet) oraz powłokę, która jest głównym składnikiem instalacji [Tcl/Tk](https://pl.wikipedia.org/wiki/Tk), zwaną [`tclsh`](https://pl.wikipedia.org/wiki/Tk); [Wish](https://pl.wikipedia.org/wiki/Tk) to oparta na GUI powłoka Tcl/Tk. Powłoki C i Tcl mają składnię dość podobną do składni wspomnianych języków programowania, a powłoki Korna i Bash są rozwinięciem powłoki Bourne'a, która jest oparta na języku [ALGOL](https://pl.wikipedia.org/wiki/ALGOL) z dodanymi elementami wielu innych. Z drugiej strony, różne powłoki plus narzędzia, takie jak [awk](https://pl.wikipedia.org/wiki/AWK), [program sed](https://pl.wikipedia.org/wiki/Sed_(program)), [grep](https://pl.wikipedia.org/wiki/Grep) i języki programowania [BASIC](https://pl.wikipedia.org/wiki/BASIC), [Lisp](https://pl.wikipedia.org/wiki/Lisp), [C](https://pl.wikipedia.org/wiki/C_(j%C4%99zyk_programowania)) i tak dalej, przyczyniły się do powstania języka programowania [Perl](https://pl.wikipedia.org/wiki/Perl).\n",
    "\n",
    "Inne powłoki dostępne na komputerze lub dostępne do pobrania i/lub zakupu to [powłoka Almquist](https://en.wikipedia.org/wiki/Almquist_shell) (`ash`), [Windows PowerShell](https://pl.wikipedia.org/wiki/Windows_PowerShell) (`msh`), [powłoka Z](https://pl.wikipedia.org/wiki/Zsh) (`zsh`, szczególnie popularny ulepszony KornShell), [powłoka Tenex C](https://pl.wikipedia.org/wiki/Tcsh) (`tcsh`), powłoka podobna do Perla (`psh`). Powiązane programy, takie jak powłoki oparte na językach programowania [Python](https://pl.wikipedia.org/wiki/Python), [Ruby](https://pl.wikipedia.org/wiki/Ruby_(j%C4%99zyk_programowania)), [C](https://pl.wikipedia.org/wiki/C_(j%C4%99zyk_programowania)), [Java](https://pl.wikipedia.org/wiki/Java), [Perl](https://pl.wikipedia.org/wiki/Perl), [Pascal](https://pl.wikipedia.org/wiki/Pascal_(j%C4%99zyk_programowania)), [REXX](https://pl.wikipedia.org/wiki/REXX) w różnych formach, są również szeroko dostępne. Inną dość powszechną powłoką jest `osh`, której strona podręcznika mówi, że „jest to ulepszony, wstecznie kompatybilny port standardowego interpretera poleceń z szóstego wydania Unix”.\n",
    "\n",
    "Oprogramowanie współdziałające Windows-Unix, takie jak [MKS Toolkit](https://en.wikipedia.org/wiki/MKS_Toolkit), [Cygwin](https://pl.wikipedia.org/wiki/Cygwin), [UWIN](https://en.wikipedia.org/wiki/UWIN), [Interix](https://pl.wikipedia.org/wiki/Interix) i inne, udostępnia powyższe powłoki i programowanie Unix w systemach Windows, zapewniając funkcjonalność aż do sygnałów i innej [komunikacji między-procesorowej](https://pl.wikipedia.org/wiki/Komunikacja_mi%C4%99dzyprocesowa), [wywołań systemowych](https://pl.wikipedia.org/wiki/Wywo%C5%82anie_systemowe) i [interfejsów programowania aplikacji (API)](https://pl.wikipedia.org/wiki/Interfejs_programowania_aplikacji). [Powłoka Hamilton C](https://en.wikipedia.org/wiki/Hamilton_C_shell) jest powłoką systemu Windows, która jest bardzo podobna do powłoki Unix C. Microsoft dystrybuuje [usługi Windows dla systemu UNIX](https://en.wikipedia.org/wiki/Windows_Services_for_UNIX) do użytku w szczególności z jego systemami operacyjnymi opartymi na NT, które mają [podsystem środowiskowy](https://en.wikipedia.org/wiki/Environmental_subsystem) POSIX."
   ]
  },
  {
   "cell_type": "markdown",
   "metadata": {},
   "source": [
    "### Filozofia\n",
    "\n",
    "Programowanie skryptów powłoki ma nieco złą opinię wśród niektórych administratorów systemów uniksowych, a ostatnio wśród profesjonalnych programistów, ponieważ wymagania współczesnego przemysłu oprogramowania w coraz większym stopniu zależą od funkcji skryptów powłoki.\n",
    "\n",
    "Wady programowania powłoki zwykle dzielą się na jedną z dwóch kategorii:\n",
    "\n",
    "1. Prędkość\\\n",
    "Niska szybkość działania zinterpretowanego programu powłoki w porównaniu z programem w języku C, programem w języku Java, a nawet z interpretowanym programem w języku Perl, Go, Rust, Ruby, Node.js, Python.\n",
    "1. Jakość\\\n",
    "Ponieważ łatwo jest napisać prosty skrypt powłoki typu zadania wsadowego, istnieje wiele skryptów powłoki niskiej jakości. Ułatwia to również zasugerowanie, że wszystkie skrypty powłoki są złe.\n",
    "\n",
    "Dlatego bardzo przydatna jest możliwość tworzenia *dobrych* skryptów powłoki. Skrypty, które można wykorzystać do wdrożeń, transformacji danych, wydajnej obsługi plików lub efektywnej manipulacji niskopoziomowymi szczegółami maszyny, sieci lub systemu operacyjnego - do których program Java, Python lub Go nie miałby dostępu tak łatwo lub tak wydajnie. Łączenie różnych części potoku kompilacji w kilku wierszach skryptu powłoki jest szybkie, efektywne i umożliwia wykonanie zadania tam, gdzie inne narzędzia nie są w stanie sprostać zadaniu.\n",
    "\n",
    "Istnieje wiele czynników, które mogą mieć wpływ na dobre, czyste, szybkie skrypty powłoki.\n",
    "\n",
    "1. Formatowanie\\\n",
    "Najważniejszymi kryteriami dla każdego kodu musi być przejrzysty, czytelny układ. Odnosi się to do wszystkich języków, ale ponownie tam, gdzie główne języki są obsługiwane przez rozbudowane środowiska IDE, wiele skryptów powłoki jest napisanych w znacznie mniej wyrozumiałych edytorach, więc to na skrypcie spoczywa obowiązek upewnienia się, że kod jest dobrze przedstawiony. Źle sformatowany kod jest o wiele trudniejszy w utrzymaniu niż dobrze sformatowany kod.\\\n",
    "Wydaje się, że coś w skryptach powłoki sprawia, że szczególnie prawdopodobne jest, że są one źle wcięte, a ponieważ główne struktury kontrolne to if/then/else i pętle, wcięcia są krytyczne dla zrozumienia, co robi skrypt. Ponownie, „właściwy” programista prawdopodobnie używa potężnego, ale skomplikowanego IDE, podczas gdy wiele skryptów powłoki jest napisanych w edytorach typu `nano` czy `vim`.\n",
    "1. Wydajność\\\n",
    "Łatwo wpaść w pułapkę używania niepotrzebnych poleceń. Powłoka nie jest szybkim ani wydajnym procesorem własnego języka i nie ma kompilatora, który reinterpretowałby Twoje zamiary w najbardziej wydajną implementację, więc kilka drobnych zmian w skrypcie może często spowodować ogromną różnicę (dobrą lub złą) w wydajności kodu.\n",
    "\n",
    "Przejrzysty układ sprawia, że skrypt powłoki może wyglądać jak „czarna magia” albo jest takim, który jest łatwy do utrzymania i zrozumienia.\\\n",
    "Możesz myśleć, że przy prostym skrypcie nie jest to zbyt poważny problem, ale warto pamiętać o dwóch rzeczach.\n",
    "\n",
    "1. Pełzanie funkcji\\\n",
    "Po pierwsze, prosty skrypt - częściej niż przewidywano - przerodzi się w duży, złożony.\n",
    "2. Konserwowalność\\\n",
    "Po drugie, jeśli nikt inny nie może zrozumieć, jak to działa, możesz utknąć w utrzymywaniu go samodzielnie do końca życia!\n",
    "\n",
    "Tak więc skromny skrypt powłoki ma wiele przeszkód na swojej drodze, ale nadal jest przydatny. Musimy więc nauczyć się go dobrze używać, w ramach jego własnych ograniczeń. Nie obsługuje z wdziękiem wielowymiarowych tablic, ale poradzi sobie łatwo z przekierowaniem we/wy. Będzie natomiast zarządzać wielozadaniowością i kontrolą pracy w sposób, o którym bardziej złożone języki nigdy nie mogą marzyć. Jednak jego zdolność do obsługi wielobajtowych liczb całkowitych jest bardzo słaba. Musimy więc nauczyć się powłoki i zrozumieć to, w czym się wyróżnia, zawsze wybierając najlepsze narzędzie do wykonywanej pracy, pamiętając, że jest wiele rzeczy, które najlepiej wykonać innymi narzędziami."
   ]
  },
  {
   "cell_type": "markdown",
   "metadata": {},
   "source": [
    "### Pierwszy skrypt\n",
    "\n",
    "Dla naszego pierwszego skryptu powłoki napiszemy po prostu skrypt z napisem „Hello World”. Następnie postaramy się wyciągnąć więcej z programu Hello World niż z jakiegokolwiek innego samouczka, jaki kiedykolwiek czytałeś :-) Użyj prostego edytora tekstu (ale nie procesora tekstu), aby utworzyć zwykły plik tekstowy o nazwie `first.sh` z taką zawartością (lub pobierz go z linku poniżej):\n",
    "\n",
    "[`first.sh`](https://github.com/miklesz/CodeBrainers/blob/master/Unix_Shell_Git/first.sh)\n",
    "\n",
    "```sh\n",
    "#!/bin/sh\n",
    "# To jest komentarz!\n",
    "echo Hello World\t# To też jest komentarz!\n",
    "```\n",
    "\n",
    "Pierwsza linia mówi Uniksowi, że plik ma być wykonany przez `/bin/sh`. Jest to standardowa lokalizacja powłoki kompatybilnej z Bourne w prawie każdym systemie typu Unix. Jeśli używasz systemu GNU/Linux, `/bin/sh` jest zwykle dowiązaniem symbolicznym do powłoki `bash` lub prawdopodobnie `dash`. Przyjrzymy się `#!` za chwilę.\n",
    "\n",
    "Druga linia zaczyna się specjalnym symbolem: `#`. Oznacza to wiersz jako komentarz i jest całkowicie ignorowany przez powłokę.\\\n",
    "Jedynym wyjątkiem jest sytuacja, gdy *pierwsza* linia pliku zaczyna się od znaku `#!` ... jak nasz. Jest to specjalna dyrektywa, którą Unix traktuje specjalnie. Oznacza to, że nawet jeśli używasz csh, ksh lub czegokolwiek innego jako powłoki interaktywnej, to co następuje, powinno być zinterpretowane przez powłokę Bourne'a.\\\n",
    "Podobnie, skrypt Perla może zaczynać się od linii `#!/usr/bin/perl`, aby poinformować Twoją interaktywną powłokę, że program, który następuje, powinien być wykonywany przez Perl. W przypadku programowania powłoki Bourne'a będziemy trzymać się `#!/bin/sh`.\n",
    "\n",
    "Trzecia linia uruchamia polecenie: `echo`, z dwoma parametrami lub argumentami - pierwsza to `Hello`; drugi to `World`.\\\n",
    "Zauważ, że `echo` automatycznie umieści pojedynczą spację między parametrami.\n",
    "Symbol `#` w linii 3 nadal oznacza komentarz; `#` i wszystko po nim (aż do końca wiersza) jest ignorowane przez powłokę.\n",
    "\n",
    "Teraz uruchom najpierw `chmod +x first.sh`, aby plik tekstowy był wykonywalny, a następnie uruchom `./first.sh`.\\\n",
    "Twój ekran powinien wtedy wyglądać następująco:"
   ]
  },
  {
   "cell_type": "code",
   "execution_count": 1,
   "metadata": {},
   "outputs": [],
   "source": [
    "chmod +x first.sh"
   ]
  },
  {
   "cell_type": "code",
   "execution_count": 2,
   "metadata": {},
   "outputs": [
    {
     "name": "stdout",
     "output_type": "stream",
     "text": [
      "Hello World\n"
     ]
    }
   ],
   "source": [
    "./first.sh"
   ]
  },
  {
   "cell_type": "markdown",
   "metadata": {},
   "source": [
    "Prawdopodobnie się tego spodziewałeś/spodziewałaś! Nawet wystarczy uruchomić:"
   ]
  },
  {
   "cell_type": "code",
   "execution_count": 3,
   "metadata": {},
   "outputs": [
    {
     "name": "stdout",
     "output_type": "stream",
     "text": [
      "Hello World\n"
     ]
    }
   ],
   "source": [
    "echo Hello World"
   ]
  },
  {
   "cell_type": "markdown",
   "metadata": {},
   "source": [
    "Ale teraz wprowadźmy kilka zmian."
   ]
  },
  {
   "cell_type": "markdown",
   "metadata": {},
   "source": [
    "#### Wprowadzanie zmian\n",
    "\n",
    "Najlepszym sposobem, aby się czegoś dowiedzieć, jest to zmienić, szturchnąć i zobaczyć, co się stanie.\n",
    "\n",
    "Po pierwsze, zauważ, że `echo` umieszcza JEDNĄ spację między parametrami. Pomiędzy `„Hello”` i `„World”` wstaw kilka spacji. Jaki będzie wynik? A co z umieszczeniem między nimi znaku TAB?\\\n",
    "Jak zawsze w przypadku programowania powłoki, wypróbuj to i zobacz."
   ]
  },
  {
   "cell_type": "code",
   "execution_count": 4,
   "metadata": {},
   "outputs": [
    {
     "name": "stdout",
     "output_type": "stream",
     "text": [
      "Hello World\n"
     ]
    }
   ],
   "source": [
    "echo Hello        World"
   ]
  },
  {
   "cell_type": "markdown",
   "metadata": {},
   "source": [
    "Wynik jest dokładnie taki sam! Wywołujemy program `echo` z dwoma argumentami. Teraz ponownie zmodyfikuj kod:"
   ]
  },
  {
   "cell_type": "code",
   "execution_count": 5,
   "metadata": {},
   "outputs": [
    {
     "name": "stdout",
     "output_type": "stream",
     "text": [
      "Hello      World\n"
     ]
    }
   ],
   "source": [
    "#!/bin/sh\n",
    "# To jest komentarz!\n",
    "echo \"Hello      World\"       # To też jest komentarz!"
   ]
  },
  {
   "cell_type": "markdown",
   "metadata": {},
   "source": [
    "Tym razem to działa. Prawdopodobnie tego też się spodziewałeś/spodziewałaś, jeśli masz doświadczenie z innymi językami programowania. Ale kluczem do zrozumienia, co się dzieje z bardziej złożonymi poleceniami i skryptami powłoki, jest zrozumienie i umiejętność wyjaśnienia: DLACZEGO?\\\n",
    "`echo` zostało teraz wywołane tylko z JEDNYM argumentem - łańcuchem `\"Hello      World\"`. Drukuje to dokładnie.\\\n",
    "Należy tutaj zrozumieć, że powłoka analizuje argumenty PRZED przekazaniem ich do wywoływanego programu. W tym przypadku usuwa cudzysłowy, ale przekazuje ciąg jako jeden argument.\\\n",
    "Jako ostatni przykład wpisz następujący skrypt. Spróbuj przewidzieć wynik, zanim go uruchomisz:\n",
    "\n",
    "[`first2.sh`](https://github.com/miklesz/CodeBrainers/blob/master/Unix_Shell_Git/first2.sh)"
   ]
  },
  {
   "cell_type": "code",
   "execution_count": 6,
   "metadata": {
    "scrolled": true
   },
   "outputs": [
    {
     "name": "stdout",
     "output_type": "stream",
     "text": [
      "Hello      World\n",
      "Hello World\n",
      "Hello * World\n",
      "Hello Git - GitHub Desktop.ipynb Git - konspekt, Git.ipynb Unix Shell - konspekt, Unix, zmienne środowiskowe.ipynb Unix Shell - skrypty powłoki.ipynb Untitled folder a first.sh first2.sh for.sh for2.sh index.html myfile myvar2.sh nowyplik.txt pierwszy.txt plik.txt user.sh var.sh var2.sh while.sh while2.sh while3a.sh while3b.sh World\n",
      "Hello World\n",
      "Hello World\n",
      "Hello       World\n",
      "Hello * World\n",
      "bash: hello: command not found\n",
      "world\n",
      "hello world\n"
     ]
    }
   ],
   "source": [
    "#!/bin/sh\n",
    "# To jest komentarz!\n",
    "echo \"Hello      World\"       # To też jest komentarz!\n",
    "echo \"Hello World\"\n",
    "echo \"Hello * World\"\n",
    "echo Hello * World\n",
    "echo Hello      World\n",
    "echo \"Hello\" World\n",
    "echo Hello \"     \" World\n",
    "echo \"Hello \"*\" World\"\n",
    "echo `hello` world\n",
    "echo 'hello' world"
   ]
  },
  {
   "cell_type": "markdown",
   "metadata": {},
   "source": [
    "Czy wszystko jest zgodne z oczekiwaniami? Jeśli nie, nie martw się! To tylko niektóre z rzeczy, które omówimy w tym kursie ... i tak, będziemy używać potężniejszych poleceń niż `echo`!"
   ]
  },
  {
   "cell_type": "markdown",
   "metadata": {},
   "source": [
    "### Zmienne\n",
    "\n",
    "Prawie każdy istniejący język programowania ma pojęcie *zmiennych* - symboliczną nazwę fragmentu pamięci, do którego możemy przypisywać wartości, czytać i manipulować jego zawartością. Powłoka Bourne'a nie jest wyjątkiem i ta sekcja przedstawia tę ideę.\\\n",
    "Spójrzmy wstecz na nasz pierwszy przykład Hello World. Można to zrobić za pomocą zmiennych (chociaż jest to tak prosty przykład, że nie uzasadnia tego!)\n",
    "Zwróćcie uwagę, że wokół znaku „=” nie może być spacji: `VAR=wartość` działa; `VAR = wartość` nie działa. W pierwszym przypadku powłoka widzi symbol „=” i traktuje polecenie jako przypisanie zmiennej. W drugim przypadku powłoka przyjmuje, że VAR musi być nazwą polecenia i próbuje je wykonać.\n",
    "Jeśli się nad tym zastanowić, ma to sens - jak inaczej można powiedzieć mu, aby uruchomił polecenie VAR z pierwszym argumentem „=”, a drugim argumentem „wartość”?\n",
    "Wprowadź następujący kod do `var.sh`:\n",
    "\n",
    "[`var.sh`](https://github.com/miklesz/CodeBrainers/blob/master/Unix_Shell_Git/var.sh)"
   ]
  },
  {
   "cell_type": "code",
   "execution_count": 7,
   "metadata": {},
   "outputs": [
    {
     "name": "stdout",
     "output_type": "stream",
     "text": [
      "Hello World\n"
     ]
    }
   ],
   "source": [
    "#!/bin/sh\n",
    "MY_MESSAGE=\"Hello World\"\n",
    "echo $MY_MESSAGE"
   ]
  },
  {
   "cell_type": "markdown",
   "metadata": {},
   "source": [
    "Spowoduje to przypisanie ciągu „Hello World” do zmiennej `MY_MESSAGE`, a następnie `echo` wartości tej zmiennej.\\\n",
    "Zauważcie, że potrzebujemy cudzysłowów wokół ciągu Hello World. Podczas gdy z `echo Hello World` mogłoby sie udać, ponieważ echo pobierze dowolną liczbę parametrów, zmienna może przechowywać tylko jedną wartość, więc ciąg znaków ze spacjami musi być cytowany w cudzysłowie, aby powłoka wiedziała, że ma traktować to wszystko jako jedną. W przeciwnym razie powłoka spróbuje wykonać polecenie `World` po przypisaniu `MY_MESSAGE=Hello`.\n",
    "\n",
    "Powłoka nie dba o typy zmiennych; mogą przechowywać łańcuchy, liczby całkowite, liczby rzeczywiste - cokolwiek zechcecie.\\\n",
    "Ludzie przyzwyczajeni do Perla i Pythona mogą być z tego całkowicie zadowoleni; jeśli ktoś uczył się C, Pascala lub co gorsza języka Ada, to dla takiej osoby może się to wydawać dość dziwne.\\\n",
    "Prawdę mówiąc, wszystkie zmienne są przechowywane jako łańcuchy, ale procedury, które oczekują liczby, mogą je jako takie traktować.\\\n",
    "Jeśli przypiszesz ciąg do zmiennej, a następnie spróbujesz dodać 1 do niej, nie ujdzie to na sucho:"
   ]
  },
  {
   "cell_type": "code",
   "execution_count": 9,
   "metadata": {},
   "outputs": [
    {
     "name": "stdout",
     "output_type": "stream",
     "text": [
      "3\n"
     ]
    }
   ],
   "source": [
    "x=2\n",
    "expr $x + 1"
   ]
  },
  {
   "cell_type": "code",
   "execution_count": 11,
   "metadata": {},
   "outputs": [
    {
     "name": "stdout",
     "output_type": "stream",
     "text": [
      "expr: not a decimal number: 'hello'\n"
     ]
    },
    {
     "ename": "",
     "evalue": "2",
     "output_type": "error",
     "traceback": []
    }
   ],
   "source": [
    "x=\"hello\"\n",
    "expr $x + 1"
   ]
  },
  {
   "cell_type": "markdown",
   "metadata": {},
   "source": [
    "Dzieje się tak, ponieważ program zewnętrzny `expr` oczekuje tylko liczb. Ale nie ma różnicy składniowej między żadnymi z tych definicji zmiennych:"
   ]
  },
  {
   "cell_type": "code",
   "execution_count": 12,
   "metadata": {},
   "outputs": [],
   "source": [
    "MY_MESSAGE=\"Hello World\"\n",
    "MY_SHORT_MESSAGE=hi\n",
    "MY_NUMBER=1\n",
    "MY_PI=3.142\n",
    "MY_OTHER_PI=\"3.142\"\n",
    "MY_MIXED=123abc"
   ]
  },
  {
   "cell_type": "code",
   "execution_count": 16,
   "metadata": {},
   "outputs": [
    {
     "name": "stdout",
     "output_type": "stream",
     "text": [
      "2\n"
     ]
    }
   ],
   "source": [
    "expr $MY_NUMBER + 1"
   ]
  },
  {
   "cell_type": "code",
   "execution_count": 14,
   "metadata": {},
   "outputs": [
    {
     "name": "stdout",
     "output_type": "stream",
     "text": [
      "expr: not a decimal number: '3.142'\n"
     ]
    },
    {
     "ename": "",
     "evalue": "2",
     "output_type": "error",
     "traceback": []
    }
   ],
   "source": [
    "expr $MY_PI + 1"
   ]
  },
  {
   "cell_type": "code",
   "execution_count": 15,
   "metadata": {},
   "outputs": [
    {
     "name": "stdout",
     "output_type": "stream",
     "text": [
      "expr: not a decimal number: '3.142'\n"
     ]
    },
    {
     "ename": "",
     "evalue": "2",
     "output_type": "error",
     "traceback": []
    }
   ],
   "source": [
    "expr $MY_OTHER_PI + 1"
   ]
  },
  {
   "cell_type": "code",
   "execution_count": 13,
   "metadata": {},
   "outputs": [
    {
     "name": "stdout",
     "output_type": "stream",
     "text": [
      "expr: not a decimal number: '123abc'\n"
     ]
    },
    {
     "ename": "",
     "evalue": "2",
     "output_type": "error",
     "traceback": []
    }
   ],
   "source": [
    "expr $MY_MIXED + 1"
   ]
  },
  {
   "cell_type": "markdown",
   "metadata": {},
   "source": [
    "Należy jednak pamiętać, że znaki specjalne muszą być odpowiednio chronione, aby uniknąć interpretacji przez powłokę.\n",
    "\n",
    "Możemy interaktywnie ustawiać nazwy zmiennych za pomocą polecenia `read`; poniższy skrypt prosi o podanie imienia, a następnie wita się osobiście:\n",
    "\n",
    "[`var2.sh`](https://github.com/miklesz/CodeBrainers/blob/master/Unix_Shell_Git/var2.sh)\n",
    "\n",
    "```sh\n",
    "#!/bin/sh\n",
    "echo Jak masz na imię?\n",
    "read MY_NAME\n",
    "echo \"Witaj $MY_NAME - mam nadzieję, że wszystko w porządku.\"\n",
    "```"
   ]
  },
  {
   "cell_type": "markdown",
   "metadata": {},
   "source": [
    "Wykorzystuje wbudowane w powłoce polecenie `read`, które wczytuje wiersz ze standardowego wejścia do podanej zmiennej.\\\n",
    "Zwróćcie uwagę, że nawet jeśli podasz swoje pełne imię i nazwisko i nie użyjesz podwójnych cudzysłowów wokół polecenia `echo`, nadal wyświetla poprawnie. Jak to się robi? W przypadku zmiennej `MY_MESSAGE` wcześniej musieliśmy umieścić ją w cudzysłowie, aby ją ustawić.\\\n",
    "Dzieje się tak, że polecenie `read` automatycznie umieszcza cudzysłowy wokół swojego wejścia, dzięki czemu spacje są poprawnie traktowane. (Oczywiście będziesz musiał/musiała zacytować wynik - np. `echo \"$MY_MESSAGE\"`)."
   ]
  },
  {
   "cell_type": "markdown",
   "metadata": {},
   "source": [
    "#### Zakres zmiennych\n",
    "\n",
    "Zmienne w powłoce Bourne'a nie muszą być deklarowane, jak to ma miejsce w językach takich jak C. Ale jeśli spróbujesz odczytać niezadeklarowaną zmienną, wynikiem jest pusty ciąg. Nie otrzymasz żadnych ostrzeżeń ani błędów. Może powodować subtelne błędy - jeśli przypiszesz:"
   ]
  },
  {
   "cell_type": "code",
   "execution_count": 17,
   "metadata": {},
   "outputs": [],
   "source": [
    "MY_OBFUSCATED_VARIABLE=Witaj"
   ]
  },
  {
   "cell_type": "markdown",
   "metadata": {},
   "source": [
    "i wtedy:"
   ]
  },
  {
   "cell_type": "code",
   "execution_count": 18,
   "metadata": {},
   "outputs": [
    {
     "name": "stdout",
     "output_type": "stream",
     "text": [
      "\n"
     ]
    }
   ],
   "source": [
    "echo $MY_OSFUCATED_VARIABLE"
   ]
  },
  {
   "cell_type": "markdown",
   "metadata": {},
   "source": [
    "Wtedy nic nie dostaniesz (ponieważ druga OBFUSCATED jest błędnie napisana).\n",
    "\n",
    "Istnieje polecenie o nazwie `export`, które ma rzeczywisty wpływ na zakres zmiennych. Aby wiedzieć, co się dzieje z Waszymi zmiennymi, musicie zrozumieć, jak to jest używane.\n",
    "\n",
    "Utwórz mały skrypt powłoki, `myvar2.sh`:\n",
    "\n",
    "[`myvar2.sh`](https://github.com/miklesz/CodeBrainers/blob/master/Unix_Shell_Git/myvar2.sh)\n",
    "\n",
    "```sh\n",
    "#!/bin/sh\n",
    "echo \"MYVAR to: $MYVAR\"\n",
    "MYVAR=\"cześć\"\n",
    "echo \"MYVAR to: $MYVAR\"\n",
    "```"
   ]
  },
  {
   "cell_type": "markdown",
   "metadata": {},
   "source": [
    "Teraz uruchom skrypt:"
   ]
  },
  {
   "cell_type": "code",
   "execution_count": 19,
   "metadata": {},
   "outputs": [
    {
     "name": "stdout",
     "output_type": "stream",
     "text": [
      "MYVAR to: \n",
      "MYVAR to: cześć\n"
     ]
    }
   ],
   "source": [
    "./myvar2.sh"
   ]
  },
  {
   "cell_type": "markdown",
   "metadata": {},
   "source": [
    "`MYVAR` nie został ustawiony na żadną wartość, więc jest pusty. Następnie nadajemy mu wartość i daje oczekiwany wynik.\\\n",
    "Teraz uruchom:"
   ]
  },
  {
   "cell_type": "code",
   "execution_count": 23,
   "metadata": {},
   "outputs": [
    {
     "name": "stdout",
     "output_type": "stream",
     "text": [
      "MYVAR to: hello\n",
      "MYVAR to: cześć\n"
     ]
    }
   ],
   "source": [
    "MYVAR=hello\n",
    "echo \"MYVAR to: $MYVAR\"\n",
    "MYVAR=\"cześć\"\n",
    "echo \"MYVAR to: $MYVAR\""
   ]
  },
  {
   "cell_type": "code",
   "execution_count": 24,
   "metadata": {},
   "outputs": [
    {
     "name": "stdout",
     "output_type": "stream",
     "text": [
      "MYVAR to: \n",
      "MYVAR to: cześć\n"
     ]
    }
   ],
   "source": [
    "MYVAR=hello\n",
    "./myvar2.sh"
   ]
  },
  {
   "cell_type": "markdown",
   "metadata": {},
   "source": [
    "Nadal nie zostało ustawione! Co się dzieje?!\\\n",
    "Kiedy wywołujesz `myvar2.sh` z interaktywnej powłoki, pojawia się nowa powłoka, która uruchamia skrypt. Częściowo jest to spowodowane linią `#!/bin/sh` na początku skryptu, o której rozmawialiśmy wcześniej.\\\n",
    "Musimy zrobić `export` zmiennej, aby została odziedziczona przez inny program - w tym skrypt powłoki. Wpisz:"
   ]
  },
  {
   "cell_type": "code",
   "execution_count": 25,
   "metadata": {},
   "outputs": [
    {
     "name": "stdout",
     "output_type": "stream",
     "text": [
      "MYVAR to: hello\n",
      "MYVAR to: cześć\n"
     ]
    }
   ],
   "source": [
    "export MYVAR\n",
    "./myvar2.sh"
   ]
  },
  {
   "cell_type": "markdown",
   "metadata": {},
   "source": [
    "Teraz spójrzcie na linię 3 skryptu: to zmienia wartość `MYVAR`. Ale nie ma sposobu, aby to zostało przekazane z powrotem do Waszej interaktywnej powłoki. Spróbujcie odczytać wartość `MYVAR`:"
   ]
  },
  {
   "cell_type": "code",
   "execution_count": 26,
   "metadata": {},
   "outputs": [
    {
     "name": "stdout",
     "output_type": "stream",
     "text": [
      "hello\n"
     ]
    }
   ],
   "source": [
    "echo $MYVAR"
   ]
  },
  {
   "cell_type": "markdown",
   "metadata": {},
   "source": [
    "Po zakończeniu działania skryptu powłoki jego środowisko zostaje zniszczone. Ale `MYVAR` zachowuje swoją wartość `hello` w Waszej interaktywnej powłoce.\\\n",
    "Aby otrzymać zmiany środowiskowe z powrotem ze skryptu, musimy *pozyskać* (ang. *to source*) skrypt - to skutecznie uruchamia skrypt w naszej własnej interaktywnej powłoce, zamiast tworzyć inną powłokę, aby go uruchomić.\\\n",
    "Możemy *pozyskać* skrypt przez \"`.`\" (kropka) polecenie:"
   ]
  },
  {
   "cell_type": "code",
   "execution_count": 27,
   "metadata": {},
   "outputs": [
    {
     "name": "stdout",
     "output_type": "stream",
     "text": [
      "hello\n"
     ]
    }
   ],
   "source": [
    "MYVAR=hello\n",
    "echo $MYVAR"
   ]
  },
  {
   "cell_type": "code",
   "execution_count": 28,
   "metadata": {},
   "outputs": [
    {
     "name": "stdout",
     "output_type": "stream",
     "text": [
      "MYVAR to: hello\n",
      "MYVAR to: cześć\n"
     ]
    }
   ],
   "source": [
    ". ./myvar2.sh"
   ]
  },
  {
   "cell_type": "code",
   "execution_count": 29,
   "metadata": {},
   "outputs": [
    {
     "name": "stdout",
     "output_type": "stream",
     "text": [
      "cześć\n"
     ]
    }
   ],
   "source": [
    "echo $MYVAR"
   ]
  },
  {
   "cell_type": "markdown",
   "metadata": {},
   "source": [
    "Zmiana ponownie dotarła do naszej powłoki! Tak działa na przykład plik `.profile` lub `.bash_profile`.\\\n",
    "Zwróć uwagę, że w tym przypadku nie musimy zrobić `export MYVAR`.\n",
    "\n",
    "Inną rzeczą, o której warto w tym miejscu wspomnieć o zmiennych, jest rozważenie następującego skryptu powłoki:\n",
    "\n",
    "```sh\n",
    "#!/bin/sh\n",
    "echo \"Jak masz na imię?\"\n",
    "read USER_NAME\n",
    "echo \"Witaj $USER_NAME\"\n",
    "echo \"Utworzę plik o nazwie $USER_NAME_plik\"\n",
    "touch $USER_NAME_plik\n",
    "```"
   ]
  },
  {
   "cell_type": "markdown",
   "metadata": {},
   "source": [
    "Zastanówcie się, jakiego wyniku możecie się spodziewać. Na przykład, jeśli wpiszecie „stefan” jako swój USER_NAME, czy skrypt powinien utworzyć `stefan_plik`?\\\n",
    "Właściwie nie. Spowoduje to błąd, chyba że istnieje zmienna o nazwie `USER_NAME_plik`. Powłoka nie wie, gdzie kończy się zmienna, a zaczyna się reszta. Jak możemy to zdefiniować?\\\n",
    "Odpowiedź jest taka, że samą zmienną umieszczamy w *nawiasach klamrowych*:\n",
    "\n",
    "[`user.sh`](https://github.com/miklesz/CodeBrainers/blob/master/Unix_Shell_Git/user.sh)\n",
    "\n",
    "```sh\n",
    "#!/bin/sh\n",
    "echo \"Jak masz na imię?\"\n",
    "read USER_NAME\n",
    "echo \"Witaj $USER_NAME\"\n",
    "echo \"Utworzę plik o nazwie ${USER_NAME}_plik\"\n",
    "touch \"${USER_NAME}_plik\"\n",
    "```"
   ]
  },
  {
   "cell_type": "markdown",
   "metadata": {},
   "source": [
    "Powłoka wie teraz, że odnosimy się do zmiennej `USER_NAME` i chcemy, aby była ona poprzedzona sufiksem „`_plik`”. Może to być przyczyną wpadek wielu nowych programistów skryptów powłoki, ponieważ źródło problemu może być trudne do wyśledzenia.\n",
    "\n",
    "Zwróćcie również uwagę na cudzysłowy wokół `\"${USER_NAME}_plik\"` - jeśli użytkownik wprowadziłby „Stefan Gajowy” (zwróćcie uwagę na spację), to bez cudzysłowów argumentami przekazanymi do `touch` byłyby `Stefan` i `Gajowy_plik` - to znaczy faktycznie wykonywalibyśmy `touch Stefan Gajowy_plik`, czyli dwa pliki do dotknięcia (`touch`), a nie jeden. Cudzysłowy tego unikają."
   ]
  },
  {
   "cell_type": "markdown",
   "metadata": {},
   "source": [
    "### Symbole wieloznaczne\n",
    "\n",
    "Symbole wieloznaczne nie są niczym nowym, jeśli w ogóle używaliście Uniksa.\\\n",
    "Jednak niekoniecznie jest oczywiste, jak są one przydatne w skryptach powłoki. Ta sekcja ma na celu skłonienie starych szarych komórek do myślenia o tym, jak wyglądają rzeczy, gdy jesteście w skrypcie powłoki - przewidując efekt użycia różnych składni. Będzie używany później, szczególnie w sekcji Pętle.\\\n",
    "Pomyślcie najpierw, jak skopiować wszystkie pliki z `/tmp/a` do `/tmp/b`. Wszystkie pliki `.txt`? Wszystkie pliki `.html`?\\\n",
    "Miejmy nadzieję, że wymyślicie:\n",
    "\n",
    "```sh\n",
    "$ cp /tmp/a/* /tmp/b/\n",
    "$ cp /tmp/a/*.txt /tmp/b/\n",
    "$ cp /tmp/a/*.html /tmp/b/\n",
    "```"
   ]
  },
  {
   "cell_type": "markdown",
   "metadata": {},
   "source": [
    "W jaki sposób można by wyświetlić listę plików w `/tmp/` bez użycia:"
   ]
  },
  {
   "cell_type": "code",
   "execution_count": 30,
   "metadata": {},
   "outputs": [
    {
     "name": "stdout",
     "output_type": "stream",
     "text": [
      "aciseposture.pid\t\tfc0076fecfa213d5\n",
      "boost_interprocess\t\tfc0076fecfa249ae\n",
      "com.apple.launchd.8q1At9cf2M\tfc0076fecfa296e4\n",
      "com.apple.launchd.d5iFbmegel\tfc0076fecfa2dcd2\n",
      "com.google.Keystone\t\tfc0076fecfa3214f\n",
      "devio_semaphore_devio_0xb503\tfc0076fecfa35071\n",
      "drivefs_ipc.501\t\t\tfc0076fecfa386c2\n",
      "drivefs_ipc.501_shell\t\tfc0076fecfa3c752\n",
      "ev-FyvCkc\t\t\tfc0076fecfa3fd5f\n",
      "ev-ygaIC4\t\t\tfc0076fecfa430d3\n",
      "fc0076fecd3399a4\t\tfc0076fecfa473f4\n",
      "fc0076fecd3425be\t\tfc0076fecfa4aa8b\n",
      "fc0076fecd35aae6\t\tfc0076fecfa4dc45\n",
      "fc0076fecd360c4a\t\tfc0076fecfa51f1c\n",
      "fc0076fecd36c431\t\tfc0076fecfa55319\n",
      "fc0076fecd37da28\t\tfc0076fecfa58383\n",
      "fc0076fecd390fe4\t\tfc0076fecfa5c754\n",
      "fc0076fecd3a1cc6\t\tfc0076fecfa5fd75\n",
      "fc0076fecd3b88e5\t\tfc0076fecfa682a0\n",
      "fc0076fecd3e1e26\t\tfc0076fecfa6c935\n",
      "fc0076fecd403e15\t\tfc0076fecfa7037b\n",
      "fc0076fecd440075\t\tfc0076fecfa74838\n",
      "fc0076fecd455dbb\t\tfc0076fecfa77f6c\n",
      "fc0076fecd46b330\t\tfc0076fecfa7c58a\n",
      "fc0076fecd47adb9\t\tfc0076fecfa8015f\n",
      "fc0076fecd486144\t\tfc0076fecfa83793\n",
      "fc0076fecd48d66c\t\tfc0076fecfa87cac\n",
      "fc0076fecd494fdc\t\tfc0076fecfa8b7f2\n",
      "fc0076fecd49a418\t\tfc0076fecfa90a3a\n",
      "fc0076fecd4a1bc1\t\tfc0076fecfa96285\n",
      "fc0076fecd4a8b0b\t\tfc0076fecfa9b641\n",
      "fc0076fecd4ae46d\t\tfc0076fecfa9e62c\n",
      "fc0076fecd4b5616\t\tfc0076fecfaa3d1f\n",
      "fc0076fecd4bd12d\t\tfc0076fecfaade14\n",
      "fc0076fecd4c3a41\t\tfc0076fecfab7b1c\n",
      "fc0076fecd4ca311\t\tfc0076fecfac193e\n",
      "fc0076fecd4d2198\t\tfc0076fecfaca04a\n",
      "fc0076fecd4da194\t\tfc0076fecfacf849\n",
      "fc0076fecd4df8e0\t\tfc0076fecfad6aa0\n",
      "fc0076fecd4e6c63\t\tfc0076fecfadda5b\n",
      "fc0076fecd4ece31\t\tfc0076fecfae7692\n",
      "fc0076fecd4f392a\t\tfc0076fecfaf0735\n",
      "fc0076fecd4fbeb0\t\tfc0076fecfaf7e02\n",
      "fc0076fecd5021f0\t\tfc0076fecfaffc41\n",
      "fc0076fecd50f27a\t\tfc0076fecfb08b6d\n",
      "fc0076fecd519024\t\tfc0076fecfb147af\n",
      "fc0076fecd521798\t\tfc0076fecfb1dbc3\n",
      "fc0076fecd531625\t\tfc0076fecfb27377\n",
      "fc0076fecd53df89\t\tfc0076fecfb30a44\n",
      "fc0076fecd5432ff\t\tfc0076fecfb3a858\n",
      "fc0076fecd54bc23\t\tfc0076fecfb43db2\n",
      "fc0076fecd5560b5\t\tfc0076fecfb4df59\n",
      "fc0076fecd563d63\t\tfc0076fecfb57850\n",
      "fc0076fecd58ab07\t\tfc0076fecfb60da3\n",
      "fc0076fecd5bc5c5\t\tfc0076fecfb6a1ac\n",
      "fc0076fecd5e11bd\t\tfc0076fecfb75375\n",
      "fc0076fecd5ede2d\t\tfc0076fecfb7d6e6\n",
      "fc0076fecd5f5043\t\tfc0076fecfb86c45\n",
      "fc0076fecd5fdc95\t\tfc0076fecfb910f0\n",
      "fc0076fecd607c1b\t\tfc0076fecfb9adcb\n",
      "fc0076fecd610f34\t\tfc0076fecfba5d56\n",
      "fc0076fecd616b1a\t\tfc0076fecfbafdd8\n",
      "fc0076fecd62069a\t\tfc0076fecfbb9969\n",
      "fc0076fecd628a24\t\tfc0076fecfbc3faa\n",
      "fc0076fecd62f89e\t\tfc0076fecfbcd695\n",
      "fc0076fecd641fc1\t\tfc0076fecfbd7487\n",
      "fc0076fecd64d6dc\t\tfc0076fecfbe09c3\n",
      "fc0076fecd65a0c3\t\tfc0076fecfbe9c50\n",
      "fc0076fecd663a5c\t\tfc0076fecfbf3b3c\n",
      "fc0076fecd66c1bc\t\tfc0076fecfbfd804\n",
      "fc0076fecd673b3c\t\tfc0076fecfc07323\n",
      "fc0076fecd67d46f\t\tfc0076fecfc10dcc\n",
      "fc0076fecd687d1d\t\tfc0076fecfc1a7c3\n",
      "fc0076fecd68db2e\t\tfc0076fecfc23cd3\n",
      "fc0076fecd695196\t\tfc0076fecfc30036\n",
      "fc0076fecd69bd35\t\tfc0076fecfc37385\n",
      "fc0076fecd6a1b9e\t\tfc0076fecfc417ef\n",
      "fc0076fecd6a8a6f\t\tfc0076fecfc4b2b9\n",
      "fc0076fecd6af500\t\tfc0076fecfc54de9\n",
      "fc0076fecd6b6965\t\tfc0076fecfc5e724\n",
      "fc0076fecd6bd1be\t\tfc0076fecfc6783b\n",
      "fc0076fecd6c4fd5\t\tfc0076fecfc7136d\n",
      "fc0076fecd6cd988\t\tfc0076fecfc7b57a\n",
      "fc0076fecd6d3dbd\t\tfc0076fecfc8561c\n",
      "fc0076fecd6e36ec\t\tfc0076fecfc8ef59\n",
      "fc0076fecd6e9bf3\t\tfc0076fecfc988a3\n",
      "fc0076fecd6f0369\t\tfc0076fecfca2016\n",
      "fc0076fecd6f7bb2\t\tfc0076fecfcab5c1\n",
      "fc0076fecd6fcff2\t\tfc0076fecfcb52c8\n",
      "fc0076fecd703896\t\tfc0076fecfcbf67b\n",
      "fc0076fecd70b0a3\t\tfc0076fecfcc986b\n",
      "fc0076fecd7116b3\t\tfc0076fecfcd51ed\n",
      "fc0076fecd7178f8\t\tfc0076fecfcdef5a\n",
      "fc0076fecd71f73f\t\tfc0076fecfce8e60\n",
      "fc0076fecd726209\t\tfc0076fecfcf2b7e\n",
      "fc0076fecd72befd\t\tfc0076fecfcfc8c4\n",
      "fc0076fecd7337b2\t\tfc0076fecfd05fb8\n",
      "fc0076fecd739ab0\t\tfc0076fecfd0f7a2\n",
      "fc0076fecd73fb44\t\tfc0076fecfd18ebc\n",
      "fc0076fecd7471f0\t\tfc0076fecfd22b3d\n",
      "fc0076fecd74e4c7\t\tfc0076fecfd2cfaf\n",
      "fc0076fecd7547dc\t\tfc0076fecfd366bf\n",
      "fc0076fecd75c84d\t\tfc0076fecfd404a0\n",
      "fc0076fecd762578\t\tfc0076fecfd49f85\n",
      "fc0076fecd76a862\t\tfc0076fecfd53a8e\n",
      "fc0076fecd7720f2\t\tfc0076fecfd5d873\n",
      "fc0076fecd7780e3\t\tfc0076fecfd6851d\n",
      "fc0076fecd77e35c\t\tfc0076fecfd72064\n",
      "fc0076fecd786626\t\tfc0076fecfd7be40\n",
      "fc0076fecd78cc40\t\tfc0076fecfd8617d\n",
      "fc0076fecd792bc7\t\tfc0076fecfd8f6f9\n",
      "fc0076fecd79a17c\t\tfc0076fecfd99892\n",
      "fc0076fecd7a06e9\t\tfc0076fecfda369c\n",
      "fc0076fecd7a6eea\t\tfc0076fecfdadb53\n",
      "fc0076fecd7ae118\t\tfc0076fecfdb6e25\n",
      "fc0076fecd7b47da\t\tfc0076fecfdc0813\n",
      "fc0076fecd7ba425\t\tfc0076fecfdca5fe\n",
      "fc0076fecd7c1569\t\tfc0076fecfdd5aba\n",
      "fc0076fecd7cb327\t\tfc0076fecfde144b\n",
      "fc0076fecd7d69eb\t\tfc0076fecfdebcb3\n",
      "fc0076fecd7e2147\t\tfc0076fecfdf841a\n",
      "fc0076fecd7ed5a3\t\tfc0076fecfe03433\n",
      "fc0076fecd7f5619\t\tfc0076fecfe0d55b\n",
      "fc0076fecd801f73\t\tfc0076fecfe1971f\n",
      "fc0076fecd80bdfc\t\tfc0076fecfe23a6c\n",
      "fc0076fecd812da2\t\tfc0076fecfe2d54e\n",
      "fc0076fecd81c88b\t\tfc0076fecfe37922\n",
      "fc0076fecd82362e\t\tfc0076fecfe413d4\n",
      "fc0076fecd82b27e\t\tfc0076fecfe4abbf\n",
      "fc0076fecd83617f\t\tfc0076fecfe54940\n",
      "fc0076fecd83efb5\t\tfc0076fecfe5e24a\n",
      "fc0076fecd84629d\t\tfc0076fecfe68043\n",
      "fc0076fecd84efbf\t\tfc0076fecfe72fc0\n",
      "fc0076fecd8559db\t\tfc0076fecfe80050\n",
      "fc0076fecd85c4c1\t\tfc0076fecfe8657a\n",
      "fc0076fecd8649ea\t\tfc0076fecfe8fbe7\n",
      "fc0076fecd86ba68\t\tfc0076fecfe99523\n",
      "fc0076fecd8722ad\t\tfc0076fecfea31d1\n",
      "fc0076fecd87a9a6\t\tfc0076fecfead6c1\n",
      "fc0076fecd882158\t\tfc0076fecfeb6d4b\n",
      "fc0076fecd8883da\t\tfc0076fecfec0987\n",
      "fc0076fecd890178\t\tfc0076fecfec9f5f\n",
      "fc0076fecd89894b\t\tfc0076fecfed3606\n",
      "fc0076fecd8a073c\t\tfc0076fecfedcf18\n",
      "fc0076fecd8a729c\t\tfc0076fecfee6e3a\n",
      "fc0076fecd8aec3a\t\tfc0076fecfef0cfb\n",
      "fc0076fecd8b61e8\t\tfc0076fecfefb139\n",
      "fc0076fecd8bcbc4\t\tfc0076fecff05300\n",
      "fc0076fecd8c3af0\t\tfc0076fecff0f148\n",
      "fc0076fecd8ca968\t\tfc0076fecff1a2bf\n",
      "fc0076fecd8d0219\t\tfc0076fecff24333\n",
      "fc0076fecd8d7b9d\t\tfc0076fecff2dad1\n",
      "fc0076fecd8e03fb\t\tfc0076fecff36d95\n",
      "fc0076fecd8e65cb\t\tfc0076fecff416aa\n",
      "fc0076fecd8ed72b\t\tfc0076fecff4b7fb\n",
      "fc0076fecd8f61a9\t\tfc0076fecff5800f\n",
      "fc0076fecd8fb8a0\t\tfc0076fecff61fc7\n",
      "fc0076fecd90435e\t\tfc0076fecff6d702\n",
      "fc0076fecd90cfe0\t\tfc0076fecff77661\n",
      "fc0076fecd9129fb\t\tfc0076fecff82fc2\n",
      "fc0076fecd919f2a\t\tfc0076fecff8e140\n",
      "fc0076fecd921cb3\t\tfc0076fecff99396\n",
      "fc0076fecd927bda\t\tfc0076fecffa41c3\n",
      "fc0076fecd92de07\t\tfc0076fecffaec71\n",
      "fc0076fecd93596f\t\tfc0076fecffb9a92\n",
      "fc0076fecd93c426\t\tfc0076fecffc43cf\n",
      "fc0076fecd942274\t\tfc0076fecffcede3\n",
      "fc0076fecd9494d9\t\tfc0076fecffd94b0\n",
      "fc0076fecd95088d\t\tfc0076fecffe4268\n",
      "fc0076fecd958136\t\tfc0076fecfff14e8\n",
      "fc0076fecd95fe3e\t\tfc0076fecfffb4da\n",
      "fc0076fecd9667c1\t\tfc0076fed00062d0\n",
      "fc0076fecd96be55\t\tfc0076fed000fa65\n",
      "fc0076fecd97679c\t\tfc0076fed001b6e4\n",
      "fc0076fecd97da0d\t\tfc0076fed002608e\n",
      "fc0076fecd98404e\t\tfc0076fed0031413\n",
      "fc0076fecd98a8de\t\tfc0076fed003c30b\n",
      "fc0076fecd991c2f\t\tfc0076fed0047c51\n",
      "fc0076fecd998a5d\t\tfc0076fed005280b\n",
      "fc0076fecd9a902f\t\tfc0076fed005c172\n",
      "fc0076fecd9b0799\t\tfc0076fed0066a63\n",
      "fc0076fecd9bb817\t\tfc0076fed0071042\n",
      "fc0076fecd9c5a13\t\tfc0076fed007c0df\n",
      "fc0076fecd9cdeae\t\tfc0076fed00860cd\n",
      "fc0076fecd9d8f90\t\tfc0076fed0091114\n",
      "fc0076fecd9e4a5d\t\tfc0076fed009abd6\n",
      "fc0076fecd9ece64\t\tfc0076fed00a5a05\n",
      "fc0076fecd9f788c\t\tfc0076fed00b11e1\n",
      "fc0076fecda02ccf\t\tfc0076fed00bbddf\n",
      "fc0076fecda0a681\t\tfc0076fed00c5b30\n",
      "fc0076fecda14ad3\t\tfc0076fed00d0fe2\n",
      "fc0076fecda26118\t\tfc0076fed00da853\n",
      "fc0076fecda3220e\t\tfc0076fed00e53ed\n",
      "fc0076fecda3cac5\t\tfc0076fed00eec50\n",
      "fc0076fecda4c834\t\tfc0076fed00f9ce7\n",
      "fc0076fecda542b1\t\tfc0076fed01037c4\n",
      "fc0076fecda636b0\t\tfc0076fed010dcd7\n",
      "fc0076fecda6ca3d\t\tfc0076fed011fdb9\n",
      "fc0076fecda76f83\t\tfc0076fed012a44f\n",
      "fc0076fecda81af3\t\tfc0076fed0134b96\n",
      "fc0076fecda8ba83\t\tfc0076fed014195e\n",
      "fc0076fecda94163\t\tfc0076fed014c824\n",
      "fc0076fecdaa0426\t\tfc0076fed01572b5\n",
      "fc0076fecdaa99c3\t\tfc0076fed0161e25\n",
      "fc0076fecdab1326\t\tfc0076fed016d009\n",
      "fc0076fecdabdc9c\t\tfc0076fed0178ed9\n",
      "fc0076fecdac4c0b\t\tfc0076fed0184e4e\n",
      "fc0076fecdace37e\t\tfc0076fed018d87c\n",
      "fc0076fecdada99a\t\tfc0076fed0197a08\n",
      "fc0076fecdae5074\t\tfc0076fed01a1740\n",
      "fc0076fecdaf1965\t\tfc0076fed01b1440\n",
      "fc0076fecdb0444f\t\tfc0076fed01baf64\n",
      "fc0076fecdb0d558\t\tfc0076fed01c5a8a\n",
      "fc0076fecdb1e44d\t\tfc0076fed01cf321\n",
      "fc0076fecdb2f21b\t\tfc0076fed01da361\n",
      "fc0076fecdb4ac2a\t\tfc0076fed01e3e0d\n",
      "fc0076fecdb67e1b\t\tfc0076fed01ef9cd\n",
      "fc0076fecdb808f5\t\tfc0076fed01f9b18\n",
      "fc0076fecdb9a787\t\tfc0076fed02047ea\n",
      "fc0076fecdbbb259\t\tfc0076fed020db8c\n",
      "fc0076fecdbcb31a\t\tfc0076fed0218972\n",
      "fc0076fecdbd74c3\t\tfc0076fed022236d\n",
      "fc0076fecdbe8c64\t\tfc0076fed022d273\n",
      "fc0076fecdbf2597\t\tfc0076fed0237be8\n",
      "fc0076fecdc01c3a\t\tfc0076fed02422c0\n",
      "fc0076fecdc1219d\t\tfc0076fed024de76\n",
      "fc0076fecdc19817\t\tfc0076fed0258894\n",
      "fc0076fecdc25156\t\tfc0076fed02629ff\n",
      "fc0076fecdc3aa7c\t\tfc0076fed026d522\n",
      "fc0076fecdc4876d\t\tfc0076fed0277226\n",
      "fc0076fecdc585d4\t\tfc0076fed0283842\n",
      "fc0076fecdc6237b\t\tfc0076fed028d950\n",
      "fc0076fecdc7384c\t\tfc0076fed0298455\n",
      "fc0076fecdc81d91\t\tfc0076fed02a1e58\n"
     ]
    },
    {
     "name": "stdout",
     "output_type": "stream",
     "text": [
      "fc0076fecdc89a63\t\tfc0076fed02ac7f4\n",
      "fc0076fecdc9835c\t\tfc0076fed02b79fa\n",
      "fc0076fecdca484d\t\tfc0076fed02c2af8\n",
      "fc0076fecdcafc03\t\tfc0076fed02cc7da\n",
      "fc0076fecdcc514e\t\tfc0076fed02d76f0\n",
      "fc0076fecdcce134\t\tfc0076fed02e1494\n",
      "fc0076fecdcd8a79\t\tfc0076fed02ec62c\n",
      "fc0076fecdce8f1b\t\tfc0076fed02f6526\n",
      "fc0076fecdcefe5b\t\tfc0076fed0301860\n",
      "fc0076fecdcf8465\t\tfc0076fed030b881\n",
      "fc0076fecdd05a30\t\tfc0076fed0317225\n",
      "fc0076fecdd0c4d1\t\tfc0076fed03224c1\n",
      "fc0076fecdd1cc25\t\tfc0076fed032c280\n",
      "fc0076fecdd27932\t\tfc0076fed0336a71\n",
      "fc0076fecdd3185e\t\tfc0076fed034032d\n",
      "fc0076fecdd42565\t\tfc0076fed034af42\n",
      "fc0076fecdd503d2\t\tfc0076fed0354977\n",
      "fc0076fecdd5961e\t\tfc0076fed035f48b\n",
      "fc0076fecdd64f87\t\tfc0076fed0368dc8\n",
      "fc0076fecdd7159e\t\tfc0076fed0374477\n",
      "fc0076fecdd78e1d\t\tfc0076fed0382929\n",
      "fc0076fecdd88468\t\tfc0076fed038c6ca\n",
      "fc0076fecdd97cc1\t\tfc0076fed0396f45\n",
      "fc0076fecdda05f6\t\tfc0076fed03a1037\n",
      "fc0076fecddae9c8\t\tfc0076fed03abc6e\n",
      "fc0076fecddba001\t\tfc0076fed03b5a55\n",
      "fc0076fecddc707e\t\tfc0076fed03c0d74\n",
      "fc0076fecdde4876\t\tfc0076fed03c9e02\n",
      "fc0076fecdded3ba\t\tfc0076fed03d29fb\n",
      "fc0076fecddf7d20\t\tfc0076fed03da1ca\n",
      "fc0076fecde052e5\t\tfc0076fed03e0bb2\n",
      "fc0076fecde0e975\t\tfc0076fed03e8e7f\n",
      "fc0076fecde15fcc\t\tfc0076fed03eefb1\n",
      "fc0076fecde20864\t\tfc0076fed03f402d\n",
      "fc0076fecde2b996\t\tfc0076fed03f9082\n",
      "fc0076fecde36fdc\t\tfc0076fed03ff030\n",
      "fc0076fecde44691\t\tfc0076fed097cb9a\n",
      "fc0076fecde4bfb7\t\tfc0076fed0987c27\n",
      "fc0076fecde590bb\t\tfc0076fed098d9f2\n",
      "fc0076fecde63efd\t\tfc0076fed0993f87\n",
      "fc0076fecde6d68a\t\tfc0076fed0997c1b\n",
      "fc0076fecde7c05c\t\tfc0076fed099bda7\n",
      "fc0076fecde887b4\t\tfc0076fed09a0c1c\n",
      "fc0076fecde92c65\t\tfc0076fed09a4f65\n",
      "fc0076fecdea1de4\t\tfc0076fed09aa3c8\n",
      "fc0076fecdeaeae3\t\tfc0076fed09aed3d\n",
      "fc0076fecdebaf4e\t\tfc0076fed09b3883\n",
      "fc0076fecdecb339\t\tfc0076fed09b7f00\n",
      "fc0076fecded267e\t\tfc0076fed09bcdab\n",
      "fc0076fecdedc437\t\tfc0076fed09c5adf\n",
      "fc0076fecdeeb5c4\t\tfc0076fed09cfe9f\n",
      "fc0076fecdefe129\t\tfc0076fed09da747\n",
      "fc0076fecdf09608\t\tfc0076fed09e5394\n",
      "fc0076fecdf1512c\t\tfc0076fed09efa26\n",
      "fc0076fecdf21940\t\tfc0076fed09fa069\n",
      "fc0076fecdf2ef7d\t\tfc0076fed0a05180\n",
      "fc0076fecdf3a5f6\t\tfc0076fed0a10664\n",
      "fc0076fecdf45cd2\t\tfc0076fed0a1b91e\n",
      "fc0076fecdf4efae\t\tfc0076fed0a2649a\n",
      "fc0076fecdf623cd\t\tfc0076fed0a30cd7\n",
      "fc0076fecdf6cabc\t\tfc0076fed0a3c335\n",
      "fc0076fecdf77fef\t\tfc0076fed0a47348\n",
      "fc0076fecdf8b6e3\t\tfc0076fed0a53b5a\n",
      "fc0076fecdf91f56\t\tfc0076fed0a6338b\n",
      "fc0076fecdfa12fa\t\tfc0076fed0a6f665\n",
      "fc0076fecdfaf69b\t\tfc0076fed0a75aca\n",
      "fc0076fecdfbcf46\t\tfc0076fed0a79eef\n",
      "fc0076fecdfc996c\t\tfc0076fed0a7e00e\n",
      "fc0076fecdfd5f64\t\tfc0076fed0a84b3e\n",
      "fc0076fecdfe5722\t\tfc0076fed0a8edb1\n",
      "fc0076fecdff21dd\t\tfc0076fed0a97419\n",
      "fc0076fecdffbc7c\t\tfc0076fed0a9f1c6\n",
      "fc0076fece007a83\t\tfc0076fed0aa84e7\n",
      "fc0076fece013675\t\tfc0076fed0ab0ea9\n",
      "fc0076fece01c7e3\t\tfc0076fed0ab71cf\n",
      "fc0076fece02b028\t\tfc0076fed0aba752\n",
      "fc0076fece03835e\t\tfc0076fed0abe6ea\n",
      "fc0076fece040945\t\tfc0076fed0ac138c\n",
      "fc0076fece052476\t\tfc0076fed0ac41c8\n",
      "fc0076fece05e2d8\t\tfc0076fed0ac70cc\n",
      "fc0076fece066a99\t\tfc0076fed0ac9e08\n",
      "fc0076fece07a1cb\t\tfc0076fed0acd73a\n",
      "fc0076fece08337c\t\tfc0076fed0ad0d6e\n",
      "fc0076fece08da3e\t\tfc0076fed0ad3c44\n",
      "fc0076fece09a7fe\t\tfc0076fed0ad6743\n",
      "fc0076fece0a7db2\t\tfc0076fed0adae21\n",
      "fc0076fece0b0d05\t\tfc0076fed0ade971\n",
      "fc0076fece0bcc82\t\tfc0076fed0ae16b6\n",
      "fc0076fece0c91ee\t\tfc0076fed0ae4648\n",
      "fc0076fece0d4c71\t\tfc0076fed0ae700c\n",
      "fc0076fece0e3156\t\tfc0076fed0aea192\n",
      "fc0076fece0ed473\t\tfc0076fed0aed0a9\n",
      "fc0076fece0f8cf9\t\tfc0076fed0af0c82\n",
      "fc0076fece10669e\t\tfc0076fed0af3703\n",
      "fc0076fece10efee\t\tfc0076fed0af654a\n",
      "fc0076fece11d337\t\tfc0076fed0af9106\n",
      "fc0076fece128fe3\t\tfc0076fed0afc04a\n",
      "fc0076fece131a3b\t\tfc0076fed0afefb8\n",
      "fc0076fece13e9ce\t\tfc0076fed0b02762\n",
      "fc0076fece149eaf\t\tfc0076fed0b057d3\n",
      "fc0076fece163982\t\tfc0076fed0b08519\n",
      "fc0076fece1733e5\t\tfc0076fed0b0b1a7\n",
      "fc0076fece186364\t\tfc0076fed0b0e23a\n",
      "fc0076fece1a19f8\t\tfc0076fed0b10d72\n",
      "fc0076fece1b8f39\t\tfc0076fed0b1429d\n",
      "fc0076fece1cfd4a\t\tfc0076fed0b17a9c\n",
      "fc0076fece1edb3f\t\tfc0076fed0b1a888\n",
      "fc0076fece209ad7\t\tfc0076fed0b1d55d\n",
      "fc0076fece229cac\t\tfc0076fed0b20c2a\n",
      "fc0076fece23dad0\t\tfc0076fed0b2323f\n",
      "fc0076fece250789\t\tfc0076fed0b25fd9\n",
      "fc0076fece2600e5\t\tfc0076fed0b298e4\n",
      "fc0076fece270a0d\t\tfc0076fed0b2c9d6\n",
      "fc0076fece29bdfc\t\tfc0076fed0b2f501\n",
      "fc0076fece2a24d2\t\tfc0076fed0b33e5e\n",
      "fc0076fece2a84d7\t\tfc0076fed0b37b17\n",
      "fc0076fece2acb8a\t\tfc0076fed0b3ac63\n",
      "fc0076fece2b4e34\t\tfc0076fed0b3d833\n",
      "fc0076fece2b9312\t\tfc0076fed0b402f6\n",
      "fc0076fece2bc642\t\tfc0076fed0b433e5\n",
      "fc0076fece2c0212\t\tfc0076fed0b46063\n",
      "fc0076fece2c32ed\t\tfc0076fed0b49cde\n",
      "fc0076fece2c6178\t\tfc0076fed0b4eb38\n",
      "fc0076fece2c98f5\t\tfc0076fed0b56dca\n",
      "fc0076fece2cd0d6\t\tfc0076fed0b5dec9\n",
      "fc0076fece2d03b7\t\tfc0076fed0b66d18\n",
      "fc0076fece2d3def\t\tfc0076fed0b73351\n",
      "fc0076fece2d71a9\t\tfc0076fed0b7be4d\n",
      "fc0076fece2da800\t\tfc0076fed0b85953\n",
      "fc0076fece2ddf9d\t\tfc0076fed0b8e88f\n",
      "fc0076fece2e1da1\t\tfc0076fed0b966cc\n",
      "fc0076fece2e5c93\t\tfc0076fed0b9cec4\n",
      "fc0076fece2eb0c1\t\tfc0076fed0ba5242\n",
      "fc0076fece2efa22\t\tfc0076fed0bacc48\n",
      "fc0076fece2f382d\t\tfc0076fed0baf8cd\n",
      "fc0076fece2f698c\t\tfc0076fed0bb2c65\n",
      "fc0076fece2f9b8d\t\tfc0076fed0bb5034\n",
      "fc0076fece2fd5b1\t\tfc0076fed0bb92f8\n",
      "fc0076fece30099b\t\tfc0076fed0bbc254\n",
      "fc0076fece3041bb\t\tfc0076fed0bc0090\n",
      "fc0076fece307bee\t\tfc0076fed0bc2dbd\n",
      "fc0076fece30af4b\t\tfc0076fed0bc6e24\n",
      "fc0076fece30e5d1\t\tfc0076fed0bc9ead\n",
      "fc0076fece3118b6\t\tfc0076fed0bcdb0c\n",
      "fc0076fece3156e1\t\tfc0076fed0bd078a\n",
      "fc0076fece318dfb\t\tfc0076fed0bd29ed\n",
      "fc0076fece31c3cb\t\tfc0076fed0bd4c83\n",
      "fc0076fece31f31b\t\tfc0076fed0bd7d59\n",
      "fc0076fece322dc4\t\tfc0076fed0bda24d\n",
      "fc0076fece325e3f\t\tfc0076fed0bdc4bb\n",
      "fc0076fece329524\t\tfc0076fed0bde85e\n",
      "fc0076fece32c42c\t\tfc0076fed0be099d\n",
      "fc0076fece330003\t\tfc0076fed0be35a0\n",
      "fc0076fece3335d4\t\tfc0076fed0be4d89\n",
      "fc0076fece3370ff\t\tfc0076fed0be6fba\n",
      "fc0076fece33a4f3\t\tfc0076fed0be9e5d\n",
      "fc0076fece33d9dd\t\tfc0076fed0bec19a\n",
      "fc0076fece340ece\t\tfc0076fed0bee3df\n",
      "fc0076fece3445d2\t\tfc0076fed0bf08b9\n",
      "fc0076fece347dbc\t\tfc0076fed0bf2bb0\n",
      "fc0076fece34b3d3\t\tfc0076fed0bf4de3\n",
      "fc0076fece34ed50\t\tfc0076fed0bf7062\n",
      "fc0076fece352156\t\tfc0076fed0bf9236\n",
      "fc0076fece355cb1\t\tfc0076fed0bfbf0c\n",
      "fc0076fece358f03\t\tfc0076fed0bfe14a\n",
      "fc0076fece35bff6\t\tfc0076fed0c00367\n",
      "fc0076fece36435b\t\tfc0076fed0c02524\n",
      "fc0076fece373de8\t\tfc0076fed0c0466f\n",
      "fc0076fece380283\t\tfc0076fed0c067d2\n",
      "fc0076fece38d36f\t\tfc0076fed0c0895f\n",
      "fc0076fece39bb68\t\tfc0076fed0c0ac0f\n",
      "fc0076fece3a3434\t\tfc0076fed0c0cf5c\n",
      "fc0076fece3aebbf\t\tfc0076fed0c0feab\n",
      "fc0076fece3b4d7f\t\tfc0076fed0c1281d\n",
      "fc0076fece3c64b3\t\tfc0076fed0c14af6\n",
      "fc0076fece3e2c0b\t\tfc0076fed0c16ca9\n",
      "fc0076fece3fa139\t\tfc0076fed0c18e6e\n",
      "fc0076fece41065b\t\tfc0076fed0c1b08b\n",
      "fc0076fece426e3d\t\tfc0076fed0c1dcbb\n",
      "fc0076fece446ea8\t\tfc0076fed0c20185\n",
      "fc0076fece461dca\t\tfc0076fed0c223a2\n",
      "fc0076fece47d8b6\t\tfc0076fed0c24626\n",
      "fc0076fece493517\t\tfc0076fed0c26816\n",
      "fc0076fece4a995a\t\tfc0076fed0c28a54\n",
      "fc0076fece4bf6a3\t\tfc0076fed0c2abe2\n",
      "fc0076fece4d68d5\t\tfc0076fed0c2da45\n",
      "fc0076fece4eebf0\t\tfc0076fed0c2fce0\n",
      "fc0076fece507d4e\t\tfc0076fed0c31fa4\n",
      "fc0076fece520ee4\t\tfc0076fed0c34368\n",
      "fc0076fece535d94\t\tfc0076fed0c364f2\n",
      "fc0076fece543b74\t\tfc0076fed0c3864c\n",
      "fc0076fece55759a\t\tfc0076fed0c3a902\n",
      "fc0076fece5677f5\t\tfc0076fed0c3d8bd\n",
      "fc0076fece576e82\t\tfc0076fed0c3fb8e\n",
      "fc0076fece58468e\t\tfc0076fed0c41f5e\n",
      "fc0076fece5923dc\t\tfc0076fed0c44159\n",
      "fc0076fece597171\t\tfc0076fed0c463b2\n",
      "fc0076fece59bff3\t\tfc0076fed0c48563\n",
      "fc0076fece59fe86\t\tfc0076fed0c4b3ad\n",
      "fc0076fece5a41c0\t\tfc0076fed0c4d6fe\n",
      "fc0076fece5a733e\t\tfc0076fed0c4fa36\n",
      "fc0076fece5aa8fb\t\tfc0076fed0c51da4\n",
      "fc0076fece5ae223\t\tfc0076fed0c53f57\n",
      "fc0076fece5b1c51\t\tfc0076fed0c561f2\n",
      "fc0076fece5b5706\t\tfc0076fed0c58ffc\n",
      "fc0076fece5bdbe4\t\tfc0076fed0c5b82a\n",
      "fc0076fece5c96bb\t\tfc0076fed0c5db06\n",
      "fc0076fece5d2eaa\t\tfc0076fed0c5fd7a\n",
      "fc0076fece5dd6ca\t\tfc0076fed0c61f69\n",
      "fc0076fece5feaa3\t\tfc0076fed0c641f5\n",
      "fc0076fece6165ef\t\tfc0076fed0c6641e\n",
      "fc0076fece62a43e\t\tfc0076fed0c6928f\n",
      "fc0076fece643ee4\t\tfc0076fed0c6b816\n",
      "fc0076fece668262\t\tfc0076fed0c6dbb7\n",
      "fc0076fece676187\t\tfc0076fed0c6fdc8\n",
      "fc0076fece67f60c\t\tfc0076fed0c71fcd\n",
      "fc0076fece68bcd1\t\tfc0076fed0c7425f\n",
      "fc0076fece6985ac\t\tfc0076fed0c76c34\n",
      "fc0076fece6b327d\t\tfc0076fed0c793ec\n",
      "fc0076fece6d7fea\t\tfc0076fed0c7b657\n",
      "fc0076fece6ea228\t\tfc0076fed0c7dcce\n",
      "fc0076fece6f31e6\t\tfc0076fed0c7ff48\n",
      "fc0076fece7028b2\t\tfc0076fed0c822c4\n",
      "fc0076fece70f8fd\t\tfc0076fed0c844c0\n",
      "fc0076fece71a347\t\tfc0076fed0c874f8\n",
      "fc0076fece72064d\t\tfc0076fed0c8994b\n",
      "fc0076fece725bf5\t\tfc0076fed0c8bbf4\n",
      "fc0076fece72a6bd\t\tfc0076fed0c8dda9\n",
      "fc0076fece7359a6\t\tfc0076fed0c9001a\n",
      "fc0076fece743321\t\tfc0076fed0c922cd\n",
      "fc0076fece7473c5\t\tfc0076fed0c954c2\n",
      "fc0076fece761f52\t\tfc0076fed0c97b03\n",
      "fc0076fece784379\t\tfc0076fed0c99d7d\n",
      "fc0076fece78ee81\t\tfc0076fed0c9c01d\n",
      "fc0076fece79834a\t\tfc0076fed0c9e31c\n"
     ]
    },
    {
     "name": "stdout",
     "output_type": "stream",
     "text": [
      "fc0076fece7a718d\t\tfc0076fed0ca051b\n",
      "fc0076fece7b4ff0\t\tfc0076fed0ca2725\n",
      "fc0076fece7b8bc1\t\tfc0076fed0ca5863\n",
      "fc0076fece7bba77\t\tfc0076fed0ca8c76\n",
      "fc0076fece7bdef6\t\tfc0076fed0cade4a\n",
      "fc0076fece7c0447\t\tfc0076fed0cb2724\n",
      "fc0076fece7c2e93\t\tfc0076fed0cbbabc\n",
      "fc0076fece7c57ea\t\tfc0076fed0cc0a03\n",
      "fc0076fece7c83ae\t\tfc0076fed0cc4a9b\n",
      "fc0076fece7cb2c4\t\tfc0076fed0d96132\n",
      "fc0076fece7cddf8\t\tfc0076fed0d9cd42\n",
      "fc0076fece7d03d2\t\tfc0076fed0da2d04\n",
      "fc0076fece7d2c3c\t\tfc0076fed0da6e04\n",
      "fc0076fece7d519d\t\tfc0076fed0dac319\n",
      "fc0076fece7d779b\t\tfc0076fed0db19e1\n",
      "fc0076fece7da0aa\t\tfc0076fed0db91f2\n",
      "fc0076fece7dd075\t\tfc0076fed0dbe0d1\n",
      "fc0076fece7e0573\t\tfc0076fed0e676fe\n",
      "fc0076fece7e2db0\t\tfc0076fed0e78a9d\n",
      "fc0076fece7e555a\t\tfc0076fed0e7d5fe\n",
      "fc0076fece7e7b8e\t\tfc0076fed0e8667e\n",
      "fc0076fece7ea36c\t\tfc0076fed0e9ac5c\n",
      "fc0076fece7ecd18\t\tfc0076fed0ea19fc\n",
      "fc0076fece7eefb9\t\tfc0076fed0eade8e\n",
      "fc0076fece7f17b3\t\tfc0076fed0eb718c\n",
      "fc0076fece7f3e0c\t\tfc0076fed0ec2be5\n",
      "fc0076fece7f6162\t\tfc0076fed0ece147\n",
      "fc0076fece7f8d7d\t\tfc0076fed0ed6e5b\n",
      "fc0076fece7fc1e4\t\tfc0076fed0eda54d\n",
      "fc0076fece7ffff5\t\tfc0076fed0ede221\n",
      "fc0076fece804b46\t\tfc0076fed0ee14b0\n",
      "fc0076fece808935\t\tfc0076fed0ee43b8\n",
      "fc0076fece80e29c\t\tfc0076fed0ee861b\n",
      "fc0076fece811136\t\tfc0076fed0eeb890\n",
      "fc0076fece814205\t\tfc0076fed0ef1568\n",
      "fc0076fece818af9\t\tfc0076fed0ef5f15\n",
      "fc0076fece81cba8\t\tfc0076fed0ef9afe\n",
      "fc0076fece82205a\t\tfc0076fed0efde54\n",
      "fc0076fece82e8cb\t\tfc0076fed0f01207\n",
      "fc0076fece83a22f\t\tfc0076fed0f0537f\n",
      "fc0076fece846888\t\tfc0076fed0f084fa\n",
      "fc0076fece853966\t\tfc0076fed0f0b8e4\n",
      "fc0076fece86f0ec\t\tfc0076fed0f0fc31\n",
      "fc0076fecf9e082a\t\tfc0076fed0f13aff\n",
      "fc0076fecf9e4367\t\tfc0076fed0f1a1b8\n",
      "fc0076fecf9e9455\t\tfc0076fed0f1e605\n",
      "fc0076fecf9f7d4f\t\tfc0076fed0f21b59\n",
      "fc0076fecfa02614\t\tfc0076fed0f2591d\n",
      "fc0076fecfa07a88\t\tfc0076fed0f4f7f5\n",
      "fc0076fecfa0af12\t\tfseventsd-uuid\n",
      "fc0076fecfa0e8ef\t\tlatestjoinedlocation.ini\n",
      "fc0076fecfa158b2\t\tpowerlog\n",
      "fc0076fecfa18e9a\t\twebex\n",
      "fc0076fecfa1db88\n"
     ]
    }
   ],
   "source": [
    "ls /tmp/"
   ]
  },
  {
   "cell_type": "markdown",
   "metadata": {},
   "source": [
    "Co powiecie na:"
   ]
  },
  {
   "cell_type": "code",
   "execution_count": 31,
   "metadata": {},
   "outputs": [
    {
     "name": "stdout",
     "output_type": "stream",
     "text": [
      "/tmp/aciseposture.pid /tmp/boost_interprocess /tmp/com.apple.launchd.8q1At9cf2M /tmp/com.apple.launchd.d5iFbmegel /tmp/com.google.Keystone /tmp/devio_semaphore_devio_0xb503 /tmp/drivefs_ipc.501 /tmp/drivefs_ipc.501_shell /tmp/ev-FyvCkc /tmp/ev-ygaIC4 /tmp/fc0076fecd3399a4 /tmp/fc0076fecd3425be /tmp/fc0076fecd35aae6 /tmp/fc0076fecd360c4a /tmp/fc0076fecd36c431 /tmp/fc0076fecd37da28 /tmp/fc0076fecd390fe4 /tmp/fc0076fecd3a1cc6 /tmp/fc0076fecd3b88e5 /tmp/fc0076fecd3e1e26 /tmp/fc0076fecd403e15 /tmp/fc0076fecd440075 /tmp/fc0076fecd455dbb /tmp/fc0076fecd46b330 /tmp/fc0076fecd47adb9 /tmp/fc0076fecd486144 /tmp/fc0076fecd48d66c /tmp/fc0076fecd494fdc /tmp/fc0076fecd49a418 /tmp/fc0076fecd4a1bc1 /tmp/fc0076fecd4a8b0b /tmp/fc0076fecd4ae46d /tmp/fc0076fecd4b5616 /tmp/fc0076fecd4bd12d /tmp/fc0076fecd4c3a41 /tmp/fc0076fecd4ca311 /tmp/fc0076fecd4d2198 /tmp/fc0076fecd4da194 /tmp/fc0076fecd4df8e0 /tmp/fc0076fecd4e6c63 /tmp/fc0076fecd4ece31 /tmp/fc0076fecd4f392a /tmp/fc0076fecd4fbeb0 /tmp/fc0076fecd5021f0 /tmp/fc0076fecd50f27a /tmp/fc0076fecd519024 /tmp/fc0076fecd521798 /tmp/fc0076fecd531625 /tmp/fc0076fecd53df89 /tmp/fc0076fecd5432ff /tmp/fc0076fecd54bc23 /tmp/fc0076fecd5560b5 /tmp/fc0076fecd563d63 /tmp/fc0076fecd58ab07 /tmp/fc0076fecd5bc5c5 /tmp/fc0076fecd5e11bd /tmp/fc0076fecd5ede2d /tmp/fc0076fecd5f5043 /tmp/fc0076fecd5fdc95 /tmp/fc0076fecd607c1b /tmp/fc0076fecd610f34 /tmp/fc0076fecd616b1a /tmp/fc0076fecd62069a /tmp/fc0076fecd628a24 /tmp/fc0076fecd62f89e /tmp/fc0076fecd641fc1 /tmp/fc0076fecd64d6dc /tmp/fc0076fecd65a0c3 /tmp/fc0076fecd663a5c /tmp/fc0076fecd66c1bc /tmp/fc0076fecd673b3c /tmp/fc0076fecd67d46f /tmp/fc0076fecd687d1d /tmp/fc0076fecd68db2e /tmp/fc0076fecd695196 /tmp/fc0076fecd69bd35 /tmp/fc0076fecd6a1b9e /tmp/fc0076fecd6a8a6f /tmp/fc0076fecd6af500 /tmp/fc0076fecd6b6965 /tmp/fc0076fecd6bd1be /tmp/fc0076fecd6c4fd5 /tmp/fc0076fecd6cd988 /tmp/fc0076fecd6d3dbd /tmp/fc0076fecd6e36ec /tmp/fc0076fecd6e9bf3 /tmp/fc0076fecd6f0369 /tmp/fc0076fecd6f7bb2 /tmp/fc0076fecd6fcff2 /tmp/fc0076fecd703896 /tmp/fc0076fecd70b0a3 /tmp/fc0076fecd7116b3 /tmp/fc0076fecd7178f8 /tmp/fc0076fecd71f73f /tmp/fc0076fecd726209 /tmp/fc0076fecd72befd /tmp/fc0076fecd7337b2 /tmp/fc0076fecd739ab0 /tmp/fc0076fecd73fb44 /tmp/fc0076fecd7471f0 /tmp/fc0076fecd74e4c7 /tmp/fc0076fecd7547dc /tmp/fc0076fecd75c84d /tmp/fc0076fecd762578 /tmp/fc0076fecd76a862 /tmp/fc0076fecd7720f2 /tmp/fc0076fecd7780e3 /tmp/fc0076fecd77e35c /tmp/fc0076fecd786626 /tmp/fc0076fecd78cc40 /tmp/fc0076fecd792bc7 /tmp/fc0076fecd79a17c /tmp/fc0076fecd7a06e9 /tmp/fc0076fecd7a6eea /tmp/fc0076fecd7ae118 /tmp/fc0076fecd7b47da /tmp/fc0076fecd7ba425 /tmp/fc0076fecd7c1569 /tmp/fc0076fecd7cb327 /tmp/fc0076fecd7d69eb /tmp/fc0076fecd7e2147 /tmp/fc0076fecd7ed5a3 /tmp/fc0076fecd7f5619 /tmp/fc0076fecd801f73 /tmp/fc0076fecd80bdfc /tmp/fc0076fecd812da2 /tmp/fc0076fecd81c88b /tmp/fc0076fecd82362e /tmp/fc0076fecd82b27e /tmp/fc0076fecd83617f /tmp/fc0076fecd83efb5 /tmp/fc0076fecd84629d /tmp/fc0076fecd84efbf /tmp/fc0076fecd8559db /tmp/fc0076fecd85c4c1 /tmp/fc0076fecd8649ea /tmp/fc0076fecd86ba68 /tmp/fc0076fecd8722ad /tmp/fc0076fecd87a9a6 /tmp/fc0076fecd882158 /tmp/fc0076fecd8883da /tmp/fc0076fecd890178 /tmp/fc0076fecd89894b /tmp/fc0076fecd8a073c /tmp/fc0076fecd8a729c /tmp/fc0076fecd8aec3a /tmp/fc0076fecd8b61e8 /tmp/fc0076fecd8bcbc4 /tmp/fc0076fecd8c3af0 /tmp/fc0076fecd8ca968 /tmp/fc0076fecd8d0219 /tmp/fc0076fecd8d7b9d /tmp/fc0076fecd8e03fb /tmp/fc0076fecd8e65cb /tmp/fc0076fecd8ed72b /tmp/fc0076fecd8f61a9 /tmp/fc0076fecd8fb8a0 /tmp/fc0076fecd90435e /tmp/fc0076fecd90cfe0 /tmp/fc0076fecd9129fb /tmp/fc0076fecd919f2a /tmp/fc0076fecd921cb3 /tmp/fc0076fecd927bda /tmp/fc0076fecd92de07 /tmp/fc0076fecd93596f /tmp/fc0076fecd93c426 /tmp/fc0076fecd942274 /tmp/fc0076fecd9494d9 /tmp/fc0076fecd95088d /tmp/fc0076fecd958136 /tmp/fc0076fecd95fe3e /tmp/fc0076fecd9667c1 /tmp/fc0076fecd96be55 /tmp/fc0076fecd97679c /tmp/fc0076fecd97da0d /tmp/fc0076fecd98404e /tmp/fc0076fecd98a8de /tmp/fc0076fecd991c2f /tmp/fc0076fecd998a5d /tmp/fc0076fecd9a902f /tmp/fc0076fecd9b0799 /tmp/fc0076fecd9bb817 /tmp/fc0076fecd9c5a13 /tmp/fc0076fecd9cdeae /tmp/fc0076fecd9d8f90 /tmp/fc0076fecd9e4a5d /tmp/fc0076fecd9ece64 /tmp/fc0076fecd9f788c /tmp/fc0076fecda02ccf /tmp/fc0076fecda0a681 /tmp/fc0076fecda14ad3 /tmp/fc0076fecda26118 /tmp/fc0076fecda3220e /tmp/fc0076fecda3cac5 /tmp/fc0076fecda4c834 /tmp/fc0076fecda542b1 /tmp/fc0076fecda636b0 /tmp/fc0076fecda6ca3d /tmp/fc0076fecda76f83 /tmp/fc0076fecda81af3 /tmp/fc0076fecda8ba83 /tmp/fc0076fecda94163 /tmp/fc0076fecdaa0426 /tmp/fc0076fecdaa99c3 /tmp/fc0076fecdab1326 /tmp/fc0076fecdabdc9c /tmp/fc0076fecdac4c0b /tmp/fc0076fecdace37e /tmp/fc0076fecdada99a /tmp/fc0076fecdae5074 /tmp/fc0076fecdaf1965 /tmp/fc0076fecdb0444f /tmp/fc0076fecdb0d558 /tmp/fc0076fecdb1e44d /tmp/fc0076fecdb2f21b /tmp/fc0076fecdb4ac2a /tmp/fc0076fecdb67e1b /tmp/fc0076fecdb808f5 /tmp/fc0076fecdb9a787 /tmp/fc0076fecdbbb259 /tmp/fc0076fecdbcb31a /tmp/fc0076fecdbd74c3 /tmp/fc0076fecdbe8c64 /tmp/fc0076fecdbf2597 /tmp/fc0076fecdc01c3a /tmp/fc0076fecdc1219d /tmp/fc0076fecdc19817 /tmp/fc0076fecdc25156 /tmp/fc0076fecdc3aa7c /tmp/fc0076fecdc4876d /tmp/fc0076fecdc585d4 /tmp/fc0076fecdc6237b /tmp/fc0076fecdc7384c /tmp/fc0076fecdc81d91 /tmp/fc0076fecdc89a63 /tmp/fc0076fecdc9835c /tmp/fc0076fecdca484d /tmp/fc0076fecdcafc03 /tmp/fc0076fecdcc514e /tmp/fc0076fecdcce134 /tmp/fc0076fecdcd8a79 /tmp/fc0076fecdce8f1b /tmp/fc0076fecdcefe5b /tmp/fc0076fecdcf8465 /tmp/fc0076fecdd05a30 /tmp/fc0076fecdd0c4d1 /tmp/fc0076fecdd1cc25 /tmp/fc0076fecdd27932 /tmp/fc0076fecdd3185e /tmp/fc0076fecdd42565 /tmp/fc0076fecdd503d2 /tmp/fc0076fecdd5961e /tmp/fc0076fecdd64f87 /tmp/fc0076fecdd7159e /tmp/fc0076fecdd78e1d /tmp/fc0076fecdd88468 /tmp/fc0076fecdd97cc1 /tmp/fc0076fecdda05f6 /tmp/fc0076fecddae9c8 /tmp/fc0076fecddba001 /tmp/fc0076fecddc707e /tmp/fc0076fecdde4876 /tmp/fc0076fecdded3ba /tmp/fc0076fecddf7d20 /tmp/fc0076fecde052e5 /tmp/fc0076fecde0e975 /tmp/fc0076fecde15fcc /tmp/fc0076fecde20864 /tmp/fc0076fecde2b996 /tmp/fc0076fecde36fdc /tmp/fc0076fecde44691 /tmp/fc0076fecde4bfb7 /tmp/fc0076fecde590bb /tmp/fc0076fecde63efd /tmp/fc0076fecde6d68a /tmp/fc0076fecde7c05c /tmp/fc0076fecde887b4 /tmp/fc0076fecde92c65 /tmp/fc0076fecdea1de4 /tmp/fc0076fecdeaeae3 /tmp/fc0076fecdebaf4e /tmp/fc0076fecdecb339 /tmp/fc0076fecded267e /tmp/fc0076fecdedc437 /tmp/fc0076fecdeeb5c4 /tmp/fc0076fecdefe129 /tmp/fc0076fecdf09608 /tmp/fc0076fecdf1512c /tmp/fc0076fecdf21940 /tmp/fc0076fecdf2ef7d /tmp/fc0076fecdf3a5f6 /tmp/fc0076fecdf45cd2 /tmp/fc0076fecdf4efae /tmp/fc0076fecdf623cd /tmp/fc0076fecdf6cabc /tmp/fc0076fecdf77fef /tmp/fc0076fecdf8b6e3 /tmp/fc0076fecdf91f56 /tmp/fc0076fecdfa12fa /tmp/fc0076fecdfaf69b /tmp/fc0076fecdfbcf46 /tmp/fc0076fecdfc996c /tmp/fc0076fecdfd5f64 /tmp/fc0076fecdfe5722 /tmp/fc0076fecdff21dd /tmp/fc0076fecdffbc7c /tmp/fc0076fece007a83 /tmp/fc0076fece013675 /tmp/fc0076fece01c7e3 /tmp/fc0076fece02b028 /tmp/fc0076fece03835e /tmp/fc0076fece040945 /tmp/fc0076fece052476 /tmp/fc0076fece05e2d8 /tmp/fc0076fece066a99 /tmp/fc0076fece07a1cb /tmp/fc0076fece08337c /tmp/fc0076fece08da3e /tmp/fc0076fece09a7fe /tmp/fc0076fece0a7db2 /tmp/fc0076fece0b0d05 /tmp/fc0076fece0bcc82 /tmp/fc0076fece0c91ee /tmp/fc0076fece0d4c71 /tmp/fc0076fece0e3156 /tmp/fc0076fece0ed473 /tmp/fc0076fece0f8cf9 /tmp/fc0076fece10669e /tmp/fc0076fece10efee /tmp/fc0076fece11d337 /tmp/fc0076fece128fe3 /tmp/fc0076fece131a3b /tmp/fc0076fece13e9ce /tmp/fc0076fece149eaf /tmp/fc0076fece163982 /tmp/fc0076fece1733e5 /tmp/fc0076fece186364 /tmp/fc0076fece1a19f8 /tmp/fc0076fece1b8f39 /tmp/fc0076fece1cfd4a /tmp/fc0076fece1edb3f /tmp/fc0076fece209ad7 /tmp/fc0076fece229cac /tmp/fc0076fece23dad0 /tmp/fc0076fece250789 /tmp/fc0076fece2600e5 /tmp/fc0076fece270a0d /tmp/fc0076fece29bdfc /tmp/fc0076fece2a24d2 /tmp/fc0076fece2a84d7 /tmp/fc0076fece2acb8a /tmp/fc0076fece2b4e34 /tmp/fc0076fece2b9312 /tmp/fc0076fece2bc642 /tmp/fc0076fece2c0212 /tmp/fc0076fece2c32ed /tmp/fc0076fece2c6178 /tmp/fc0076fece2c98f5 /tmp/fc0076fece2cd0d6 /tmp/fc0076fece2d03b7 /tmp/fc0076fece2d3def /tmp/fc0076fece2d71a9 /tmp/fc0076fece2da800 /tmp/fc0076fece2ddf9d /tmp/fc0076fece2e1da1 /tmp/fc0076fece2e5c93 /tmp/fc0076fece2eb0c1 /tmp/fc0076fece2efa22 /tmp/fc0076fece2f382d /tmp/fc0076fece2f698c /tmp/fc0076fece2f9b8d /tmp/fc0076fece2fd5b1 /tmp/fc0076fece30099b /tmp/fc0076fece3041bb /tmp/fc0076fece307bee /tmp/fc0076fece30af4b /tmp/fc0076fece30e5d1 /tmp/fc0076fece3118b6 /tmp/fc0076fece3156e1 /tmp/fc0076fece318dfb /tmp/fc0076fece31c3cb /tmp/fc0076fece31f31b /tmp/fc0076fece322dc4 /tmp/fc0076fece325e3f /tmp/fc0076fece329524 /tmp/fc0076fece32c42c /tmp/fc0076fece330003 /tmp/fc0076fece3335d4 /tmp/fc0076fece3370ff /tmp/fc0076fece33a4f3 /tmp/fc0076fece33d9dd /tmp/fc0076fece340ece /tmp/fc0076fece3445d2 /tmp/fc0076fece347dbc /tmp/fc0076fece34b3d3 /tmp/fc0076fece34ed50 /tmp/fc0076fece352156 /tmp/fc0076fece355cb1 /tmp/fc0076fece358f03 /tmp/fc0076fece35bff6 /tmp/fc0076fece36435b /tmp/fc0076fece373de8 /tmp/fc0076fece380283 /tmp/fc0076fece38d36f /tmp/fc0076fece39bb68 /tmp/fc0076fece3a3434 /tmp/fc0076fece3aebbf /tmp/fc0076fece3b4d7f /tmp/fc0076fece3c64b3 /tmp/fc0076fece3e2c0b /tmp/fc0076fece3fa139 /tmp/fc0076fece41065b /tmp/fc0076fece426e3d /tmp/fc0076fece446ea8 /tmp/fc0076fece461dca /tmp/fc0076fece47d8b6 /tmp/fc0076fece493517 /tmp/fc0076fece4a995a /tmp/fc0076fece4bf6a3 /tmp/fc0076fece4d68d5 /tmp/fc0076fece4eebf0 /tmp/fc0076fece507d4e /tmp/fc0076fece520ee4 /tmp/fc0076fece535d94 /tmp/fc0076fece543b74 /tmp/fc0076fece55759a /tmp/fc0076fece5677f5 /tmp/fc0076fece576e82 /tmp/fc0076fece58468e /tmp/fc0076fece5923dc /tmp/fc0076fece597171 /tmp/fc0076fece59bff3 /tmp/fc0076fece59fe86 /tmp/fc0076fece5a41c0 /tmp/fc0076fece5a733e /tmp/fc0076fece5aa8fb /tmp/fc0076fece5ae223 /tmp/fc0076fece5b1c51 /tmp/fc0076fece5b5706 /tmp/fc0076fece5bdbe4 /tmp/fc0076fece5c96bb /tmp/fc0076fece5d2eaa /tmp/fc0076fece5dd6ca /tmp/fc0076fece5feaa3 /tmp/fc0076fece6165ef /tmp/fc0076fece62a43e /tmp/fc0076fece643ee4 /tmp/fc0076fece668262 /tmp/fc0076fece676187 /tmp/fc0076fece67f60c /tmp/fc0076fece68bcd1 /tmp/fc0076fece6985ac /tmp/fc0076fece6b327d /tmp/fc0076fece6d7fea /tmp/fc0076fece6ea228 /tmp/fc0076fece6f31e6 /tmp/fc0076fece7028b2 /tmp/fc0076fece70f8fd /tmp/fc0076fece71a347 /tmp/fc0076fece72064d /tmp/fc0076fece725bf5 /tmp/fc0076fece72a6bd /tmp/fc0076fece7359a6 /tmp/fc0076fece743321 /tmp/fc0076fece7473c5 /tmp/fc0076fece761f52 /tmp/fc0076fece784379 /tmp/fc0076fece78ee81 /tmp/fc0076fece79834a /tmp/fc0076fece7a718d /tmp/fc0076fece7b4ff0 /tmp/fc0076fece7b8bc1 /tmp/fc0076fece7bba77 /tmp/fc0076fece7bdef6 /tmp/fc0076fece7c0447 /tmp/fc0076fece7c2e93 /tmp/fc0076fece7c57ea /tmp/fc0076fece7c83ae /tmp/fc0076fece7cb2c4 /tmp/fc0076fece7cddf8 /tmp/fc0076fece7d03d2 /tmp/fc0076fece7d2c3c /tmp/fc0076fece7d519d /tmp/fc0076fece7d779b /tmp/fc0076fece7da0aa /tmp/fc0076fece7dd075 /tmp/fc0076fece7e0573 /tmp/fc0076fece7e2db0 /tmp/fc0076fece7e555a /tmp/fc0076fece7e7b8e /tmp/fc0076fece7ea36c /tmp/fc0076fece7ecd18 /tmp/fc0076fece7eefb9 /tmp/fc0076fece7f17b3 /tmp/fc0076fece7f3e0c /tmp/fc0076fece7f6162 /tmp/fc0076fece7f8d7d /tmp/fc0076fece7fc1e4 /tmp/fc0076fece7ffff5 /tmp/fc0076fece804b46 /tmp/fc0076fece808935 /tmp/fc0076fece80e29c /tmp/fc0076fece811136 /tmp/fc0076fece814205 /tmp/fc0076fece818af9 /tmp/fc0076fece81cba8 /tmp/fc0076fece82205a /tmp/fc0076fece82e8cb /tmp/fc0076fece83a22f /tmp/fc0076fece846888 /tmp/fc0076fece853966 /tmp/fc0076fece86f0ec /tmp/fc0076fecf9e082a /tmp/fc0076fecf9e4367 /tmp/fc0076fecf9e9455 /tmp/fc0076fecf9f7d4f /tmp/fc0076fecfa02614 /tmp/fc0076fecfa07a88 /tmp/fc0076fecfa0af12 /tmp/fc0076fecfa0e8ef /tmp/fc0076fecfa158b2 /tmp/fc0076fecfa18e9a /tmp/fc0076fecfa1db88 /tmp/fc0076fecfa213d5 /tmp/fc0076fecfa249ae /tmp/fc0076fecfa296e4 /tmp/fc0076fecfa2dcd2 /tmp/fc0076fecfa3214f /tmp/fc0076fecfa35071 /tmp/fc0076fecfa386c2 /tmp/fc0076fecfa3c752 /tmp/fc0076fecfa3fd5f /tmp/fc0076fecfa430d3 /tmp/fc0076fecfa473f4 /tmp/fc0076fecfa4aa8b /tmp/fc0076fecfa4dc45 /tmp/fc0076fecfa51f1c /tmp/fc0076fecfa55319 /tmp/fc0076fecfa58383 /tmp/fc0076fecfa5c754 /tmp/fc0076fecfa5fd75 /tmp/fc0076fecfa682a0 /tmp/fc0076fecfa6c935 /tmp/fc0076fecfa7037b /tmp/fc0076fecfa74838 /tmp/fc0076fecfa77f6c /tmp/fc0076fecfa7c58a /tmp/fc0076fecfa8015f /tmp/fc0076fecfa83793 /tmp/fc0076fecfa87cac /tmp/fc0076fecfa8b7f2 /tmp/fc0076fecfa90a3a /tmp/fc0076fecfa96285 /tmp/fc0076fecfa9b641 /tmp/fc0076fecfa9e62c /tmp/fc0076fecfaa3d1f /tmp/fc0076fecfaade14 /tmp/fc0076fecfab7b1c /tmp/fc0076fecfac193e /tmp/fc0076fecfaca04a /tmp/fc0076fecfacf849 /tmp/fc0076fecfad6aa0 /tmp/fc0076fecfadda5b /tmp/fc0076fecfae7692 /tmp/fc0076fecfaf0735 /tmp/fc0076fecfaf7e02 /tmp/fc0076fecfaffc41 /tmp/fc0076fecfb08b6d /tmp/fc0076fecfb147af /tmp/fc0076fecfb1dbc3 /tmp/fc0076fecfb27377 /tmp/fc0076fecfb30a44 /tmp/fc0076fecfb3a858 /tmp/fc0076fecfb43db2 /tmp/fc0076fecfb4df59 /tmp/fc0076fecfb57850 /tmp/fc0076fecfb60da3 /tmp/fc0076fecfb6a1ac /tmp/fc0076fecfb75375 /tmp/fc0076fecfb7d6e6 /tmp/fc0076fecfb86c45 /tmp/fc0076fecfb910f0 /tmp/fc0076fecfb9adcb /tmp/fc0076fecfba5d56 /tmp/fc0076fecfbafdd8 /tmp/fc0076fecfbb9969 /tmp/fc0076fecfbc3faa /tmp/fc0076fecfbcd695 /tmp/fc0076fecfbd7487 /tmp/fc0076fecfbe09c3 /tmp/fc0076fecfbe9c50 /tmp/fc0076fecfbf3b3c /tmp/fc0076fecfbfd804 /tmp/fc0076fecfc07323 /tmp/fc0076fecfc10dcc /tmp/fc0076fecfc1a7c3 /tmp/fc0076fecfc23cd3 /tmp/fc0076fecfc30036 /tmp/fc0076fecfc37385 /tmp/fc0076fecfc417ef /tmp/fc0076fecfc4b2b9 /tmp/fc0076fecfc54de9 /tmp/fc0076fecfc5e724 /tmp/fc0076fecfc6783b /tmp/fc0076fecfc7136d /tmp/fc0076fecfc7b57a /tmp/fc0076fecfc8561c /tmp/fc0076fecfc8ef59 /tmp/fc0076fecfc988a3 /tmp/fc0076fecfca2016 /tmp/fc0076fecfcab5c1 /tmp/fc0076fecfcb52c8 /tmp/fc0076fecfcbf67b /tmp/fc0076fecfcc986b /tmp/fc0076fecfcd51ed /tmp/fc0076fecfcdef5a /tmp/fc0076fecfce8e60 /tmp/fc0076fecfcf2b7e /tmp/fc0076fecfcfc8c4 /tmp/fc0076fecfd05fb8 /tmp/fc0076fecfd0f7a2 /tmp/fc0076fecfd18ebc /tmp/fc0076fecfd22b3d /tmp/fc0076fecfd2cfaf /tmp/fc0076fecfd366bf /tmp/fc0076fecfd404a0 /tmp/fc0076fecfd49f85 /tmp/fc0076fecfd53a8e /tmp/fc0076fecfd5d873 /tmp/fc0076fecfd6851d /tmp/fc0076fecfd72064 /tmp/fc0076fecfd7be40 /tmp/fc0076fecfd8617d /tmp/fc0076fecfd8f6f9 /tmp/fc0076fecfd99892 /tmp/fc0076fecfda369c /tmp/fc0076fecfdadb53 /tmp/fc0076fecfdb6e25 /tmp/fc0076fecfdc0813 /tmp/fc0076fecfdca5fe /tmp/fc0076fecfdd5aba /tmp/fc0076fecfde144b /tmp/fc0076fecfdebcb3 /tmp/fc0076fecfdf841a /tmp/fc0076fecfe03433 /tmp/fc0076fecfe0d55b /tmp/fc0076fecfe1971f /tmp/fc0076fecfe23a6c /tmp/fc0076fecfe2d54e /tmp/fc0076fecfe37922 /tmp/fc0076fecfe413d4 /tmp/fc0076fecfe4abbf /tmp/fc0076fecfe54940 /tmp/fc0076fecfe5e24a /tmp/fc0076fecfe68043 /tmp/fc0076fecfe72fc0 /tmp/fc0076fecfe80050 /tmp/fc0076fecfe8657a /tmp/fc0076fecfe8fbe7 /tmp/fc0076fecfe99523 /tmp/fc0076fecfea31d1 /tmp/fc0076fecfead6c1 /tmp/fc0076fecfeb6d4b /tmp/fc0076fecfec0987 /tmp/fc0076fecfec9f5f /tmp/fc0076fecfed3606 /tmp/fc0076fecfedcf18 /tmp/fc0076fecfee6e3a /tmp/fc0076fecfef0cfb /tmp/fc0076fecfefb139 /tmp/fc0076fecff05300 /tmp/fc0076fecff0f148 /tmp/fc0076fecff1a2bf /tmp/fc0076fecff24333 /tmp/fc0076fecff2dad1 /tmp/fc0076fecff36d95 /tmp/fc0076fecff416aa /tmp/fc0076fecff4b7fb /tmp/fc0076fecff5800f /tmp/fc0076fecff61fc7 /tmp/fc0076fecff6d702 /tmp/fc0076fecff77661 /tmp/fc0076fecff82fc2 /tmp/fc0076fecff8e140 /tmp/fc0076fecff99396 /tmp/fc0076fecffa41c3 /tmp/fc0076fecffaec71 /tmp/fc0076fecffb9a92 /tmp/fc0076fecffc43cf /tmp/fc0076fecffcede3 /tmp/fc0076fecffd94b0 /tmp/fc0076fecffe4268 /tmp/fc0076fecfff14e8 /tmp/fc0076fecfffb4da /tmp/fc0076fed00062d0 /tmp/fc0076fed000fa65 /tmp/fc0076fed001b6e4 /tmp/fc0076fed002608e /tmp/fc0076fed0031413 /tmp/fc0076fed003c30b /tmp/fc0076fed0047c51 /tmp/fc0076fed005280b /tmp/fc0076fed005c172 /tmp/fc0076fed0066a63 /tmp/fc0076fed0071042 /tmp/fc0076fed007c0df /tmp/fc0076fed00860cd /tmp/fc0076fed0091114 /tmp/fc0076fed009abd6 /tmp/fc0076fed00a5a05 /tmp/fc0076fed00b11e1 /tmp/fc0076fed00bbddf /tmp/fc0076fed00c5b30 /tmp/fc0076fed00d0fe2 /tmp/fc0076fed00da853 /tmp/fc0076fed00e53ed /tmp/fc0076fed00eec50 /tmp/fc0076fed00f9ce7 /tmp/fc0076fed01037c4 /tmp/fc0076fed010dcd7 /tmp/fc0076fed011fdb9 /tmp/fc0076fed012a44f /tmp/fc0076fed0134b96 /tmp/fc0076fed014195e /tmp/fc0076fed014c824 /tmp/fc0076fed01572b5 /tmp/fc0076fed0161e25 /tmp/fc0076fed016d009 /tmp/fc0076fed0178ed9 /tmp/fc0076fed0184e4e /tmp/fc0076fed018d87c /tmp/fc0076fed0197a08 /tmp/fc0076fed01a1740 /tmp/fc0076fed01b1440 /tmp/fc0076fed01baf64 /tmp/fc0076fed01c5a8a /tmp/fc0076fed01cf321 /tmp/fc0076fed01da361 /tmp/fc0076fed01e3e0d /tmp/fc0076fed01ef9cd /tmp/fc0076fed01f9b18 /tmp/fc0076fed02047ea /tmp/fc0076fed020db8c /tmp/fc0076fed0218972 /tmp/fc0076fed022236d /tmp/fc0076fed022d273 /tmp/fc0076fed0237be8 /tmp/fc0076fed02422c0 /tmp/fc0076fed024de76 /tmp/fc0076fed0258894 /tmp/fc0076fed02629ff /tmp/fc0076fed026d522 /tmp/fc0076fed0277226 /tmp/fc0076fed0283842 /tmp/fc0076fed028d950 /tmp/fc0076fed0298455 /tmp/fc0076fed02a1e58 /tmp/fc0076fed02ac7f4 /tmp/fc0076fed02b79fa /tmp/fc0076fed02c2af8 /tmp/fc0076fed02cc7da /tmp/fc0076fed02d76f0 /tmp/fc0076fed02e1494 /tmp/fc0076fed02ec62c /tmp/fc0076fed02f6526 /tmp/fc0076fed0301860 /tmp/fc0076fed030b881 /tmp/fc0076fed0317225 /tmp/fc0076fed03224c1 /tmp/fc0076fed032c280 /tmp/fc0076fed0336a71 /tmp/fc0076fed034032d /tmp/fc0076fed034af42 /tmp/fc0076fed0354977 /tmp/fc0076fed035f48b /tmp/fc0076fed0368dc8 /tmp/fc0076fed0374477 /tmp/fc0076fed0382929 /tmp/fc0076fed038c6ca /tmp/fc0076fed0396f45 /tmp/fc0076fed03a1037 /tmp/fc0076fed03abc6e /tmp/fc0076fed03b5a55 /tmp/fc0076fed03c0d74 /tmp/fc0076fed03c9e02 /tmp/fc0076fed03d29fb /tmp/fc0076fed03da1ca /tmp/fc0076fed03e0bb2 /tmp/fc0076fed03e8e7f /tmp/fc0076fed03eefb1 /tmp/fc0076fed03f402d /tmp/fc0076fed03f9082 /tmp/fc0076fed03ff030 /tmp/fc0076fed097cb9a /tmp/fc0076fed0987c27 /tmp/fc0076fed098d9f2 /tmp/fc0076fed0993f87 /tmp/fc0076fed0997c1b /tmp/fc0076fed099bda7 /tmp/fc0076fed09a0c1c /tmp/fc0076fed09a4f65 /tmp/fc0076fed09aa3c8 /tmp/fc0076fed09aed3d /tmp/fc0076fed09b3883 /tmp/fc0076fed09b7f00 /tmp/fc0076fed09bcdab /tmp/fc0076fed09c5adf /tmp/fc0076fed09cfe9f /tmp/fc0076fed09da747 /tmp/fc0076fed09e5394 /tmp/fc0076fed09efa26 /tmp/fc0076fed09fa069 /tmp/fc0076fed0a05180 /tmp/fc0076fed0a10664 /tmp/fc0076fed0a1b91e /tmp/fc0076fed0a2649a /tmp/fc0076fed0a30cd7 /tmp/fc0076fed0a3c335 /tmp/fc0076fed0a47348 /tmp/fc0076fed0a53b5a /tmp/fc0076fed0a6338b /tmp/fc0076fed0a6f665 /tmp/fc0076fed0a75aca /tmp/fc0076fed0a79eef /tmp/fc0076fed0a7e00e /tmp/fc0076fed0a84b3e /tmp/fc0076fed0a8edb1 /tmp/fc0076fed0a97419 /tmp/fc0076fed0a9f1c6 /tmp/fc0076fed0aa84e7 /tmp/fc0076fed0ab0ea9 /tmp/fc0076fed0ab71cf /tmp/fc0076fed0aba752 /tmp/fc0076fed0abe6ea /tmp/fc0076fed0ac138c /tmp/fc0076fed0ac41c8 /tmp/fc0076fed0ac70cc /tmp/fc0076fed0ac9e08 /tmp/fc0076fed0acd73a /tmp/fc0076fed0ad0d6e /tmp/fc0076fed0ad3c44 /tmp/fc0076fed0ad6743 /tmp/fc0076fed0adae21 /tmp/fc0076fed0ade971 /tmp/fc0076fed0ae16b6 /tmp/fc0076fed0ae4648 /tmp/fc0076fed0ae700c /tmp/fc0076fed0aea192 /tmp/fc0076fed0aed0a9 /tmp/fc0076fed0af0c82 /tmp/fc0076fed0af3703 /tmp/fc0076fed0af654a /tmp/fc0076fed0af9106 /tmp/fc0076fed0afc04a /tmp/fc0076fed0afefb8 /tmp/fc0076fed0b02762 /tmp/fc0076fed0b057d3 /tmp/fc0076fed0b08519 /tmp/fc0076fed0b0b1a7 /tmp/fc0076fed0b0e23a /tmp/fc0076fed0b10d72 /tmp/fc0076fed0b1429d /tmp/fc0076fed0b17a9c /tmp/fc0076fed0b1a888 /tmp/fc0076fed0b1d55d /tmp/fc0076fed0b20c2a /tmp/fc0076fed0b2323f /tmp/fc0076fed0b25fd9 /tmp/fc0076fed0b298e4 /tmp/fc0076fed0b2c9d6 /tmp/fc0076fed0b2f501 /tmp/fc0076fed0b33e5e /tmp/fc0076fed0b37b17 /tmp/fc0076fed0b3ac63 /tmp/fc0076fed0b3d833 /tmp/fc0076fed0b402f6 /tmp/fc0076fed0b433e5 /tmp/fc0076fed0b46063 /tmp/fc0076fed0b49cde /tmp/fc0076fed0b4eb38 /tmp/fc0076fed0b56dca /tmp/fc0076fed0b5dec9 /tmp/fc0076fed0b66d18 /tmp/fc0076fed0b73351 /tmp/fc0076fed0b7be4d /tmp/fc0076fed0b85953 /tmp/fc0076fed0b8e88f /tmp/fc0076fed0b966cc /tmp/fc0076fed0b9cec4 /tmp/fc0076fed0ba5242 /tmp/fc0076fed0bacc48 /tmp/fc0076fed0baf8cd /tmp/fc0076fed0bb2c65 /tmp/fc0076fed0bb5034 /tmp/fc0076fed0bb92f8 /tmp/fc0076fed0bbc254 /tmp/fc0076fed0bc0090 /tmp/fc0076fed0bc2dbd /tmp/fc0076fed0bc6e24 /tmp/fc0076fed0bc9ead /tmp/fc0076fed0bcdb0c /tmp/fc0076fed0bd078a /tmp/fc0076fed0bd29ed /tmp/fc0076fed0bd4c83 /tmp/fc0076fed0bd7d59 /tmp/fc0076fed0bda24d /tmp/fc0076fed0bdc4bb /tmp/fc0076fed0bde85e /tmp/fc0076fed0be099d /tmp/fc0076fed0be35a0 /tmp/fc0076fed0be4d89 /tmp/fc0076fed0be6fba /tmp/fc0076fed0be9e5d /tmp/fc0076fed0bec19a /tmp/fc0076fed0bee3df /tmp/fc0076fed0bf08b9 /tmp/fc0076fed0bf2bb0 /tmp/fc0076fed0bf4de3 /tmp/fc0076fed0bf7062 /tmp/fc0076fed0bf9236 /tmp/fc0076fed0bfbf0c /tmp/fc0076fed0bfe14a /tmp/fc0076fed0c00367 /tmp/fc0076fed0c02524 /tmp/fc0076fed0c0466f /tmp/fc0076fed0c067d2 /tmp/fc0076fed0c0895f /tmp/fc0076fed0c0ac0f /tmp/fc0076fed0c0cf5c /tmp/fc0076fed0c0feab /tmp/fc0076fed0c1281d /tmp/fc0076fed0c14af6 /tmp/fc0076fed0c16ca9 /tmp/fc0076fed0c18e6e /tmp/fc0076fed0c1b08b /tmp/fc0076fed0c1dcbb /tmp/fc0076fed0c20185 /tmp/fc0076fed0c223a2 /tmp/fc0076fed0c24626 /tmp/fc0076fed0c26816 /tmp/fc0076fed0c28a54 /tmp/fc0076fed0c2abe2 /tmp/fc0076fed0c2da45 /tmp/fc0076fed0c2fce0 /tmp/fc0076fed0c31fa4 /tmp/fc0076fed0c34368 /tmp/fc0076fed0c364f2 /tmp/fc0076fed0c3864c /tmp/fc0076fed0c3a902 /tmp/fc0076fed0c3d8bd /tmp/fc0076fed0c3fb8e /tmp/fc0076fed0c41f5e /tmp/fc0076fed0c44159 /tmp/fc0076fed0c463b2 /tmp/fc0076fed0c48563 /tmp/fc0076fed0c4b3ad /tmp/fc0076fed0c4d6fe /tmp/fc0076fed0c4fa36 /tmp/fc0076fed0c51da4 /tmp/fc0076fed0c53f57 /tmp/fc0076fed0c561f2 /tmp/fc0076fed0c58ffc /tmp/fc0076fed0c5b82a /tmp/fc0076fed0c5db06 /tmp/fc0076fed0c5fd7a /tmp/fc0076fed0c61f69 /tmp/fc0076fed0c641f5 /tmp/fc0076fed0c6641e /tmp/fc0076fed0c6928f /tmp/fc0076fed0c6b816 /tmp/fc0076fed0c6dbb7 /tmp/fc0076fed0c6fdc8 /tmp/fc0076fed0c71fcd /tmp/fc0076fed0c7425f /tmp/fc0076fed0c76c34 /tmp/fc0076fed0c793ec /tmp/fc0076fed0c7b657 /tmp/fc0076fed0c7dcce /tmp/fc0076fed0c7ff48 /tmp/fc0076fed0c822c4 /tmp/fc0076fed0c844c0 /tmp/fc0076fed0c874f8 /tmp/fc0076fed0c8994b /tmp/fc0076fed0c8bbf4 /tmp/fc0076fed0c8dda9 /tmp/fc0076fed0c9001a /tmp/fc0076fed0c922cd /tmp/fc0076fed0c954c2 /tmp/fc0076fed0c97b03 /tmp/fc0076fed0c99d7d /tmp/fc0076fed0c9c01d /tmp/fc0076fed0c9e31c /tmp/fc0076fed0ca051b /tmp/fc0076fed0ca2725 /tmp/fc0076fed0ca5863 /tmp/fc0076fed0ca8c76 /tmp/fc0076fed0cade4a /tmp/fc0076fed0cb2724 /tmp/fc0076fed0cbbabc /tmp/fc0076fed0cc0a03 /tmp/fc0076fed0cc4a9b /tmp/fc0076fed0d96132 /tmp/fc0076fed0d9cd42 /tmp/fc0076fed0da2d04 /tmp/fc0076fed0da6e04 /tmp/fc0076fed0dac319 /tmp/fc0076fed0db19e1 /tmp/fc0076fed0db91f2 /tmp/fc0076fed0dbe0d1 /tmp/fc0076fed0e676fe /tmp/fc0076fed0e78a9d /tmp/fc0076fed0e7d5fe /tmp/fc0076fed0e8667e /tmp/fc0076fed0e9ac5c /tmp/fc0076fed0ea19fc /tmp/fc0076fed0eade8e /tmp/fc0076fed0eb718c /tmp/fc0076fed0ec2be5 /tmp/fc0076fed0ece147 /tmp/fc0076fed0ed6e5b /tmp/fc0076fed0eda54d /tmp/fc0076fed0ede221 /tmp/fc0076fed0ee14b0 /tmp/fc0076fed0ee43b8 /tmp/fc0076fed0ee861b /tmp/fc0076fed0eeb890 /tmp/fc0076fed0ef1568 /tmp/fc0076fed0ef5f15 /tmp/fc0076fed0ef9afe /tmp/fc0076fed0efde54 /tmp/fc0076fed0f01207 /tmp/fc0076fed0f0537f /tmp/fc0076fed0f084fa /tmp/fc0076fed0f0b8e4 /tmp/fc0076fed0f0fc31 /tmp/fc0076fed0f13aff /tmp/fc0076fed0f1a1b8 /tmp/fc0076fed0f1e605 /tmp/fc0076fed0f21b59 /tmp/fc0076fed0f2591d /tmp/fc0076fed0f4f7f5 /tmp/fseventsd-uuid /tmp/latestjoinedlocation.ini /tmp/powerlog /tmp/webex\n"
     ]
    }
   ],
   "source": [
    "echo /tmp/*"
   ]
  },
  {
   "cell_type": "markdown",
   "metadata": {},
   "source": [
    "Jakie są kluczowe różnice między tym a wyjściem ls? Jak to może być przydatne? Albo w czym przeszkadzać?\\\n",
    "Jak możecie zmienić nazwy wszystkich plików .txt na .bak? Zwróćcie na to uwagę:\n",
    "\n",
    "```sh\n",
    "mv *.txt *.bak\n",
    "```\n",
    "\n",
    "Nie przyniesie pożądanego efektu; pomyślcie o tym, jak to zostanie rozszerzone przez powłokę, zanim zostanie przekazane do `mv`."
   ]
  },
  {
   "cell_type": "markdown",
   "metadata": {},
   "source": [
    "> #### Zadanie domowe\n",
    "> Spróbujcie tego używając `echo` zamiast `mv`, i sprawdźcie, czy to pomoże."
   ]
  },
  {
   "cell_type": "markdown",
   "metadata": {},
   "source": [
    "Symbolom wieloznacznym przyjrzymy się dalej, kiedy omawiać będziemy kilka koncepcji, które nie zostały jeszcze omówione."
   ]
  },
  {
   "cell_type": "markdown",
   "metadata": {},
   "source": [
    "### Pętle\n",
    "\n",
    "Większość języków ma koncepcję pętli: jeśli chcemy powtórzyć zadanie dwadzieścia razy, nie chcemy wpisywać kodu dwadzieścia razy, być może za każdym razem z niewielką zmianą.\\\n",
    "W rezultacie mamy pętle `for` i `while` w powłoce Bourne'a. Jest to nieco mniej funkcji niż inne języki, ale nikt nie twierdził, że programowanie powłoki ma moc języków C lub Python."
   ]
  },
  {
   "cell_type": "markdown",
   "metadata": {},
   "source": [
    "#### Pętle for\n",
    "\n",
    "Pętle `for` iterują przez zestaw wartości, aż lista zostanie wyczerpana:\n",
    "\n",
    "[`for.sh`](https://github.com/miklesz/CodeBrainers/blob/master/Unix_Shell_Git/for.sh)"
   ]
  },
  {
   "cell_type": "code",
   "execution_count": 32,
   "metadata": {},
   "outputs": [
    {
     "name": "stdout",
     "output_type": "stream",
     "text": [
      "Pętla ... numer 1\n",
      "Pętla ... numer 2\n",
      "Pętla ... numer 3\n",
      "Pętla ... numer 4\n",
      "Pętla ... numer 5\n"
     ]
    }
   ],
   "source": [
    "#!/bin/sh\n",
    "for i in 1 2 3 4 5\n",
    "do\n",
    "  echo \"Pętla ... numer $i\"\n",
    "done"
   ]
  },
  {
   "cell_type": "markdown",
   "metadata": {},
   "source": [
    "Wypróbuj ten kod i zobacz, co robi. Zauważ, że wartości mogą być dowolne:\n",
    "\n",
    "[`for2.sh`](https://github.com/miklesz/CodeBrainers/blob/master/Unix_Shell_Git/for2.sh)"
   ]
  },
  {
   "cell_type": "code",
   "execution_count": 33,
   "metadata": {},
   "outputs": [
    {
     "name": "stdout",
     "output_type": "stream",
     "text": [
      "Pętla ... zmienna i jest ustawiona na cześć\n",
      "Pętla ... zmienna i jest ustawiona na 1\n",
      "Pętla ... zmienna i jest ustawiona na Git - GitHub Desktop.ipynb\n",
      "Pętla ... zmienna i jest ustawiona na Git - konspekt, Git.ipynb\n",
      "Pętla ... zmienna i jest ustawiona na Unix Shell - konspekt, Unix, zmienne środowiskowe.ipynb\n",
      "Pętla ... zmienna i jest ustawiona na Unix Shell - skrypty powłoki.ipynb\n",
      "Pętla ... zmienna i jest ustawiona na Untitled folder\n",
      "Pętla ... zmienna i jest ustawiona na a\n",
      "Pętla ... zmienna i jest ustawiona na first.sh\n",
      "Pętla ... zmienna i jest ustawiona na first2.sh\n",
      "Pętla ... zmienna i jest ustawiona na for.sh\n",
      "Pętla ... zmienna i jest ustawiona na for2.sh\n",
      "Pętla ... zmienna i jest ustawiona na index.html\n",
      "Pętla ... zmienna i jest ustawiona na myfile\n",
      "Pętla ... zmienna i jest ustawiona na myvar2.sh\n",
      "Pętla ... zmienna i jest ustawiona na nowyplik.txt\n",
      "Pętla ... zmienna i jest ustawiona na pierwszy.txt\n",
      "Pętla ... zmienna i jest ustawiona na plik.txt\n",
      "Pętla ... zmienna i jest ustawiona na user.sh\n",
      "Pętla ... zmienna i jest ustawiona na var.sh\n",
      "Pętla ... zmienna i jest ustawiona na var2.sh\n",
      "Pętla ... zmienna i jest ustawiona na while.sh\n",
      "Pętla ... zmienna i jest ustawiona na while2.sh\n",
      "Pętla ... zmienna i jest ustawiona na while3a.sh\n",
      "Pętla ... zmienna i jest ustawiona na while3b.sh\n",
      "Pętla ... zmienna i jest ustawiona na 2\n",
      "Pętla ... zmienna i jest ustawiona na pożegnanie\n"
     ]
    }
   ],
   "source": [
    "#!/bin/sh\n",
    "for i in cześć 1 * 2 pożegnanie\n",
    "do\n",
    "  echo \"Pętla ... zmienna i jest ustawiona na $i\"\n",
    "done"
   ]
  },
  {
   "cell_type": "markdown",
   "metadata": {},
   "source": [
    "Warto spróbować. Upewnijcie się, że rozumiecie, co się tutaj dzieje. Wypróbujcie bez `*` i zrozumcie na czym polega pomysł, a następnie przypomnijcie sobie ponownie sekcję Symbole wieloznaczne i spróbujcie ponownie z `*` na miejscu. Wypróbujcie również w różnych katalogach, z `*` otoczonym podwójnymi cudzysłowami i spróbujcie go poprzedzić odwrotnym ukośnikiem (`\\*`)"
   ]
  },
  {
   "cell_type": "code",
   "execution_count": 34,
   "metadata": {},
   "outputs": [
    {
     "name": "stdout",
     "output_type": "stream",
     "text": [
      "Pętla ... zmienna i jest ustawiona na cześć\n",
      "Pętla ... zmienna i jest ustawiona na 1\n",
      "Pętla ... zmienna i jest ustawiona na *\n",
      "Pętla ... zmienna i jest ustawiona na 2\n",
      "Pętla ... zmienna i jest ustawiona na pożegnanie\n"
     ]
    }
   ],
   "source": [
    "#!/bin/sh\n",
    "for i in cześć 1 \\* 2 pożegnanie\n",
    "do\n",
    "  echo \"Pętla ... zmienna i jest ustawiona na $i\"\n",
    "done"
   ]
  },
  {
   "cell_type": "markdown",
   "metadata": {},
   "source": [
    "Tak więc, jak widać, pętle `for` przechodzą przez dowolne dane wejściowe, dopóki nie skończą się dane wejściowe."
   ]
  },
  {
   "cell_type": "markdown",
   "metadata": {},
   "source": [
    "#### Pętle while\n",
    "\n",
    "Tymczasem pętle `while` mogą być o wiele przyjemniejsze! (w zależności od Waszego pomysłu na to, jak definiujecie \"przyjemność\" i tego, jak często wychodzicie z domu).\n",
    "\n",
    "[`while.sh`](https://github.com/miklesz/CodeBrainers/blob/master/Unix_Shell_Git/while.sh)\n",
    "\n",
    "```sh\n",
    "#!/bin/sh\n",
    "INPUT_STRING=cześć\n",
    "while [ \"$INPUT_STRING\" != \"żegnaj\" ]\n",
    "do\n",
    "  echo \"Wpisz coś (żegnaj, żeby wyjść)\"\n",
    "  read INPUT_STRING\n",
    "  echo \"Wpisano: $INPUT_STRING\"\n",
    "done\n",
    "```"
   ]
  },
  {
   "cell_type": "markdown",
   "metadata": {},
   "source": [
    "W tym przypadku instrukcje echo i read będą działały przez czas nieokreślony, dopóki nie wpiszecie `żegnaj`; gdy pojawi się monit.\\\n",
    "Przypomnijcie sobie część kursu poświęconą zmiennym, aby zobaczyć, dlaczego ustawiliśmy `INPUT_STRING=cześć` przed przetestowaniem. To sprawia, że jest to pętla powtarzania, a nie tradycyjna pętla while.\n",
    "\n",
    "Dwukropek (`:`) zawsze daje wartość true; Chociaż użycie tego może być czasami konieczne, często lepiej jest użyć rzeczywistego warunku zakończenia. Porównajcie wyjście z powyższej pętli z poniższą; zobaczcie, który jest bardziej elegancki. Pomyślcie także o sytuacjach, w których każda z nich byłaby bardziej przydatna od drugiej:\n",
    "\n",
    "[`while2.sh`](https://github.com/miklesz/CodeBrainers/blob/master/Unix_Shell_Git/while2.sh)\n",
    "\n",
    "```sh\n",
    "#!/bin/sh\n",
    "while :\n",
    "do\n",
    "  echo \"Wpisz coś (^C, aby zakończyć)\"\n",
    "  read INPUT_STRING\n",
    "  echo \"Wpisano: $INPUT_STRING\"\n",
    "done\n",
    "```"
   ]
  },
  {
   "cell_type": "markdown",
   "metadata": {},
   "source": [
    "Kolejną przydatną sztuczką jest pętla `while read f`. W tym przykładzie użyto instrukcji `case`, którą omówimy później. Skrypt czyta z pliku [`myfile`](https://github.com/miklesz/CodeBrainers/blob/master/Unix_Shell_Git/myfile) i dla każdej linii mówi nam, jaki (ludzki, a nie komputerowy) język jest używany. Każda linia musi kończyć się LF (nowa linia) - jeśli:"
   ]
  },
  {
   "cell_type": "code",
   "execution_count": 35,
   "metadata": {},
   "outputs": [
    {
     "name": "stdout",
     "output_type": "stream",
     "text": [
      "hello\n",
      "howdy\n",
      "gday\n",
      "bonjour\n",
      "guten tag\n",
      "dzień dobry\n"
     ]
    }
   ],
   "source": [
    "cat myfile"
   ]
  },
  {
   "cell_type": "markdown",
   "metadata": {},
   "source": [
    "nie kończy się pustą linią, ta ostatnia linia nie będzie przetwarzana.\n",
    "\n",
    "[`while3a.sh`](https://github.com/miklesz/CodeBrainers/blob/master/Unix_Shell_Git/while3a.sh)"
   ]
  },
  {
   "cell_type": "code",
   "execution_count": 36,
   "metadata": {},
   "outputs": [
    {
     "name": "stdout",
     "output_type": "stream",
     "text": [
      "angielski\n",
      "amerykański\n",
      "australijski\n",
      "francuski\n",
      "niemiecki\n",
      "nieznany język: dzień dobry\n"
     ]
    }
   ],
   "source": [
    "#!/bin/sh\n",
    "while read f\n",
    "do\n",
    "    case $f in\n",
    "        hello)          echo angielski     ;;\n",
    "        howdy)          echo amerykański   ;;\n",
    "        gday)           echo australijski  ;;\n",
    "        bonjour)        echo francuski     ;;\n",
    "        \"guten tag\")    echo niemiecki     ;;\n",
    "        *)              echo nieznany język: $f         ;;\n",
    "    esac\n",
    "done < myfile"
   ]
  },
  {
   "cell_type": "markdown",
   "metadata": {},
   "source": [
    "W wielu systemach Unix (ale nie GNU / Linux) można to również zrobić w następujący sposób:\n",
    "\n",
    "[`while3b.sh`](https://github.com/miklesz/CodeBrainers/blob/master/Unix_Shell_Git/while3b.sh)\n",
    "\n",
    "```sh\n",
    "#!/bin/sh\n",
    "while f=`line`\n",
    "do\n",
    "    case $f in\n",
    "        hello)          echo angielski     ;;\n",
    "        howdy)          echo amerykański   ;;\n",
    "        gday)           echo australijski  ;;\n",
    "        bonjour)        echo francuski     ;;\n",
    "        \"guten tag\")    echo niemiecki     ;;\n",
    "        *)              echo nieznany język: $f         ;;\n",
    "    esac\n",
    "done < myfile\n",
    "```"
   ]
  },
  {
   "cell_type": "markdown",
   "metadata": {},
   "source": [
    "Ale ponieważ `while read f` działa z dowolnym \\*niksem i nie zależy od programu zewnętrznego `line`, preferowany jest ten pierwszy sposób."
   ]
  },
  {
   "cell_type": "markdown",
   "metadata": {},
   "source": [
    "### Test\n",
    "\n",
    "Test jest używany przez praktycznie każdy napisany skrypt powłoki. Może się tak nie wydawać, ponieważ `test` nie jest często wywoływany bezpośrednio. `test` jest częściej nazywany `[`. `[` jest dowiązaniem symbolicznym do `test`, aby uczynić programy powłoki bardziej czytelnymi. Zwykle jest to również wbudowane w powłokę (co oznacza, że sama powłoka zinterpretuje znaczenie `[` jako `test`, nawet jeśli Wasze środowisko jest inaczej skonfigurowane):"
   ]
  },
  {
   "cell_type": "code",
   "execution_count": 38,
   "metadata": {},
   "outputs": [
    {
     "name": "stdout",
     "output_type": "stream",
     "text": [
      "[ is a shell builtin\n"
     ]
    }
   ],
   "source": [
    "type ["
   ]
  },
  {
   "cell_type": "code",
   "execution_count": 40,
   "metadata": {},
   "outputs": [
    {
     "name": "stdout",
     "output_type": "stream",
     "text": [
      "/bin/[\n"
     ]
    }
   ],
   "source": [
    "which ["
   ]
  },
  {
   "cell_type": "code",
   "execution_count": 41,
   "metadata": {},
   "outputs": [
    {
     "name": "stdout",
     "output_type": "stream",
     "text": [
      "-rwxr-xr-x  1 root  wheel  121104  1 sty  2020 /bin/[\n"
     ]
    }
   ],
   "source": [
    "ls -l /bin/["
   ]
  },
  {
   "cell_type": "code",
   "execution_count": 42,
   "metadata": {},
   "outputs": [
    {
     "name": "stdout",
     "output_type": "stream",
     "text": [
      "-rwxr-xr-x  1 root  wheel  121104  1 sty  2020 /bin/test\n"
     ]
    }
   ],
   "source": [
    "ls -l /bin/test"
   ]
  },
  {
   "cell_type": "markdown",
   "metadata": {},
   "source": [
    "Oznacza to, że '`[`' jest programem, tak jak `ls` i inne programy, więc muszą go otaczać spacje:\n",
    "\n",
    "```sh\n",
    "if [$foo = \"bar\" ]\n",
    "```"
   ]
  },
  {
   "cell_type": "markdown",
   "metadata": {},
   "source": [
    "nie będzie działać; jest interpretowane tak: `if test $ foo = \"bar\"]`, co oznacza '`]`' bez początkowego '`[`'."
   ]
  },
  {
   "cell_type": "markdown",
   "metadata": {},
   "source": [
    "Umieśćcie spacje wokół wszystkich swoich operatorów.\n",
    "\n",
    "Podkreślono obowiązkowe spacje słowem „SPACJA” - zamieńcie „SPACJA” na rzeczywistą spację; jeśli nie ma tam spacji, to nie zadziała:\n",
    "\n",
    "```sh\n",
    "if SPACJA [ SPACJA \"$foo\" SPACJA = SPACJA \"bar\" SPACJA ]\n",
    "```"
   ]
  },
  {
   "cell_type": "markdown",
   "metadata": {},
   "source": [
    "Uwaga: Niektóre powłoki akceptują również „`==`” do porównywania łańcuchów; to nie jest przenośne, powinno się używać pojedynczego „`=`” dla łańcuchów lub „`-eq`” dla liczb całkowitych.\n",
    "\n",
    "Test jest prostym, ale potężnym narzędziem porównawczym. Aby uzyskać szczegółowe informacje, w tym zestaw porównań `test`owych, uruchomcie `man test` w swoim systemie, ale oto kilka zastosowań i typowe przykłady."
   ]
  },
  {
   "cell_type": "markdown",
   "metadata": {},
   "source": [
    "#### If .. Then .. Else\n",
    "\n",
    "Test jest najczęściej wywoływany pośrednio za pomocą instrukcji `if` i `while`. Jest to również powód, dla którego napotkasz trudności, jeśli utworzycie program nazwany `test` i spróbujecie go uruchomić, ponieważ ta wbudowana powłoka zostanie wywołana zamiast Waszego programu!\\\n",
    "Składnia `if ... then ... else ...` to:\n",
    "\n",
    "```sh\n",
    "if [ ... ]\n",
    "then\n",
    "  # kod if\n",
    "else\n",
    "  # kod else\n",
    "fi\n",
    "```\n",
    "\n",
    "Zwróćcie uwagę, że `fi` jest odwróconym `if`! Jest to używane również z `case` i `esac`.\\\n",
    "Zwróćcie także uwagę na składnię - polecenia „`if [...]`” i „`then`” muszą znajdować się w różnych wierszach. Alternatywnie, średnik \"`;`\" można je rozdzielić:\n",
    "\n",
    "```sh\n",
    "if [ ... ]; then\n",
    "  # zrób coś\n",
    "fi\n",
    "```\n",
    "\n",
    "Możesz także użyć `elif`, na przykład:\n",
    "\n",
    "```sh\n",
    "if  [ something ]; then\n",
    " echo \"Coś\"\n",
    " elif [ something_else ]; then\n",
    "   echo \"Coś innego\"\n",
    " else\n",
    "   echo \"Żadne z powyższych\"\n",
    "fi\n",
    "```\n",
    "\n",
    "Jeśli test `[ something ]` się powiedzie, zrobi `echo „coś”`. W przeciwnym razie przetestuje `[ something_else ]` i zrobi `echo „Coś innego”`, jeśli to się powiedzie. Jeśli wszystko inne zawiedzie, zrobi się `echo „Żadne z powyższych”`."
   ]
  },
  {
   "cell_type": "code",
   "execution_count": null,
   "metadata": {},
   "outputs": [],
   "source": []
  }
 ],
 "metadata": {
  "kernelspec": {
   "display_name": "Bash",
   "language": "bash",
   "name": "bash"
  },
  "language_info": {
   "codemirror_mode": "shell",
   "file_extension": ".sh",
   "mimetype": "text/x-sh",
   "name": "bash"
  }
 },
 "nbformat": 4,
 "nbformat_minor": 4
}
