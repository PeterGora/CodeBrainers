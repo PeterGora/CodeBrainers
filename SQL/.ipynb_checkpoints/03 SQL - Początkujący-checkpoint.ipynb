{
 "cells": [
  {
   "cell_type": "markdown",
   "metadata": {},
   "source": [
    "![](data:image/jpeg;base64,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)"
   ]
  },
  {
   "cell_type": "markdown",
   "metadata": {},
   "source": [
    "# SQL - Początkujący\n",
    "\n",
    "_Mikołaj Leszczuk_\n",
    "\n",
    "* Wybieranie rekordów – operacja `SELECT`\n",
    "* Usuwanie rekordów – operacja `DELETE`\n",
    "* Dodawanie rekordów – operacja `INSERT`\n",
    "* Zmiana rekordów – operacja `UPDATE`\n",
    "* Tworzenie i usuwanie bazy danych\n",
    "* Tworzenie tabeli w bazie danych"
   ]
  },
  {
   "cell_type": "markdown",
   "metadata": {},
   "source": [
    "[02 SQL - Reset.ipynb](02%20SQL%20-%20Reset.ipynb)"
   ]
  },
  {
   "cell_type": "code",
   "execution_count": 3,
   "metadata": {},
   "outputs": [],
   "source": [
    "%LOAD CodeBrainers.db rw"
   ]
  },
  {
   "cell_type": "markdown",
   "metadata": {},
   "source": [
    "## Wybieranie rekordów – operacja `SELECT`"
   ]
  },
  {
   "cell_type": "markdown",
   "metadata": {},
   "source": [
    "Zapytanie `SELECT` służy do wybierania z bazy danych żądanych rekordów. Jest ono podstawowym i najbardziej rozbudowanym poleceniem języka SQL gdyż często potrzebujemy zaprezentować dane w odpowiedni sposób oraz pobrać je w zależności od innych parametrów. Zapytanie składa się z:\n",
    "\n",
    "* instrukcji `SELECT` oznaczającej chęć wybrania danych z bazy\n",
    "* nazw kolumn oddzielonych przecinkami znajdujących się w tabeli (`*` - wszystkie)\n",
    "* części `FROM` w której podajemy nazwę tabeli\n",
    "\n",
    "```sqlite\n",
    "SELECT kolumna,kolumna,.. FROM tabela;\n",
    "```\n",
    "\n",
    "```sqlite\n",
    "SELECT * FROM tabela;\n",
    "```\n",
    "\n",
    "Musimy uważać, aby wybierane kolumny istniały w tabeli oraz aby zachować pożądaną kolejność, gdyż kolumny danych będą zwrócone zgodnie z podaną kolejnością."
   ]
  },
  {
   "cell_type": "markdown",
   "metadata": {},
   "source": [
    "#### Przykład\n",
    "\n",
    "**Wybieramy z tabeli Customer wszystkich klientów z ich identyfikatorami, imionami oraz miastami.**\n",
    "\n",
    "Tabela **Customer**:"
   ]
  },
  {
   "cell_type": "code",
   "execution_count": 4,
   "metadata": {},
   "outputs": [
    {
     "data": {
      "text/html": [
       "<table>\n",
       "<tr>\n",
       "<th>id</th>\n",
       "<th>name</th>\n",
       "<th>city</th>\n",
       "<th>date</th>\n",
       "</tr>\n",
       "<tr>\n",
       "<td>1</td>\n",
       "<td>Adam</td>\n",
       "<td>Lublin</td>\n",
       "<td>2011-02-05</td>\n",
       "</tr>\n",
       "<tr>\n",
       "<td>2</td>\n",
       "<td>Monika</td>\n",
       "<td>Gdynia</td>\n",
       "<td>2011-02-19</td>\n",
       "</tr>\n",
       "<tr>\n",
       "<td>3</td>\n",
       "<td>Natalia</td>\n",
       "<td>Zakopane</td>\n",
       "<td>2011-02-23</td>\n",
       "</tr>\n",
       "<tr>\n",
       "<td>4</td>\n",
       "<td>Katarzyna</td>\n",
       "<td>Lublin</td>\n",
       "<td>2011-03-08</td>\n",
       "</tr>\n",
       "<tr>\n",
       "<td>5</td>\n",
       "<td>Marcin</td>\n",
       "<td>Warszawa</td>\n",
       "<td>2011-03-21</td>\n",
       "</tr>\n",
       "</table>"
      ],
      "text/plain": [
       "+----+-----------+----------+------------+\n",
       "| id | name      | city     | date       |\n",
       "+----+-----------+----------+------------+\n",
       "| 1  | Adam      | Lublin   | 2011-02-05 |\n",
       "+----+-----------+----------+------------+\n",
       "| 2  | Monika    | Gdynia   | 2011-02-19 |\n",
       "+----+-----------+----------+------------+\n",
       "| 3  | Natalia   | Zakopane | 2011-02-23 |\n",
       "+----+-----------+----------+------------+\n",
       "| 4  | Katarzyna | Lublin   | 2011-03-08 |\n",
       "+----+-----------+----------+------------+\n",
       "| 5  | Marcin    | Warszawa | 2011-03-21 |\n",
       "+----+-----------+----------+------------+"
      ]
     },
     "execution_count": 4,
     "metadata": {},
     "output_type": "execute_result"
    }
   ],
   "source": [
    "SELECT * FROM customer;"
   ]
  },
  {
   "cell_type": "markdown",
   "metadata": {},
   "source": [
    "Zapytanie i wynik zapytania:"
   ]
  },
  {
   "cell_type": "code",
   "execution_count": 5,
   "metadata": {},
   "outputs": [
    {
     "data": {
      "text/html": [
       "<table>\n",
       "<tr>\n",
       "<th>id</th>\n",
       "<th>name</th>\n",
       "<th>city</th>\n",
       "</tr>\n",
       "<tr>\n",
       "<td>1</td>\n",
       "<td>Adam</td>\n",
       "<td>Lublin</td>\n",
       "</tr>\n",
       "<tr>\n",
       "<td>2</td>\n",
       "<td>Monika</td>\n",
       "<td>Gdynia</td>\n",
       "</tr>\n",
       "<tr>\n",
       "<td>3</td>\n",
       "<td>Natalia</td>\n",
       "<td>Zakopane</td>\n",
       "</tr>\n",
       "<tr>\n",
       "<td>4</td>\n",
       "<td>Katarzyna</td>\n",
       "<td>Lublin</td>\n",
       "</tr>\n",
       "<tr>\n",
       "<td>5</td>\n",
       "<td>Marcin</td>\n",
       "<td>Warszawa</td>\n",
       "</tr>\n",
       "</table>"
      ],
      "text/plain": [
       "+----+-----------+----------+\n",
       "| id | name      | city     |\n",
       "+----+-----------+----------+\n",
       "| 1  | Adam      | Lublin   |\n",
       "+----+-----------+----------+\n",
       "| 2  | Monika    | Gdynia   |\n",
       "+----+-----------+----------+\n",
       "| 3  | Natalia   | Zakopane |\n",
       "+----+-----------+----------+\n",
       "| 4  | Katarzyna | Lublin   |\n",
       "+----+-----------+----------+\n",
       "| 5  | Marcin    | Warszawa |\n",
       "+----+-----------+----------+"
      ]
     },
     "execution_count": 5,
     "metadata": {},
     "output_type": "execute_result"
    }
   ],
   "source": [
    "SELECT id,name,city FROM customer;"
   ]
  },
  {
   "cell_type": "markdown",
   "metadata": {},
   "source": [
    "#### Ćwiczenie\n",
    "\n",
    "**Wybierz wszystkie identyfikatory i nazwy produktów**\n",
    "\n",
    "Tabela **Product**:"
   ]
  },
  {
   "cell_type": "code",
   "execution_count": 6,
   "metadata": {},
   "outputs": [
    {
     "data": {
      "text/html": [
       "<table>\n",
       "<tr>\n",
       "<th>id</th>\n",
       "<th>name</th>\n",
       "<th>price</th>\n",
       "<th>amount</th>\n",
       "<th>date</th>\n",
       "</tr>\n",
       "<tr>\n",
       "<td>5</td>\n",
       "<td>Spodnie</td>\n",
       "<td>100.0</td>\n",
       "<td>5</td>\n",
       "<td>2011-02-01</td>\n",
       "</tr>\n",
       "<tr>\n",
       "<td>6</td>\n",
       "<td>Bluza</td>\n",
       "<td>60.0</td>\n",
       "<td>2</td>\n",
       "<td>2011-02-12</td>\n",
       "</tr>\n",
       "</table>"
      ],
      "text/plain": [
       "+----+---------+-------+--------+------------+\n",
       "| id | name    | price | amount | date       |\n",
       "+----+---------+-------+--------+------------+\n",
       "| 5  | Spodnie | 100.0 | 5      | 2011-02-01 |\n",
       "+----+---------+-------+--------+------------+\n",
       "| 6  | Bluza   | 60.0  | 2      | 2011-02-12 |\n",
       "+----+---------+-------+--------+------------+"
      ]
     },
     "execution_count": 6,
     "metadata": {},
     "output_type": "execute_result"
    }
   ],
   "source": [
    "SELECT * FROM product;"
   ]
  },
  {
   "cell_type": "markdown",
   "metadata": {},
   "source": [
    "Wpisz zapytanie do bazy!"
   ]
  },
  {
   "cell_type": "markdown",
   "metadata": {},
   "source": [
    "---"
   ]
  },
  {
   "cell_type": "markdown",
   "metadata": {},
   "source": [
    "Zapytanie:"
   ]
  },
  {
   "cell_type": "code",
   "execution_count": 7,
   "metadata": {},
   "outputs": [
    {
     "data": {
      "text/html": [
       "<table>\n",
       "<tr>\n",
       "<th>id</th>\n",
       "<th>name</th>\n",
       "</tr>\n",
       "<tr>\n",
       "<td>5</td>\n",
       "<td>Spodnie</td>\n",
       "</tr>\n",
       "<tr>\n",
       "<td>6</td>\n",
       "<td>Bluza</td>\n",
       "</tr>\n",
       "</table>"
      ],
      "text/plain": [
       "+----+---------+\n",
       "| id | name    |\n",
       "+----+---------+\n",
       "| 5  | Spodnie |\n",
       "+----+---------+\n",
       "| 6  | Bluza   |\n",
       "+----+---------+"
      ]
     },
     "execution_count": 7,
     "metadata": {},
     "output_type": "execute_result"
    }
   ],
   "source": [
    "SELECT id,name FROM product;"
   ]
  },
  {
   "cell_type": "markdown",
   "metadata": {},
   "source": [
    "Zapytanie `SELECT .. ORDER BY` jest używane do posortowania wybranych danych. Sortowanie odbywa się według wartości podanej kolumny (kolumn). Możemy sortować rosnąco co oznaczamy słowem kluczowym `ASC` (ascend) lub malejąco co oznaczamy słowem `DESC` (descend).\n",
    "\n",
    "```sqlite\n",
    "SELECT kolumna,kolumna,.. FROM tabela ORDER BY kolumna DESC;\n",
    "```\n",
    "\n",
    "Sortować można również według kolumn nie wybieranych w danym zapytaniu a tylko znajdujących się w tabeli."
   ]
  },
  {
   "cell_type": "markdown",
   "metadata": {},
   "source": [
    "#### Przykład\n",
    "\n",
    "**Wybieramy z tabeli Product nazwę, cenę i datę dodania produktu posortowane malejąco według daty dodania.**\n",
    "\n",
    "Tabela **Product**:"
   ]
  },
  {
   "cell_type": "code",
   "execution_count": 9,
   "metadata": {},
   "outputs": [
    {
     "data": {
      "text/html": [
       "<table>\n",
       "<tr>\n",
       "<th>id</th>\n",
       "<th>name</th>\n",
       "<th>price</th>\n",
       "<th>amount</th>\n",
       "<th>date</th>\n",
       "</tr>\n",
       "<tr>\n",
       "<td>5</td>\n",
       "<td>Spodnie</td>\n",
       "<td>100.0</td>\n",
       "<td>5</td>\n",
       "<td>2011-02-01</td>\n",
       "</tr>\n",
       "<tr>\n",
       "<td>6</td>\n",
       "<td>Bluza</td>\n",
       "<td>60.0</td>\n",
       "<td>2</td>\n",
       "<td>2011-02-12</td>\n",
       "</tr>\n",
       "</table>"
      ],
      "text/plain": [
       "+----+---------+-------+--------+------------+\n",
       "| id | name    | price | amount | date       |\n",
       "+----+---------+-------+--------+------------+\n",
       "| 5  | Spodnie | 100.0 | 5      | 2011-02-01 |\n",
       "+----+---------+-------+--------+------------+\n",
       "| 6  | Bluza   | 60.0  | 2      | 2011-02-12 |\n",
       "+----+---------+-------+--------+------------+"
      ]
     },
     "execution_count": 9,
     "metadata": {},
     "output_type": "execute_result"
    }
   ],
   "source": [
    "SELECT * FROM product;"
   ]
  },
  {
   "cell_type": "markdown",
   "metadata": {},
   "source": [
    "Zapytanie i wynik zapytania:"
   ]
  },
  {
   "cell_type": "code",
   "execution_count": 10,
   "metadata": {},
   "outputs": [
    {
     "data": {
      "text/html": [
       "<table>\n",
       "<tr>\n",
       "<th>name</th>\n",
       "<th>price</th>\n",
       "<th>date</th>\n",
       "</tr>\n",
       "<tr>\n",
       "<td>Bluza</td>\n",
       "<td>60.0</td>\n",
       "<td>2011-02-12</td>\n",
       "</tr>\n",
       "<tr>\n",
       "<td>Spodnie</td>\n",
       "<td>100.0</td>\n",
       "<td>2011-02-01</td>\n",
       "</tr>\n",
       "</table>"
      ],
      "text/plain": [
       "+---------+-------+------------+\n",
       "| name    | price | date       |\n",
       "+---------+-------+------------+\n",
       "| Bluza   | 60.0  | 2011-02-12 |\n",
       "+---------+-------+------------+\n",
       "| Spodnie | 100.0 | 2011-02-01 |\n",
       "+---------+-------+------------+"
      ]
     },
     "execution_count": 10,
     "metadata": {},
     "output_type": "execute_result"
    }
   ],
   "source": [
    "SELECT name,price,date FROM product ORDER BY date DESC;"
   ]
  },
  {
   "cell_type": "markdown",
   "metadata": {},
   "source": [
    "Zapytanie `SELECT .. WHERE` stosowane jest gdy chcemy wybrać rekordy z tabeli według podanych kryteriów. Wynikiem będą tylko te, które spełniają warunek (warunki) postawiony zaraz po klauzuli `WHERE`.\n",
    "\n",
    "```sqlite\n",
    "SELECT kolumna,kolumna,.. FROM tabela WHERE kolumna='wartość';\n",
    "```\n",
    "\n",
    "Warunki logiczne mogą składać się z operatorów takich jak:\n",
    "\n",
    "* znak równości (`=`)\n",
    "* negacja (`!=`)\n",
    "* znak mniejszości (`<`) lub (`<=`)\n",
    "* znak większości (`>`) lub (`>=`)"
   ]
  },
  {
   "cell_type": "markdown",
   "metadata": {},
   "source": [
    "#### Przykład\n",
    "\n",
    "**Wybieramy z tabeli Customer imiona klientów którzy mieszkają w Lublinie**\n",
    "\n",
    "Tabela **Customer**:"
   ]
  },
  {
   "cell_type": "code",
   "execution_count": 11,
   "metadata": {},
   "outputs": [
    {
     "data": {
      "text/html": [
       "<table>\n",
       "<tr>\n",
       "<th>id</th>\n",
       "<th>name</th>\n",
       "<th>city</th>\n",
       "<th>date</th>\n",
       "</tr>\n",
       "<tr>\n",
       "<td>1</td>\n",
       "<td>Adam</td>\n",
       "<td>Lublin</td>\n",
       "<td>2011-02-05</td>\n",
       "</tr>\n",
       "<tr>\n",
       "<td>2</td>\n",
       "<td>Monika</td>\n",
       "<td>Gdynia</td>\n",
       "<td>2011-02-19</td>\n",
       "</tr>\n",
       "<tr>\n",
       "<td>3</td>\n",
       "<td>Natalia</td>\n",
       "<td>Zakopane</td>\n",
       "<td>2011-02-23</td>\n",
       "</tr>\n",
       "<tr>\n",
       "<td>4</td>\n",
       "<td>Katarzyna</td>\n",
       "<td>Lublin</td>\n",
       "<td>2011-03-08</td>\n",
       "</tr>\n",
       "<tr>\n",
       "<td>5</td>\n",
       "<td>Marcin</td>\n",
       "<td>Warszawa</td>\n",
       "<td>2011-03-21</td>\n",
       "</tr>\n",
       "</table>"
      ],
      "text/plain": [
       "+----+-----------+----------+------------+\n",
       "| id | name      | city     | date       |\n",
       "+----+-----------+----------+------------+\n",
       "| 1  | Adam      | Lublin   | 2011-02-05 |\n",
       "+----+-----------+----------+------------+\n",
       "| 2  | Monika    | Gdynia   | 2011-02-19 |\n",
       "+----+-----------+----------+------------+\n",
       "| 3  | Natalia   | Zakopane | 2011-02-23 |\n",
       "+----+-----------+----------+------------+\n",
       "| 4  | Katarzyna | Lublin   | 2011-03-08 |\n",
       "+----+-----------+----------+------------+\n",
       "| 5  | Marcin    | Warszawa | 2011-03-21 |\n",
       "+----+-----------+----------+------------+"
      ]
     },
     "execution_count": 11,
     "metadata": {},
     "output_type": "execute_result"
    }
   ],
   "source": [
    "SELECT * FROM customer;"
   ]
  },
  {
   "cell_type": "markdown",
   "metadata": {},
   "source": [
    "Zapytanie i wynik zapytania:"
   ]
  },
  {
   "cell_type": "code",
   "execution_count": 12,
   "metadata": {},
   "outputs": [
    {
     "data": {
      "text/html": [
       "<table>\n",
       "<tr>\n",
       "<th>name</th>\n",
       "</tr>\n",
       "<tr>\n",
       "<td>Adam</td>\n",
       "</tr>\n",
       "<tr>\n",
       "<td>Katarzyna</td>\n",
       "</tr>\n",
       "</table>"
      ],
      "text/plain": [
       "+-----------+\n",
       "| name      |\n",
       "+-----------+\n",
       "| Adam      |\n",
       "+-----------+\n",
       "| Katarzyna |\n",
       "+-----------+"
      ]
     },
     "execution_count": 12,
     "metadata": {},
     "output_type": "execute_result"
    }
   ],
   "source": [
    "SELECT name FROM customer WHERE city='Lublin';"
   ]
  },
  {
   "cell_type": "markdown",
   "metadata": {},
   "source": [
    "## Usuwanie rekordów – operacja `DELETE`"
   ]
  },
  {
   "cell_type": "markdown",
   "metadata": {},
   "source": [
    "Zapytanie `DELETE` służy do usuwania z bazy danych rekordów spełniających podane warunki. Jest to polecenie bardzo proste i niezbędne podczas pracy z bazą. Zapytanie składa się z:\n",
    "\n",
    "* instrukcji `DELETE` oznaczającej zapytanie usuwające\n",
    "* części `FROM` w której podajemy nazwę tabeli\n",
    "* warunku `WHERE` w którym podajemy kryteria które musi spełniać rekord aby został usunięty\n",
    "\n",
    "```sqlite\n",
    "DELETE FROM tabela WHERE warunek;\n",
    "```\n",
    "\n",
    "Przy usuwaniu rekordów musimy zwrócić szczególną uwagę na klauzulę warunkową. Musi być ona poprawna i uwzględniać tylko te rekordy które faktycznie chcemy usunąć."
   ]
  },
  {
   "cell_type": "markdown",
   "metadata": {},
   "source": [
    "#### Przykład\n",
    "\n",
    "**Usuwamy z tabeli Product wszystkie produkty których są dwie sztuki**\n",
    "\n",
    "Tabela **Product**:"
   ]
  },
  {
   "cell_type": "code",
   "execution_count": 13,
   "metadata": {},
   "outputs": [
    {
     "data": {
      "text/html": [
       "<table>\n",
       "<tr>\n",
       "<th>id</th>\n",
       "<th>name</th>\n",
       "<th>price</th>\n",
       "<th>amount</th>\n",
       "<th>date</th>\n",
       "</tr>\n",
       "<tr>\n",
       "<td>5</td>\n",
       "<td>Spodnie</td>\n",
       "<td>100.0</td>\n",
       "<td>5</td>\n",
       "<td>2011-02-01</td>\n",
       "</tr>\n",
       "<tr>\n",
       "<td>6</td>\n",
       "<td>Bluza</td>\n",
       "<td>60.0</td>\n",
       "<td>2</td>\n",
       "<td>2011-02-12</td>\n",
       "</tr>\n",
       "</table>"
      ],
      "text/plain": [
       "+----+---------+-------+--------+------------+\n",
       "| id | name    | price | amount | date       |\n",
       "+----+---------+-------+--------+------------+\n",
       "| 5  | Spodnie | 100.0 | 5      | 2011-02-01 |\n",
       "+----+---------+-------+--------+------------+\n",
       "| 6  | Bluza   | 60.0  | 2      | 2011-02-12 |\n",
       "+----+---------+-------+--------+------------+"
      ]
     },
     "execution_count": 13,
     "metadata": {},
     "output_type": "execute_result"
    }
   ],
   "source": [
    "SELECT * FROM product;"
   ]
  },
  {
   "cell_type": "markdown",
   "metadata": {},
   "source": [
    "Zapytanie:"
   ]
  },
  {
   "cell_type": "code",
   "execution_count": 14,
   "metadata": {},
   "outputs": [
    {
     "data": {
      "text/html": [
       "<table>\n",
       "<tr>\n",
       "<th>id</th>\n",
       "<th>name</th>\n",
       "<th>price</th>\n",
       "<th>amount</th>\n",
       "<th>date</th>\n",
       "</tr>\n",
       "<tr>\n",
       "<td>6</td>\n",
       "<td>Bluza</td>\n",
       "<td>60.0</td>\n",
       "<td>2</td>\n",
       "<td>2011-02-12</td>\n",
       "</tr>\n",
       "</table>"
      ],
      "text/plain": [
       "+----+-------+-------+--------+------------+\n",
       "| id | name  | price | amount | date       |\n",
       "+----+-------+-------+--------+------------+\n",
       "| 6  | Bluza | 60.0  | 2      | 2011-02-12 |\n",
       "+----+-------+-------+--------+------------+"
      ]
     },
     "execution_count": 14,
     "metadata": {},
     "output_type": "execute_result"
    }
   ],
   "source": [
    "SELECT * FROM product WHERE amount='2';"
   ]
  },
  {
   "cell_type": "code",
   "execution_count": 15,
   "metadata": {},
   "outputs": [],
   "source": [
    "DELETE FROM product WHERE amount='2';"
   ]
  },
  {
   "cell_type": "markdown",
   "metadata": {},
   "source": [
    "Wynik zapytania:"
   ]
  },
  {
   "cell_type": "code",
   "execution_count": 18,
   "metadata": {},
   "outputs": [
    {
     "data": {
      "text/html": [
       "<table>\n",
       "<tr>\n",
       "<th>id</th>\n",
       "<th>name</th>\n",
       "<th>price</th>\n",
       "<th>amount</th>\n",
       "<th>date</th>\n",
       "</tr>\n",
       "<tr>\n",
       "<td>5</td>\n",
       "<td>Spodnie</td>\n",
       "<td>100.0</td>\n",
       "<td>5</td>\n",
       "<td>2011-02-01</td>\n",
       "</tr>\n",
       "<tr>\n",
       "<td>6</td>\n",
       "<td>Bluza</td>\n",
       "<td>60.0</td>\n",
       "<td>2</td>\n",
       "<td>2011-02-12</td>\n",
       "</tr>\n",
       "</table>"
      ],
      "text/plain": [
       "+----+---------+-------+--------+------------+\n",
       "| id | name    | price | amount | date       |\n",
       "+----+---------+-------+--------+------------+\n",
       "| 5  | Spodnie | 100.0 | 5      | 2011-02-01 |\n",
       "+----+---------+-------+--------+------------+\n",
       "| 6  | Bluza   | 60.0  | 2      | 2011-02-12 |\n",
       "+----+---------+-------+--------+------------+"
      ]
     },
     "execution_count": 18,
     "metadata": {},
     "output_type": "execute_result"
    }
   ],
   "source": [
    "SELECT * FROM product;"
   ]
  },
  {
   "cell_type": "markdown",
   "metadata": {},
   "source": [
    "[02 SQL - Reset.ipynb](02%20SQL%20-%20Reset.ipynb)"
   ]
  },
  {
   "cell_type": "code",
   "execution_count": 17,
   "metadata": {},
   "outputs": [],
   "source": [
    "%LOAD CodeBrainers.db rw"
   ]
  },
  {
   "cell_type": "markdown",
   "metadata": {},
   "source": [
    "#### Ćwiczenie\n",
    "\n",
    "**Usuń wszystkie produkty których cena jest wyższa niż 20**\n",
    "\n",
    "Tabela **Product**:"
   ]
  },
  {
   "cell_type": "code",
   "execution_count": 19,
   "metadata": {},
   "outputs": [
    {
     "data": {
      "text/html": [
       "<table>\n",
       "<tr>\n",
       "<th>id</th>\n",
       "<th>name</th>\n",
       "<th>price</th>\n",
       "<th>amount</th>\n",
       "<th>date</th>\n",
       "</tr>\n",
       "<tr>\n",
       "<td>5</td>\n",
       "<td>Spodnie</td>\n",
       "<td>100.0</td>\n",
       "<td>5</td>\n",
       "<td>2011-02-01</td>\n",
       "</tr>\n",
       "<tr>\n",
       "<td>6</td>\n",
       "<td>Bluza</td>\n",
       "<td>60.0</td>\n",
       "<td>2</td>\n",
       "<td>2011-02-12</td>\n",
       "</tr>\n",
       "</table>"
      ],
      "text/plain": [
       "+----+---------+-------+--------+------------+\n",
       "| id | name    | price | amount | date       |\n",
       "+----+---------+-------+--------+------------+\n",
       "| 5  | Spodnie | 100.0 | 5      | 2011-02-01 |\n",
       "+----+---------+-------+--------+------------+\n",
       "| 6  | Bluza   | 60.0  | 2      | 2011-02-12 |\n",
       "+----+---------+-------+--------+------------+"
      ]
     },
     "execution_count": 19,
     "metadata": {},
     "output_type": "execute_result"
    }
   ],
   "source": [
    "SELECT * FROM product;"
   ]
  },
  {
   "cell_type": "markdown",
   "metadata": {},
   "source": [
    "Wpisz zapytanie do bazy!"
   ]
  },
  {
   "cell_type": "markdown",
   "metadata": {},
   "source": [
    "---"
   ]
  },
  {
   "cell_type": "markdown",
   "metadata": {},
   "source": [
    "Zapytanie:"
   ]
  },
  {
   "cell_type": "code",
   "execution_count": null,
   "metadata": {},
   "outputs": [],
   "source": [
    "DELETE FROM product WHERE price>20;"
   ]
  },
  {
   "cell_type": "markdown",
   "metadata": {},
   "source": [
    "Wynik zapytania:"
   ]
  },
  {
   "cell_type": "code",
   "execution_count": 20,
   "metadata": {},
   "outputs": [
    {
     "data": {
      "text/html": [
       "<table>\n",
       "<tr>\n",
       "<th>id</th>\n",
       "<th>name</th>\n",
       "<th>price</th>\n",
       "<th>amount</th>\n",
       "<th>date</th>\n",
       "</tr>\n",
       "<tr>\n",
       "<td>5</td>\n",
       "<td>Spodnie</td>\n",
       "<td>100.0</td>\n",
       "<td>5</td>\n",
       "<td>2011-02-01</td>\n",
       "</tr>\n",
       "<tr>\n",
       "<td>6</td>\n",
       "<td>Bluza</td>\n",
       "<td>60.0</td>\n",
       "<td>2</td>\n",
       "<td>2011-02-12</td>\n",
       "</tr>\n",
       "</table>"
      ],
      "text/plain": [
       "+----+---------+-------+--------+------------+\n",
       "| id | name    | price | amount | date       |\n",
       "+----+---------+-------+--------+------------+\n",
       "| 5  | Spodnie | 100.0 | 5      | 2011-02-01 |\n",
       "+----+---------+-------+--------+------------+\n",
       "| 6  | Bluza   | 60.0  | 2      | 2011-02-12 |\n",
       "+----+---------+-------+--------+------------+"
      ]
     },
     "execution_count": 20,
     "metadata": {},
     "output_type": "execute_result"
    }
   ],
   "source": [
    "SELECT * FROM product;"
   ]
  },
  {
   "cell_type": "markdown",
   "metadata": {},
   "source": [
    "[02 SQL - Reset.ipynb](02%20SQL%20-%20Reset.ipynb)"
   ]
  },
  {
   "cell_type": "code",
   "execution_count": null,
   "metadata": {},
   "outputs": [],
   "source": [
    "%LOAD CodeBrainers.db rw"
   ]
  },
  {
   "cell_type": "markdown",
   "metadata": {},
   "source": [
    "## Dodawanie rekordów – operacja `INSERT`"
   ]
  },
  {
   "cell_type": "markdown",
   "metadata": {},
   "source": [
    "Zapytanie `INSERT` służy do dodawanie do tabeli nowych rekordów zawierających w odpowiednich kolumnach podane wartości. Zapytanie składa się z:\n",
    "\n",
    "* instrukcji `INSERT` która oznacza rozpoczęcie operacji wstawiania\n",
    "* części `INTO` w której podajemy nazwę tabeli\n",
    "* słowa kluczowego `VALUES`\n",
    "* listy wartości odpowiadających kolejnym kolumnom\n",
    "\n",
    "```sqlite\n",
    "INSERT INTO tabela VALUES (wartość,wartość,..);\n",
    "```"
   ]
  },
  {
   "cell_type": "markdown",
   "metadata": {},
   "source": [
    "Możliwa jest również druga forma zapytania `INSERT` w której możemy określić, które kolumny chcemy wypełnić podanymi przez nas wartościami. Wartości przekazane po słowie `VALUES` zostaną wstawione do odpowiadających im kolejno kolumn. Ma ona postać:\n",
    "\n",
    "```sqlite\n",
    "INSERT INTO tabela (kolumna,kolumna,..) VALUES (wartość,wartość,..);\n",
    "```"
   ]
  },
  {
   "cell_type": "markdown",
   "metadata": {},
   "source": [
    "#### Przykład\n",
    "\n",
    "**Dodajemy do tabeli Product nowy przedmiot o nazwie Apaszka, cenie 35, liczba sztuk: 2 oraz dacie dodania: 2011-02-20**\n",
    "\n",
    "Tabela **Product**:"
   ]
  },
  {
   "cell_type": "code",
   "execution_count": 21,
   "metadata": {},
   "outputs": [
    {
     "data": {
      "text/html": [
       "<table>\n",
       "<tr>\n",
       "<th>id</th>\n",
       "<th>name</th>\n",
       "<th>price</th>\n",
       "<th>amount</th>\n",
       "<th>date</th>\n",
       "</tr>\n",
       "<tr>\n",
       "<td>5</td>\n",
       "<td>Spodnie</td>\n",
       "<td>100.0</td>\n",
       "<td>5</td>\n",
       "<td>2011-02-01</td>\n",
       "</tr>\n",
       "<tr>\n",
       "<td>6</td>\n",
       "<td>Bluza</td>\n",
       "<td>60.0</td>\n",
       "<td>2</td>\n",
       "<td>2011-02-12</td>\n",
       "</tr>\n",
       "</table>"
      ],
      "text/plain": [
       "+----+---------+-------+--------+------------+\n",
       "| id | name    | price | amount | date       |\n",
       "+----+---------+-------+--------+------------+\n",
       "| 5  | Spodnie | 100.0 | 5      | 2011-02-01 |\n",
       "+----+---------+-------+--------+------------+\n",
       "| 6  | Bluza   | 60.0  | 2      | 2011-02-12 |\n",
       "+----+---------+-------+--------+------------+"
      ]
     },
     "execution_count": 21,
     "metadata": {},
     "output_type": "execute_result"
    }
   ],
   "source": [
    "SELECT * FROM product;"
   ]
  },
  {
   "cell_type": "markdown",
   "metadata": {},
   "source": [
    "Zapytanie:"
   ]
  },
  {
   "cell_type": "code",
   "execution_count": 22,
   "metadata": {},
   "outputs": [],
   "source": [
    "INSERT INTO product VALUES (9,'Apaszka',35,2,'2011-02-20');"
   ]
  },
  {
   "cell_type": "markdown",
   "metadata": {},
   "source": [
    "Wynik zapytania:"
   ]
  },
  {
   "cell_type": "code",
   "execution_count": 23,
   "metadata": {},
   "outputs": [
    {
     "data": {
      "text/html": [
       "<table>\n",
       "<tr>\n",
       "<th>id</th>\n",
       "<th>name</th>\n",
       "<th>price</th>\n",
       "<th>amount</th>\n",
       "<th>date</th>\n",
       "</tr>\n",
       "<tr>\n",
       "<td>5</td>\n",
       "<td>Spodnie</td>\n",
       "<td>100.0</td>\n",
       "<td>5</td>\n",
       "<td>2011-02-01</td>\n",
       "</tr>\n",
       "<tr>\n",
       "<td>6</td>\n",
       "<td>Bluza</td>\n",
       "<td>60.0</td>\n",
       "<td>2</td>\n",
       "<td>2011-02-12</td>\n",
       "</tr>\n",
       "<tr>\n",
       "<td>9</td>\n",
       "<td>Apaszka</td>\n",
       "<td>35.0</td>\n",
       "<td>2</td>\n",
       "<td>2011-02-20</td>\n",
       "</tr>\n",
       "</table>"
      ],
      "text/plain": [
       "+----+---------+-------+--------+------------+\n",
       "| id | name    | price | amount | date       |\n",
       "+----+---------+-------+--------+------------+\n",
       "| 5  | Spodnie | 100.0 | 5      | 2011-02-01 |\n",
       "+----+---------+-------+--------+------------+\n",
       "| 6  | Bluza   | 60.0  | 2      | 2011-02-12 |\n",
       "+----+---------+-------+--------+------------+\n",
       "| 9  | Apaszka | 35.0  | 2      | 2011-02-20 |\n",
       "+----+---------+-------+--------+------------+"
      ]
     },
     "execution_count": 23,
     "metadata": {},
     "output_type": "execute_result"
    }
   ],
   "source": [
    "SELECT * FROM product;"
   ]
  },
  {
   "cell_type": "markdown",
   "metadata": {},
   "source": [
    "[02 SQL - Reset.ipynb](02%20SQL%20-%20Reset.ipynb)"
   ]
  },
  {
   "cell_type": "code",
   "execution_count": 24,
   "metadata": {},
   "outputs": [],
   "source": [
    "%LOAD CodeBrainers.db rw"
   ]
  },
  {
   "cell_type": "markdown",
   "metadata": {},
   "source": [
    "#### Ćwiczenie\n",
    "\n",
    "**Dodaj do tabeli Product nowy przedmiot o nazwie Kapelusz, cenie 60, liczbie sztuk 4 oraz dacie dodania: 2011-02-28**\n",
    "\n",
    "Tabela **Product**:"
   ]
  },
  {
   "cell_type": "code",
   "execution_count": 25,
   "metadata": {},
   "outputs": [
    {
     "data": {
      "text/html": [
       "<table>\n",
       "<tr>\n",
       "<th>id</th>\n",
       "<th>name</th>\n",
       "<th>price</th>\n",
       "<th>amount</th>\n",
       "<th>date</th>\n",
       "</tr>\n",
       "<tr>\n",
       "<td>5</td>\n",
       "<td>Spodnie</td>\n",
       "<td>100.0</td>\n",
       "<td>5</td>\n",
       "<td>2011-02-01</td>\n",
       "</tr>\n",
       "<tr>\n",
       "<td>6</td>\n",
       "<td>Bluza</td>\n",
       "<td>60.0</td>\n",
       "<td>2</td>\n",
       "<td>2011-02-12</td>\n",
       "</tr>\n",
       "</table>"
      ],
      "text/plain": [
       "+----+---------+-------+--------+------------+\n",
       "| id | name    | price | amount | date       |\n",
       "+----+---------+-------+--------+------------+\n",
       "| 5  | Spodnie | 100.0 | 5      | 2011-02-01 |\n",
       "+----+---------+-------+--------+------------+\n",
       "| 6  | Bluza   | 60.0  | 2      | 2011-02-12 |\n",
       "+----+---------+-------+--------+------------+"
      ]
     },
     "execution_count": 25,
     "metadata": {},
     "output_type": "execute_result"
    }
   ],
   "source": [
    "SELECT * FROM product;"
   ]
  },
  {
   "cell_type": "markdown",
   "metadata": {},
   "source": [
    "Wpisz zapytanie do bazy!"
   ]
  },
  {
   "cell_type": "markdown",
   "metadata": {},
   "source": [
    "---"
   ]
  },
  {
   "cell_type": "markdown",
   "metadata": {},
   "source": [
    "Zapytanie:"
   ]
  },
  {
   "cell_type": "code",
   "execution_count": null,
   "metadata": {},
   "outputs": [],
   "source": [
    "INSERT INTO product VALUES (9,'Kapelusz',60,4,'2011-02-28');"
   ]
  },
  {
   "cell_type": "markdown",
   "metadata": {},
   "source": [
    "Wynik zapytania:"
   ]
  },
  {
   "cell_type": "code",
   "execution_count": 26,
   "metadata": {},
   "outputs": [
    {
     "data": {
      "text/html": [
       "<table>\n",
       "<tr>\n",
       "<th>id</th>\n",
       "<th>name</th>\n",
       "<th>price</th>\n",
       "<th>amount</th>\n",
       "<th>date</th>\n",
       "</tr>\n",
       "<tr>\n",
       "<td>5</td>\n",
       "<td>Spodnie</td>\n",
       "<td>100.0</td>\n",
       "<td>5</td>\n",
       "<td>2011-02-01</td>\n",
       "</tr>\n",
       "<tr>\n",
       "<td>6</td>\n",
       "<td>Bluza</td>\n",
       "<td>60.0</td>\n",
       "<td>2</td>\n",
       "<td>2011-02-12</td>\n",
       "</tr>\n",
       "</table>"
      ],
      "text/plain": [
       "+----+---------+-------+--------+------------+\n",
       "| id | name    | price | amount | date       |\n",
       "+----+---------+-------+--------+------------+\n",
       "| 5  | Spodnie | 100.0 | 5      | 2011-02-01 |\n",
       "+----+---------+-------+--------+------------+\n",
       "| 6  | Bluza   | 60.0  | 2      | 2011-02-12 |\n",
       "+----+---------+-------+--------+------------+"
      ]
     },
     "execution_count": 26,
     "metadata": {},
     "output_type": "execute_result"
    }
   ],
   "source": [
    "SELECT * FROM product;"
   ]
  },
  {
   "cell_type": "markdown",
   "metadata": {},
   "source": [
    "[02 SQL - Reset.ipynb](02%20SQL%20-%20Reset.ipynb)"
   ]
  },
  {
   "cell_type": "code",
   "execution_count": null,
   "metadata": {},
   "outputs": [],
   "source": [
    "%LOAD CodeBrainers.db rw"
   ]
  },
  {
   "cell_type": "markdown",
   "metadata": {},
   "source": [
    "## Zmiana rekordów – operacja `UPDATE`"
   ]
  },
  {
   "cell_type": "markdown",
   "metadata": {},
   "source": [
    "Polecenia `UPDATE` służy do zmiany wartości w istniejących już rekordach w tabeli.\n",
    "\n",
    "Zapytanie składa się z :\n",
    "\n",
    "* instrukcji `UPDATE` która oznacza rozpoczęcie operacji zmiany\n",
    "* nazwy tabeli\n",
    "* słowa kluczowego `SET`\n",
    "* listy z przypisaniem kolumna=wartość w której kolumnom przypisywane są ich nowe wartości\n",
    "* warunku `WHERE` który określa który rekord zostanie zmieniony"
   ]
  },
  {
   "cell_type": "markdown",
   "metadata": {},
   "source": [
    "```sqlite\n",
    "UPDATE tabela SET kolumna1=wartość1,kolumna2=wartość2,..\n",
    "WHERE kolumna=wartość;\n",
    "```"
   ]
  },
  {
   "cell_type": "markdown",
   "metadata": {},
   "source": [
    "## Tworzenie i usuwanie bazy danych"
   ]
  },
  {
   "cell_type": "markdown",
   "metadata": {},
   "source": [
    "**Tworzenie bazy danych** jest to najprostsza czynność przy rozpoczęciu pracy w bazie danych, ale i zarazem podstawowa.\n",
    "\n",
    "Zapytanie składa się tylko z polecenia:\n",
    "\n",
    "```sqlite\n",
    "CREATE DATABASE nazwa bazy;\n",
    "```"
   ]
  },
  {
   "cell_type": "markdown",
   "metadata": {},
   "source": [
    "**Usuwanie bazy danych** jest to czynność równie prosta jak tworzenie bazy, jednak niosąca za sobą poważne konsekwencje w postaci utraty wszystkich danych zawartych w jej tabelach i samych tabel. Służy do tego polecenie `DROP DATABASE`\n",
    "\n",
    "```sqlite\n",
    "DROP DATABASE nazwa bazy;\n",
    "```"
   ]
  },
  {
   "cell_type": "markdown",
   "metadata": {},
   "source": [
    "![](https://niebezpiecznik.pl/wp-content/uploads/2009/10/radar-403x350.jpg)\n",
    "![](https://niebezpiecznik.pl/wp-content/uploads/2009/10/radar2-450x265.jpg)\n",
    "![](https://niebezpiecznik.pl/wp-content/uploads/2009/10/radar3-418x350.jpg)"
   ]
  },
  {
   "cell_type": "markdown",
   "metadata": {},
   "source": [
    "![](https://niebezpiecznik.pl/wp-content/uploads/2009/10/xkcd-450x147.gif)"
   ]
  },
  {
   "cell_type": "markdown",
   "metadata": {},
   "source": [
    "[DROP TABLE users; czyli człowiek-problem na stacjach benzynowych. – Problemy Polskiej Branży IT](https://ppbit.pl/pudelek/drop-table-users-czyli-czlowiek-problem-na-stacjach-benzynowych/)"
   ]
  },
  {
   "cell_type": "markdown",
   "metadata": {},
   "source": [
    "## Tworzenie tabeli w bazie danych"
   ]
  },
  {
   "cell_type": "markdown",
   "metadata": {},
   "source": [
    "**Tworzenie tabeli w bazie danych** jest to trochę bardziej skomplikowana czynność niż tworzenie bazy, gdyż tworząc tabelę musimy stworzyć znajdujące się w niej kolumny i zdefiniować ich właściwości jak np. typ, maksymalna długość wartości i inne.\n",
    "\n",
    "Zapytanie składa się z polecenia:\n",
    "\n",
    "* klauzuli `CREATE TABLE`\n",
    "* nazwy nowej tabeli\n",
    "* listy kolumn wraz z ich szczegółami oddzielonych przecinkiem `nazwa typ(długość)` atrybuty\n",
    "\n",
    "```sqlite\n",
    "CREATE TABLE nazwa tabeli (nazwa kolumny typ(długość) NOT NULL);\n",
    "```"
   ]
  },
  {
   "cell_type": "markdown",
   "metadata": {},
   "source": [
    "Atrybuty to:\n",
    "\n",
    "* `NOT NULL` – pole musi mieć nadaną wartość, jeśli pominięte to może mieć wartość `NULL`\n",
    "* `UNSIGNED` – jeśli pole jest liczbowe to musi mieć wartości nieujemne\n",
    "* `PRIMARY KEY` – kolumna będzie kluczem podstawowym tabeli. Często występuje razem z polem `SQL AUTO INCREMENT`"
   ]
  },
  {
   "cell_type": "markdown",
   "metadata": {},
   "source": [
    "**Usuwanie tabeli**\n",
    "\n",
    "Można całkowicie usunąć tabelę z bazy danych wraz z danymi w niej zawartymi używając polecenia `DROP TABLE` nazwa tabeli\n",
    "\n",
    "```sqlite\n",
    "DROP TABLE nazwa_tabeli;\n",
    "```"
   ]
  },
  {
   "cell_type": "code",
   "execution_count": null,
   "metadata": {},
   "outputs": [],
   "source": [
    "%TABLE_EXISTS Product"
   ]
  },
  {
   "cell_type": "code",
   "execution_count": null,
   "metadata": {},
   "outputs": [],
   "source": [
    "SELECT * FROM product;"
   ]
  },
  {
   "cell_type": "code",
   "execution_count": null,
   "metadata": {},
   "outputs": [],
   "source": [
    "DROP TABLE product;"
   ]
  },
  {
   "cell_type": "code",
   "execution_count": null,
   "metadata": {},
   "outputs": [],
   "source": [
    "%TABLE_EXISTS Product"
   ]
  },
  {
   "cell_type": "code",
   "execution_count": null,
   "metadata": {},
   "outputs": [],
   "source": [
    "SELECT * FROM product;"
   ]
  },
  {
   "cell_type": "markdown",
   "metadata": {},
   "source": [
    "Tabelę można również tylko opróżnić tzn. usunąć wszystkie dane ale pozostawić strukturę całej tabeli. Służą do tego polecenia:\n",
    "\n",
    "* `TRUNCATE TABLE nazwa_tabeli;`\t- w: MySQL\n",
    "* `DELETE FROM nazwa_tabeli;`\t\t- w: SQLite"
   ]
  },
  {
   "cell_type": "code",
   "execution_count": null,
   "metadata": {},
   "outputs": [],
   "source": [
    "%TABLE_EXISTS Customer"
   ]
  },
  {
   "cell_type": "code",
   "execution_count": null,
   "metadata": {},
   "outputs": [],
   "source": [
    "SELECT * FROM customer;"
   ]
  },
  {
   "cell_type": "code",
   "execution_count": null,
   "metadata": {},
   "outputs": [],
   "source": [
    "DELETE FROM customer;"
   ]
  },
  {
   "cell_type": "code",
   "execution_count": null,
   "metadata": {},
   "outputs": [],
   "source": [
    "%TABLE_EXISTS Customer"
   ]
  },
  {
   "cell_type": "code",
   "execution_count": null,
   "metadata": {},
   "outputs": [],
   "source": [
    "SELECT * FROM customer;"
   ]
  },
  {
   "cell_type": "markdown",
   "metadata": {},
   "source": [
    "**Przykład tworzenia tabeli Product**"
   ]
  },
  {
   "cell_type": "code",
   "execution_count": null,
   "metadata": {},
   "outputs": [],
   "source": [
    "CREATE TABLE \"Product\" (\n",
    "\t\"id\"\t\tSMALLINT UNSIGNED IDENTITY(1,1) NOT NULL,\n",
    "\t\"name\"\t\tVARCHAR(50) NOT NULL,\n",
    "\t\"price\"\t\tFLOAT NOT NULL,\n",
    "\t\"amount\"\tTINYINT(2) NOT NULL,\n",
    "\t\"date\"\t\tDATE NOT NULL,\n",
    "\tPRIMARY KEY(\"id\")\n",
    ");"
   ]
  },
  {
   "cell_type": "markdown",
   "metadata": {},
   "source": [
    "| Data type |     Range                                                                                    | Storage |\n",
    "|-----------|----------------------------------------------------------------------------------------------|---------|\n",
    "| `BIGINT`  | -2<sup>63</sup> (-9,223,372,036,854,775,808) to 2<sup>63</sup>-1 (9,223,372,036,854,775,807) | 8 Bytes |\n",
    "| `INT`     | -2<sup>31</sup> (-2,147,483,648)             to 2<sup>31</sup>-1 (2,147,483,647)             | 4 Bytes |\n",
    "| `SMALLINT`| -2<sup>15</sup> (-32,768)                    to 2<sup>15</sup>-1 (32,767)                    | 2 Bytes |\n",
    "| `TINYINT` |  0                                           to 255                                          | 1 Byte  |"
   ]
  },
  {
   "cell_type": "code",
   "execution_count": null,
   "metadata": {},
   "outputs": [],
   "source": [
    "%TABLE_EXISTS Product"
   ]
  },
  {
   "cell_type": "code",
   "execution_count": null,
   "metadata": {},
   "outputs": [],
   "source": [
    "SELECT * FROM product;"
   ]
  },
  {
   "cell_type": "markdown",
   "metadata": {},
   "source": [
    "[02 SQL - Reset.ipynb](02%20SQL%20-%20Reset.ipynb)"
   ]
  },
  {
   "cell_type": "code",
   "execution_count": null,
   "metadata": {},
   "outputs": [],
   "source": [
    "%LOAD CodeBrainers.db rw"
   ]
  },
  {
   "cell_type": "code",
   "execution_count": null,
   "metadata": {},
   "outputs": [],
   "source": []
  }
 ],
 "metadata": {
  "kernelspec": {
   "display_name": "xsqlite",
   "language": "sqlite",
   "name": "xsqlite"
  },
  "language_info": {
   "codemirror_mode": "sql",
   "file_extension": "",
   "mimetype": "",
   "name": "sqlite3",
   "version": "3.30.1"
  }
 },
 "nbformat": 4,
 "nbformat_minor": 4
}
