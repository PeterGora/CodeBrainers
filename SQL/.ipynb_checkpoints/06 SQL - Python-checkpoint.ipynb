{
 "cells": [
  {
   "cell_type": "markdown",
   "metadata": {},
   "source": [
    "![](data:image/jpeg;base64,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)"
   ]
  },
  {
   "cell_type": "markdown",
   "metadata": {},
   "source": [
    "# SQL - Interfejs Pythona dla baz danych SQLite\n",
    "\n",
    "_Mikołaj Leszczuk_\n",
    "\n",
    "* Interfejs sqlite3\n",
    "* Zadania utrwalające\n",
    "* Test\n",
    "* Materiały dodatkowe"
   ]
  },
  {
   "cell_type": "markdown",
   "metadata": {},
   "source": [
    "## Interfejs sqlite3\n",
    "\n",
    "Interfejs sqlite3 to biblioteka C, która zapewnia lekką dyskową bazę danych, która nie wymaga oddzielnego procesu serwera i umożliwia dostęp do bazy danych przy użyciu niestandardowego wariantu języka zapytań SQL. Niektóre aplikacje mogą używać sqlite3 do wewnętrznego przechowywania danych. Możliwe jest również prototypowanie aplikacji przy użyciu sqlite3, a następnie przeniesienie kodu do większej bazy danych, takiej jak PostgreSQL lub Oracle.\n",
    "\n",
    "Moduł sqlite3 został napisany przez Gerharda Häringa. Zapewnia interfejs SQL zgodny ze specyfikacją DB-API 2.0 opisaną w [PEP 249](https://www.python.org/dev/peps/pep-0249).\n",
    "\n",
    "Aby użyć modułu, musisz najpierw utworzyć obiekt [`Connection`](https://docs.python.org/3/library/sqlite3.html#sqlite3.Connection), który reprezentuje bazę danych. Tutaj dane zostaną zapisane w pliku `example.db`:"
   ]
  },
  {
   "cell_type": "code",
   "execution_count": 9,
   "metadata": {},
   "outputs": [],
   "source": [
    "import os\n",
    "os.remove('example.db')"
   ]
  },
  {
   "cell_type": "code",
   "execution_count": 10,
   "metadata": {},
   "outputs": [],
   "source": [
    "import sqlite3\n",
    "conn = sqlite3.connect('example.db')"
   ]
  },
  {
   "cell_type": "markdown",
   "metadata": {},
   "source": [
    "Możesz również podać specjalną nazwę `:memory:` aby utworzyć bazę danych w pamięci RAM.\n",
    "\n",
    "Gdy masz już połączenie ([`Connection`](https://docs.python.org/3/library/sqlite3.html#sqlite3.Connection)), możesz utworzyć obiekt [Cursor](https://docs.python.org/3/library/sqlite3.html#sqlite3.Cursor) i wywołać jego metodę [execute()](https://docs.python.org/3/library/sqlite3.html#sqlite3.Cursor.execute) w celu wykonania poleceń SQL:"
   ]
  },
  {
   "cell_type": "code",
   "execution_count": 11,
   "metadata": {},
   "outputs": [],
   "source": [
    "c = conn.cursor()"
   ]
  },
  {
   "cell_type": "markdown",
   "metadata": {},
   "source": [
    "Utwórz tabelę:"
   ]
  },
  {
   "cell_type": "code",
   "execution_count": 12,
   "metadata": {},
   "outputs": [
    {
     "data": {
      "text/plain": [
       "<sqlite3.Cursor at 0x7f9efc41b6c0>"
      ]
     },
     "execution_count": 12,
     "metadata": {},
     "output_type": "execute_result"
    }
   ],
   "source": [
    "c.execute('''CREATE TABLE stocks\n",
    "             (date text, trans text, symbol text, qty real, price real)''')"
   ]
  },
  {
   "cell_type": "markdown",
   "metadata": {},
   "source": [
    "Wstaw wiersz danych:"
   ]
  },
  {
   "cell_type": "code",
   "execution_count": 13,
   "metadata": {},
   "outputs": [
    {
     "data": {
      "text/plain": [
       "<sqlite3.Cursor at 0x7f9efc41b6c0>"
      ]
     },
     "execution_count": 13,
     "metadata": {},
     "output_type": "execute_result"
    }
   ],
   "source": [
    "c.execute(\"INSERT INTO stocks VALUES ('2006-01-05','BUY','RHAT',100,35.14)\")"
   ]
  },
  {
   "cell_type": "markdown",
   "metadata": {},
   "source": [
    "Zapisz (zatwierdź, ang. _commit_) zmiany:"
   ]
  },
  {
   "cell_type": "code",
   "execution_count": 14,
   "metadata": {},
   "outputs": [],
   "source": [
    "conn.commit()"
   ]
  },
  {
   "cell_type": "markdown",
   "metadata": {},
   "source": [
    "Możemy również zamknąć połączenie, jeśli skończymy.\n",
    "\n",
    "Tylko upewnij się, że wszelkie zmiany zostały wprowadzone, w przeciwnym razie zostaną utracone:"
   ]
  },
  {
   "cell_type": "code",
   "execution_count": 15,
   "metadata": {},
   "outputs": [],
   "source": [
    "conn.close()"
   ]
  },
  {
   "cell_type": "markdown",
   "metadata": {},
   "source": [
    "Zapisane dane są trwałe i są dostępne w kolejnych sesjach:"
   ]
  },
  {
   "cell_type": "code",
   "execution_count": 114,
   "metadata": {},
   "outputs": [],
   "source": [
    "import sqlite3\n",
    "conn = sqlite3.connect('example.db')\n",
    "c = conn.cursor()"
   ]
  },
  {
   "cell_type": "markdown",
   "metadata": {},
   "source": [
    "Nigdy tego nie rób (niepewne!):"
   ]
  },
  {
   "cell_type": "code",
   "execution_count": 115,
   "metadata": {},
   "outputs": [
    {
     "data": {
      "text/plain": [
       "<sqlite3.Cursor at 0x7f9efc4e3ce0>"
      ]
     },
     "execution_count": 115,
     "metadata": {},
     "output_type": "execute_result"
    }
   ],
   "source": [
    "symbol = 'RHAT'\n",
    "c.execute(\"SELECT * FROM stocks WHERE symbol = '%s'\" % symbol)"
   ]
  },
  {
   "cell_type": "markdown",
   "metadata": {},
   "source": [
    "Zrób to zamiast tego:"
   ]
  },
  {
   "cell_type": "code",
   "execution_count": 116,
   "metadata": {},
   "outputs": [
    {
     "name": "stdout",
     "output_type": "stream",
     "text": [
      "('2006-01-05', 'BUY', 'RHAT', 100.0, 35.14)\n"
     ]
    }
   ],
   "source": [
    "t = ('RHAT',)\n",
    "c.execute('SELECT * FROM stocks WHERE symbol=?', t)\n",
    "print(c.fetchone())"
   ]
  },
  {
   "cell_type": "markdown",
   "metadata": {},
   "source": [
    "Argument `execute`, który reprezentuje wartości, które chcesz wstawić do bazy danych, powinien być krotką (sekwencją)!\n",
    "\n",
    "Większy przykład, który wstawia wiele rekordów naraz:"
   ]
  },
  {
   "cell_type": "code",
   "execution_count": 20,
   "metadata": {},
   "outputs": [
    {
     "data": {
      "text/plain": [
       "<sqlite3.Cursor at 0x7f9efc44b0a0>"
      ]
     },
     "execution_count": 20,
     "metadata": {},
     "output_type": "execute_result"
    }
   ],
   "source": [
    "purchases = [('2006-03-28', 'BUY', 'IBM', 1000, 45.00),\n",
    "             ('2006-04-05', 'BUY', 'MSFT', 1000, 72.00),\n",
    "             ('2006-04-06', 'SELL', 'IBM', 500, 53.00),\n",
    "            ]\n",
    "c.executemany('INSERT INTO stocks VALUES (?,?,?,?,?)', purchases)"
   ]
  },
  {
   "cell_type": "markdown",
   "metadata": {},
   "source": [
    "Aby pobrać dane po wykonaniu instrukcji SELECT, możesz traktować kursor jako [iterator](https://docs.python.org/3/glossary.html#term-iterator), wywołać metodę [`fetchone()`](https://docs.python.org/3/library/sqlite3.html#sqlite3.Cursor.fetchone) kursora w celu pobrania pojedynczego pasującego wiersza lub wywołać funkcję [`fetchall()`](https://docs.python.org/3/library/sqlite3.html#sqlite3.Cursor.fetchall) w celu uzyskania listy pasujących wierszy.\n",
    "\n",
    "W tym przykładzie zastosowano formę iteratora:"
   ]
  },
  {
   "cell_type": "code",
   "execution_count": 21,
   "metadata": {},
   "outputs": [
    {
     "name": "stdout",
     "output_type": "stream",
     "text": [
      "('2006-01-05', 'BUY', 'RHAT', 100.0, 35.14)\n",
      "('2006-03-28', 'BUY', 'IBM', 1000.0, 45.0)\n",
      "('2006-04-06', 'SELL', 'IBM', 500.0, 53.0)\n",
      "('2006-04-05', 'BUY', 'MSFT', 1000.0, 72.0)\n"
     ]
    }
   ],
   "source": [
    "for row in c.execute('SELECT * FROM stocks ORDER BY price'):\n",
    "    print(row)"
   ]
  },
  {
   "cell_type": "markdown",
   "metadata": {},
   "source": [
    "Metoda **`iterdump()`** zwraca iterator do zrzutu bazy danych w formacie tekstowym SQL. Przydatne podczas zapisywania bazy danych w pamięci w celu późniejszego przywrócenia.\n",
    "\n",
    "Można więc napisać program w Pythonie, aby utworzyć kopię zapasową bazy danych SQLite:"
   ]
  },
  {
   "cell_type": "code",
   "execution_count": 121,
   "metadata": {},
   "outputs": [
    {
     "name": "stdout",
     "output_type": "stream",
     "text": [
      "Kopia zapasowa została wykonana pomyślnie.\n",
      "Zapisano jako CodeBrainers_dump.sql\n"
     ]
    }
   ],
   "source": [
    "import sqlite3\n",
    "import io\n",
    "conn = sqlite3.connect('CodeBrainers.db')\n",
    "with io.open('CodeBrainers_dump.sql', 'w') as f:\n",
    "    for line in conn.iterdump():\n",
    "        f.write('%s\\n' % line)\n",
    "print('Kopia zapasowa została wykonana pomyślnie.')\n",
    "print('Zapisano jako CodeBrainers_dump.sql')\n",
    "conn.close()"
   ]
  },
  {
   "cell_type": "markdown",
   "metadata": {},
   "source": [
    "## Zadania utrwalające\n",
    "\n",
    "Python i baza danych SQLite - ćwiczenia i praktyka"
   ]
  },
  {
   "cell_type": "markdown",
   "metadata": {},
   "source": [
    "### Utwórz połączenie bazy danych SQLite z bazą danych znajdującą się w pamięci\n",
    "\n",
    "Napisz program w języku Python, aby utworzyć połączenie bazy danych SQLite z bazą danych znajdującą się w pamięci."
   ]
  },
  {
   "cell_type": "markdown",
   "metadata": {},
   "source": [
    "---"
   ]
  },
  {
   "cell_type": "markdown",
   "metadata": {},
   "source": [
    "**Kod Pythona (przykładowe rozwiązanie i przykładowe dane wyjściowe):**"
   ]
  },
  {
   "cell_type": "code",
   "execution_count": 59,
   "metadata": {},
   "outputs": [
    {
     "name": "stdout",
     "output_type": "stream",
     "text": [
      "Baza danych pamięci utworzona i połączona z SQLite.\n",
      "Połączenie SQLite jest zamknięte.\n"
     ]
    }
   ],
   "source": [
    "import sqlite3\n",
    "conn = sqlite3.connect(':memory:')\n",
    "print(\"Baza danych pamięci utworzona i połączona z SQLite.\")\n",
    "conn.close()\n",
    "print(\"Połączenie SQLite jest zamknięte.\")"
   ]
  },
  {
   "cell_type": "markdown",
   "metadata": {},
   "source": [
    "### Utwórz bazę danych SQLite i połącz się z bazą danych oraz wydrukuj wersje\n",
    "\n",
    "Napisz program w Pythonie, aby utworzyć bazę danych SQLite w pliku i połączyć się z bazą danych oraz wydrukować wersję bazy danych SQLite i numer wersji modułu sqlite3 w postaci ciągu.\n",
    "\n",
    "Podpowiedzi:\n",
    "* Funkcja SQLite **sqlite_version()** zwraca ciąg znaków wersji dla uruchomionej biblioteki SQLite.\n",
    "* Funkcja Pythona `sqlite3.`**`version`** zwraca numer wersji modułu sqlite3 w postaci ciągu. To nie jest wersja biblioteki SQLite!"
   ]
  },
  {
   "cell_type": "markdown",
   "metadata": {},
   "source": [
    "---"
   ]
  },
  {
   "cell_type": "markdown",
   "metadata": {},
   "source": [
    "**Kod Pythona (przykładowe rozwiązanie i przykładowe dane wyjściowe):**"
   ]
  },
  {
   "cell_type": "code",
   "execution_count": 56,
   "metadata": {},
   "outputs": [
    {
     "name": "stdout",
     "output_type": "stream",
     "text": [
      "Baza danych stworzona i połączona z SQLite.\n",
      "Wersja bazy danych SQLite to:  [('3.33.0',)]\n",
      "Wersja modułu sqlite3 to:  2.6.0\n",
      "Połączenie SQLite jest zamknięte.\n"
     ]
    }
   ],
   "source": [
    "import sqlite3\n",
    "conn = sqlite3.connect('temp.db')\n",
    "c = conn.cursor()\n",
    "print(\"Baza danych stworzona i połączona z SQLite.\")\n",
    "query = \"SELECT sqlite_version();\"\n",
    "c.execute(query)\n",
    "record = c.fetchall()\n",
    "print(\"Wersja bazy danych SQLite to: \", record)\n",
    "print(\"Wersja modułu sqlite3 to: \", sqlite3.version)\n",
    "conn.close()\n",
    "print(\"Połączenie SQLite jest zamknięte.\")"
   ]
  },
  {
   "cell_type": "markdown",
   "metadata": {},
   "source": [
    "### Utwórz bazę danych SQLite, połącz się z bazą danych oraz zabezpiecz się przed wyjątkami\n",
    "\n",
    "Napisz program w Pythonie, aby utworzyć bazę danych SQLite i połączyć się z bazą danych oraz zabezpieczyć się przed wyjątkami. Wywołaj sztucznie wyjątek, wykonując błędne zapytanie.\n",
    "\n",
    "Podpowiedź: _wyjątek_ `sqlite3.`**`Error`** jest to klasa bazowa pozostałych wyjątków w module sqlite3. Jest to zarazem podklasa [`Exception`](https://docs.python.org/3/library/exceptions.html#Exception)."
   ]
  },
  {
   "cell_type": "markdown",
   "metadata": {},
   "source": [
    "---"
   ]
  },
  {
   "cell_type": "markdown",
   "metadata": {},
   "source": [
    "**Kod Pythona (przykładowe rozwiązanie i przykładowe dane wyjściowe):**"
   ]
  },
  {
   "cell_type": "code",
   "execution_count": 60,
   "metadata": {},
   "outputs": [
    {
     "name": "stdout",
     "output_type": "stream",
     "text": [
      "Baza danych stworzona i połączona z SQLite.\n",
      "Połączenie SQLite jest zamknięte.\n"
     ]
    }
   ],
   "source": [
    "import sqlite3\n",
    "try:\n",
    "    conn = sqlite3.connect(':memory:')\n",
    "    c = conn.cursor()\n",
    "    print(\"Baza danych stworzona i połączona z SQLite.\")\n",
    "    # c.execute(\"SELECT * FROM users;\")\n",
    "except sqlite3.Error as error:\n",
    "    print(\"Błąd podczas łączenia się z SQLite\", error)\n",
    "finally:\n",
    "    conn.close()\n",
    "    print(\"Połączenie SQLite jest zamknięte.\")"
   ]
  },
  {
   "cell_type": "markdown",
   "metadata": {},
   "source": [
    "### Utwórz tabelę w bazie danych SQLite\n",
    "\n",
    "Napisz program w Pythonie, aby połączyć bazę danych SQLite, utworzyć tabelę w bazie danych i zweryfokować jej utworzenie.\n",
    "\n",
    "Podpowiedź: Każda baza danych SQLite zawiera pojedynczą „tabelę schematów”, która przechowuje schemat tej bazy danych. Schemat bazy danych to opis wszystkich innych tabel, indeksów, wyzwalaczy i widoków zawartych w bazie danych. Tabela schematów wygląda następująco:\n",
    "\n",
    "```sqlite\n",
    "CREATE TABLE sqlite_schema(\n",
    "  type text,\n",
    "  name text,\n",
    "  tbl_name text,\n",
    "  rootpage integer,\n",
    "  sql text\n",
    ");\n",
    "```\n",
    "\n",
    "Tabela `sqlite_schema` zawiera po jednym wierszu dla każdej tabeli, indeksu, widoku i wyzwalacza (zbiorczo „obiekty”) w schemacie, z wyjątkiem tego, że nie ma wpisu dla samej tabeli `sqlite_schema`. Zapoznaj się z podsekcją dotyczącą [przechowywania schematów](https://www.sqlite.org/fileformat2.html#ffschema) w dokumentacji [formatu plików](https://www.sqlite.org/fileformat2.html), aby uzyskać dodatkowe informacje o tym, jak program SQLite używa wewnętrznie tabeli `sqlite_schema`."
   ]
  },
  {
   "cell_type": "markdown",
   "metadata": {},
   "source": [
    "---"
   ]
  },
  {
   "cell_type": "markdown",
   "metadata": {},
   "source": [
    "**Kod Pythona (przykładowe rozwiązanie i przykładowe dane wyjściowe):**"
   ]
  },
  {
   "cell_type": "code",
   "execution_count": 74,
   "metadata": {},
   "outputs": [
    {
     "name": "stdout",
     "output_type": "stream",
     "text": [
      "Utworzono tabelę Users.\n",
      "[('table', 'users', 'users', 2, 'CREATE TABLE users(login VARCHAR(8) NOT NULL, name VARCHAR(40) NOT NULL, phone_no VARCHAR(15))')]\n",
      "Połączenie SQLite jest zamknięte.\n"
     ]
    }
   ],
   "source": [
    "import sqlite3\n",
    "conn = sqlite3.connect(':memory:')\n",
    "c = conn.cursor()\n",
    "c.execute(\"CREATE TABLE users(login VARCHAR(8) NOT NULL, name VARCHAR(40) NOT NULL, phone_no VARCHAR(15));\")\n",
    "print(\"Utworzono tabelę Users.\")\n",
    "c.execute(\"SELECT * FROM sqlite_schema;\")\n",
    "record = c.fetchall()\n",
    "print(record)\n",
    "conn.close()\n",
    "print(\"Połączenie SQLite jest zamknięte.\")"
   ]
  },
  {
   "cell_type": "markdown",
   "metadata": {},
   "source": [
    "### Wypisz zawartość tabel z pliku bazy danych SQLite CodeBrainers\n",
    "\n",
    "Napisz program w Pythonie, który wyświetli listy zawartości tabel pliku bazy danych SQLite CodeBrainers."
   ]
  },
  {
   "cell_type": "markdown",
   "metadata": {},
   "source": [
    "---"
   ]
  },
  {
   "cell_type": "markdown",
   "metadata": {},
   "source": [
    "**Kod Pythona (przykładowe rozwiązanie i przykładowe dane wyjściowe):**"
   ]
  },
  {
   "cell_type": "code",
   "execution_count": 71,
   "metadata": {},
   "outputs": [
    {
     "name": "stdout",
     "output_type": "stream",
     "text": [
      "Wykaz zawartości tabel:\n",
      "[(5, 'Spodnie', 100.0, 5, '2011-02-01'), (6, 'Bluza', 60.0, 2, '2011-02-12')]\n",
      "[(1, 'Adam', 'Lublin', '2011-02-05'), (2, 'Monika', 'Gdynia', '2011-02-19'), (3, 'Natalia', 'Zakopane', '2011-02-23'), (4, 'Katarzyna', 'Lublin', '2011-03-08'), (5, 'Marcin', 'Warszawa', '2011-03-21')]\n",
      "[(1, 2, 2), (1, 4, 1), (2, 6, 1), (2, 8, 1), (2, 5, 2), (3, 5, 1), (3, 7, 2), (4, 5, 1), (4, 2, 1), (4, 7, 2), (5, 4, 1), (6, 6, 1)]\n",
      "Połączenie SQLite jest zamknięte.\n"
     ]
    }
   ],
   "source": [
    "import sqlite3\n",
    "conn = sqlite3.connect('CodeBrainers.db')\n",
    "c = conn.cursor()\n",
    "print(\"Wykaz zawartości tabel:\")\n",
    "c.execute(\"SELECT * FROM product\")\n",
    "print(c.fetchall())\n",
    "c.execute(\"SELECT * FROM customer\")\n",
    "print(c.fetchall())\n",
    "c.execute(\"SELECT * FROM order_product\")\n",
    "print(c.fetchall())\n",
    "conn.close()\n",
    "print(\"Połączenie SQLite jest zamknięte.\")"
   ]
  },
  {
   "cell_type": "markdown",
   "metadata": {},
   "source": [
    "### Utwórz tabelę w bazie danych SQLite\n",
    "\n",
    "Napisz program w Pythonie, aby połączyć bazę danych SQLite, utworzyć tabelę w bazie danych, dodać jeden wiersz i go wyświetlić z bazy danych.\n",
    "\n",
    "Struktura tabeli `Users`:\n",
    "\n",
    "```sqlite\n",
    "login VARCHAR(8) NOT NULL\n",
    "name VARCHAR(40) NOT NULL\n",
    "phone_no VARCHAR(15)\n",
    "```"
   ]
  },
  {
   "cell_type": "markdown",
   "metadata": {},
   "source": [
    "---"
   ]
  },
  {
   "cell_type": "markdown",
   "metadata": {},
   "source": [
    "**Kod Pythona (przykładowe rozwiązanie i przykładowe dane wyjściowe):**"
   ]
  },
  {
   "cell_type": "code",
   "execution_count": 72,
   "metadata": {},
   "outputs": [
    {
     "name": "stdout",
     "output_type": "stream",
     "text": [
      "Utworzono tabelę Users.\n",
      "[('user', 'Jan Nowak', '1234567890')]\n",
      "Połączenie SQLite jest zamknięte.\n"
     ]
    }
   ],
   "source": [
    "import sqlite3\n",
    "conn = sqlite3.connect(':memory:')\n",
    "c = conn.cursor()\n",
    "c.execute(\"CREATE TABLE users(login VARCHAR(8) NOT NULL, name VARCHAR(40) NOT NULL, phone_no VARCHAR(15));\")\n",
    "print(\"Utworzono tabelę Users.\")\n",
    "c.execute(\"INSERT INTO users VALUES ('user', 'Jan Nowak', '1234567890');\")\n",
    "c.execute(\"SELECT * FROM users;\")\n",
    "record = c.fetchall()\n",
    "print(record)\n",
    "conn.close()\n",
    "print(\"Połączenie SQLite jest zamknięte.\")"
   ]
  },
  {
   "cell_type": "markdown",
   "metadata": {},
   "source": [
    "### Wstaw listę rekordów do podanej tabeli SQLite i policz liczbę wierszy w danej tabeli SQLite\n",
    "\n",
    "Napisz program w Pythonie, który wstawi listę kilku rekordów do podanej tabeli SQLite o kilku kolumnach (jednym poleceniem). Policz liczbę wierszy w danej tabeli SQLite (przed i po wstawieniu wierszy)."
   ]
  },
  {
   "cell_type": "markdown",
   "metadata": {},
   "source": [
    "---"
   ]
  },
  {
   "cell_type": "markdown",
   "metadata": {},
   "source": [
    "**Kod Pythona (przykładowe rozwiązanie i przykładowe dane wyjściowe):**"
   ]
  },
  {
   "cell_type": "code",
   "execution_count": 90,
   "metadata": {},
   "outputs": [
    {
     "name": "stdout",
     "output_type": "stream",
     "text": [
      "Liczba rekordów przed wstawieniem wierszy:\n",
      "0\n",
      "Liczba rekordów po wstawieniu wierszy:\n",
      "5\n",
      "Połączenie SQLite jest zamknięte.\n"
     ]
    }
   ],
   "source": [
    "import sqlite3 \n",
    "conn = sqlite3.connect(':memory:')\n",
    "c = conn.cursor()\n",
    "# Utwórz tabelę\n",
    "c.execute(\"CREATE TABLE users(id SMALLINT, name VARCHAR(30), city VARCHAR(35));\")\n",
    "print(\"Liczba rekordów przed wstawieniem wierszy:\")\n",
    "cursor = c.execute('SELECT * FROM users;')\n",
    "print(len(cursor.fetchall()))\n",
    "query = \"INSERT INTO users (id, name, city) VALUES (?, ?, ?);\"    \n",
    "# Wstaw rekordy\n",
    "rows = [(5001,'Piotr Nowak',          'Warszawa'),\n",
    "        (5002,'Anna Kowalska',        'Kraków'  ),\n",
    "        (5003,'Krzysztof Wiśniewski', 'Łódź'    ),\n",
    "        (5004,'Maria Wójcik',         'Kraków'  ),\n",
    "        (5005,'Andrzej Kowalczyk',    'Wrocław' )]\n",
    "c.executemany(query, rows)\n",
    "conn.commit()      \n",
    "print(\"Liczba rekordów po wstawieniu wierszy:\")\n",
    "cursor = c.execute('SELECT * FROM users;')\n",
    "print(len(cursor.fetchall()))\n",
    "conn.close()\n",
    "print(\"Połączenie SQLite jest zamknięte.\")"
   ]
  },
  {
   "cell_type": "markdown",
   "metadata": {},
   "source": [
    "### Wstaw wartości do tabeli z danych wejściowych użytkownika\n",
    "\n",
    "Napisz program w Pythonie, który będzie wstawiał wartości do tabeli z danych wejściowych użytkownika."
   ]
  },
  {
   "cell_type": "markdown",
   "metadata": {},
   "source": [
    "---"
   ]
  },
  {
   "cell_type": "markdown",
   "metadata": {},
   "source": [
    "**Kod Pythona (przykładowe rozwiązanie i przykładowe dane wyjściowe):**"
   ]
  },
  {
   "cell_type": "code",
   "execution_count": 89,
   "metadata": {},
   "outputs": [
    {
     "name": "stdout",
     "output_type": "stream",
     "text": [
      "ID:2\n",
      "Name:2\n",
      "City:2\n",
      "Dane wprowadzone pomyślnie.\n",
      "Połączenie SQLite jest zamknięte.\n"
     ]
    }
   ],
   "source": [
    "import sqlite3\n",
    "conn = sqlite3.connect(':memory:')\n",
    "c  = conn.cursor()\n",
    "# Utwórz tabelę użytkowników \n",
    "c.execute(\"CREATE TABLE users(id SMALLINT, name VARCHAR(30), city VARCHAR(35));\")\n",
    "input_id = input('ID:')\n",
    "input_name = input('Name:')\n",
    "input_city = input('City:')\n",
    "c.execute(\"INSERT INTO users(id, name, city) VALUES (?,?,?)\", (input_id, input_name, input_city))\n",
    "conn.commit()\n",
    "print('Dane wprowadzone pomyślnie.')\n",
    "conn.close()\n",
    "print(\"Połączenie SQLite jest zamknięte.\")"
   ]
  },
  {
   "cell_type": "markdown",
   "metadata": {},
   "source": [
    "### Zaktualizuj określoną wartość kolumny w danej tabeli\n",
    "\n",
    "Napisz program w Pythonie, aby zaktualizować określoną wartość kolumny w danej tabeli i wybrać/wyświetlić w pętli wszystkie wiersze przed i po aktualizacji tej tabeli."
   ]
  },
  {
   "cell_type": "markdown",
   "metadata": {},
   "source": [
    "---"
   ]
  },
  {
   "cell_type": "markdown",
   "metadata": {},
   "source": [
    "**Kod Pythona (przykładowe rozwiązanie i przykładowe dane wyjściowe):**"
   ]
  },
  {
   "cell_type": "code",
   "execution_count": 95,
   "metadata": {},
   "outputs": [
    {
     "name": "stdout",
     "output_type": "stream",
     "text": [
      "Dane użytkowników:\n",
      "(5001, 'Piotr Nowak', 'Warszawa')\n",
      "(5002, 'Anna Kowalska', 'Kraków')\n",
      "(5003, 'Krzysztof Wiśniewski', 'Łódź')\n",
      "(5004, 'Maria Wójcik', 'Kraków')\n",
      "(5005, 'Andrzej Kowalczyk', 'Wrocław')\n",
      "Zaktualizuj miasto Łódź do Poznania, gdzie id to 5003:\n",
      "Rekord zaktualizowany pomyślnie.\n",
      "Po zaktualizowaniu danych użytkowników:\n",
      "(5001, 'Piotr Nowak', 'Warszawa')\n",
      "(5002, 'Anna Kowalska', 'Kraków')\n",
      "(5003, 'Krzysztof Wiśniewski', 'Poznań')\n",
      "(5004, 'Maria Wójcik', 'Kraków')\n",
      "(5005, 'Andrzej Kowalczyk', 'Wrocław')\n",
      "Połączenie SQLite jest zamknięte.\n"
     ]
    }
   ],
   "source": [
    "import sqlite3 \n",
    "conn = sqlite3.connect(':memory:')\n",
    "c = conn.cursor()\n",
    "# Utwórz tabelę\n",
    "c.execute(\"CREATE TABLE users(id SMALLINT, name VARCHAR(30), city VARCHAR(35));\")\n",
    "query = \"INSERT INTO users (id, name, city) VALUES (?, ?, ?);\"    \n",
    "# Wstaw rekordy\n",
    "rows = [(5001,'Piotr Nowak',          'Warszawa'),\n",
    "        (5002,'Anna Kowalska',        'Kraków'  ),\n",
    "        (5003,'Krzysztof Wiśniewski', 'Łódź'    ),\n",
    "        (5004,'Maria Wójcik',         'Kraków'  ),\n",
    "        (5005,'Andrzej Kowalczyk',    'Wrocław' )]\n",
    "c.executemany(query, rows)\n",
    "conn.commit()      \n",
    "rows = c.execute('SELECT * FROM users;')\n",
    "rows = c.fetchall()\n",
    "print(\"Dane użytkowników:\")\n",
    "for row in rows:\n",
    "    print(row)\n",
    "print(\"Zaktualizuj miasto Łódź do Poznania, gdzie id to 5003:\")\n",
    "c.execute('UPDATE users SET city = \"Poznań\" WHERE id = 5003;')\n",
    "print(\"Rekord zaktualizowany pomyślnie.\")   \n",
    "rows = c.execute('SELECT * FROM users;')\n",
    "rows = c.fetchall()\n",
    "print(\"Po zaktualizowaniu danych użytkowników:\")\n",
    "for row in rows:\n",
    "    print(row)\n",
    "conn.close()\n",
    "print(\"Połączenie SQLite jest zamknięte.\")"
   ]
  },
  {
   "cell_type": "markdown",
   "metadata": {},
   "source": [
    "### Usuń określony wiersz z podanej tabeli SQLite\n",
    "\n",
    "Napisz program w Pythonie, aby usunąć określony (danymi wejściowymi uzytkownika) wiersz z podanej tabeli SQLite i wybrać/wyświetlić w pętli wszystkie wiersze przed i po aktualizacji tej tabeli."
   ]
  },
  {
   "cell_type": "markdown",
   "metadata": {},
   "source": [
    "---"
   ]
  },
  {
   "cell_type": "markdown",
   "metadata": {},
   "source": [
    "**Kod Pythona (przykładowe rozwiązanie i przykładowe dane wyjściowe):**"
   ]
  },
  {
   "cell_type": "code",
   "execution_count": 118,
   "metadata": {},
   "outputs": [
    {
     "name": "stdout",
     "output_type": "stream",
     "text": [
      "Dane użytkowników:\n",
      "(5001, 'Piotr Nowak', 'Warszawa')\n",
      "(5002, 'Anna Kowalska', 'Kraków')\n",
      "(5003, 'Krzysztof Wiśniewski', 'Łódź')\n",
      "(5004, 'Maria Wójcik', 'Kraków')\n",
      "(5005, 'Andrzej Kowalczyk', 'Wrocław')\n",
      "ID:5003\n",
      "Usuń użytkownika o ID 5003 :\n",
      "Rekord zaktualizowany pomyślnie.\n",
      "Po zaktualizowaniu danych użytkowników:\n",
      "(5001, 'Piotr Nowak', 'Warszawa')\n",
      "(5002, 'Anna Kowalska', 'Kraków')\n",
      "(5004, 'Maria Wójcik', 'Kraków')\n",
      "(5005, 'Andrzej Kowalczyk', 'Wrocław')\n",
      "Połączenie SQLite jest zamknięte.\n"
     ]
    }
   ],
   "source": [
    "import sqlite3 \n",
    "conn = sqlite3.connect(':memory:')\n",
    "c = conn.cursor()\n",
    "# Utwórz tabelę\n",
    "c.execute(\"CREATE TABLE users(id SMALLINT, name VARCHAR(30), city VARCHAR(35));\")\n",
    "query = \"INSERT INTO users (id, name, city) VALUES (?, ?, ?);\"    \n",
    "# Wstaw rekordy\n",
    "rows = [(5001,'Piotr Nowak',          'Warszawa'),\n",
    "        (5002,'Anna Kowalska',        'Kraków'  ),\n",
    "        (5003,'Krzysztof Wiśniewski', 'Łódź'    ),\n",
    "        (5004,'Maria Wójcik',         'Kraków'  ),\n",
    "        (5005,'Andrzej Kowalczyk',    'Wrocław' )]\n",
    "c.executemany(query, rows)\n",
    "conn.commit()      \n",
    "rows = c.execute('SELECT * FROM users;')\n",
    "rows = c.fetchall()\n",
    "print(\"Dane użytkowników:\")\n",
    "for row in rows:\n",
    "    print(row)\n",
    "input_id = input('ID:')\n",
    "print(\"Usuń użytkownika o ID\", input_id, \":\")\n",
    "c.execute('DELETE FROM users WHERE id = ?;', (input_id,))\n",
    "conn.commit()\n",
    "print(\"Rekord zaktualizowany pomyślnie.\")   \n",
    "rows = c.execute('SELECT * FROM users;')\n",
    "rows = c.fetchall()\n",
    "print(\"Po zaktualizowaniu danych użytkowników:\")\n",
    "for row in rows:\n",
    "    print(row)\n",
    "conn.close()\n",
    "print(\"Połączenie SQLite jest zamknięte.\")"
   ]
  },
  {
   "cell_type": "markdown",
   "metadata": {},
   "source": [
    "## [Test](https://www.w3schools.com/sql/sql_quiz.asp)\n",
    "\n",
    "Możesz sprawdzić swoje umiejętności SQL w Quizie.\n",
    "\n",
    "Test zawiera 25 pytań i nie ma ograniczenia czasowego.\n",
    "\n",
    "Test nie jest oficjalny, jest po prostu przyjemnym sposobem sprawdzenia, ile wiesz lub nie wiesz o SQL."
   ]
  },
  {
   "cell_type": "markdown",
   "metadata": {},
   "source": [
    "## Materiały dodatkowe\n",
    "\n",
    "* [SQL e-learning](http://zasoby.open.agh.edu.pl/~11smdrobniak/)\n",
    "* [Podstawy baz danych z encyklopedią SQL](http://zasoby.open.agh.edu.pl/~09seenglert/)\n",
    "* [MySQL - podstawy](http://www.galaxy.agh.edu.pl/~pamalino/programowanie/mysql/)\n",
    "* [SQL](https://github.com/pkociepka/sql)"
   ]
  },
  {
   "cell_type": "code",
   "execution_count": null,
   "metadata": {},
   "outputs": [],
   "source": []
  }
 ],
 "metadata": {
  "kernelspec": {
   "display_name": "Python 3",
   "language": "python",
   "name": "python3"
  },
  "language_info": {
   "codemirror_mode": {
    "name": "ipython",
    "version": 3
   },
   "file_extension": ".py",
   "mimetype": "text/x-python",
   "name": "python",
   "nbconvert_exporter": "python",
   "pygments_lexer": "ipython3",
   "version": "3.8.3"
  }
 },
 "nbformat": 4,
 "nbformat_minor": 4
}
