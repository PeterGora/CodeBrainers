{
 "cells": [
  {
   "cell_type": "markdown",
   "metadata": {},
   "source": [
    "![](data:image/jpeg;base64,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)"
   ]
  },
  {
   "cell_type": "markdown",
   "metadata": {},
   "source": [
    "# Python Object-Oriented Programming (OOP)\n",
    "\n",
    "_Mikołaj Leszczuk_"
   ]
  },
  {
   "cell_type": "markdown",
   "metadata": {},
   "source": [
    "## Iterowanie\n",
    "\n",
    "![](https://miro.medium.com/max/1000/0*39LNqv6m-1YIKB4w.jpg)"
   ]
  },
  {
   "cell_type": "markdown",
   "metadata": {},
   "source": [
    "### Iteratory"
   ]
  },
  {
   "cell_type": "markdown",
   "metadata": {},
   "source": [
    "> ##### Iteracja\n",
    "> Iterować, iteracja - to wszystku powinno Ci się kojarzyć z... pętlami. W szczególności pętlami `for`."
   ]
  },
  {
   "cell_type": "markdown",
   "metadata": {},
   "source": [
    "#### Protokół iteracji"
   ]
  },
  {
   "cell_type": "markdown",
   "metadata": {},
   "source": [
    "Wbudowana funkcja `iter` pobiera iterowalny obiekt i zwraca iterator."
   ]
  },
  {
   "cell_type": "code",
   "execution_count": 1,
   "metadata": {},
   "outputs": [],
   "source": [
    "l = [1, 2, 3]"
   ]
  },
  {
   "cell_type": "code",
   "execution_count": 2,
   "metadata": {},
   "outputs": [
    {
     "data": {
      "text/plain": [
       "[1, 2, 3]"
      ]
     },
     "execution_count": 2,
     "metadata": {},
     "output_type": "execute_result"
    }
   ],
   "source": [
    "l"
   ]
  },
  {
   "cell_type": "code",
   "execution_count": 3,
   "metadata": {},
   "outputs": [],
   "source": [
    "x = iter(l)"
   ]
  },
  {
   "cell_type": "code",
   "execution_count": 4,
   "metadata": {},
   "outputs": [
    {
     "data": {
      "text/plain": [
       "<list_iterator at 0x7fae21c54070>"
      ]
     },
     "execution_count": 4,
     "metadata": {},
     "output_type": "execute_result"
    }
   ],
   "source": [
    "x"
   ]
  },
  {
   "cell_type": "markdown",
   "metadata": {},
   "source": [
    "Za każdym razem, gdy wywołujemy metodę `next` w iteratorze, otrzymujemy kolejny element."
   ]
  },
  {
   "cell_type": "code",
   "execution_count": 5,
   "metadata": {},
   "outputs": [
    {
     "data": {
      "text/plain": [
       "1"
      ]
     },
     "execution_count": 5,
     "metadata": {},
     "output_type": "execute_result"
    }
   ],
   "source": [
    "next(x)"
   ]
  },
  {
   "cell_type": "code",
   "execution_count": 6,
   "metadata": {},
   "outputs": [
    {
     "data": {
      "text/plain": [
       "2"
      ]
     },
     "execution_count": 6,
     "metadata": {},
     "output_type": "execute_result"
    }
   ],
   "source": [
    "next(x)"
   ]
  },
  {
   "cell_type": "code",
   "execution_count": 7,
   "metadata": {},
   "outputs": [
    {
     "data": {
      "text/plain": [
       "3"
      ]
     },
     "execution_count": 7,
     "metadata": {},
     "output_type": "execute_result"
    }
   ],
   "source": [
    "next(x)"
   ]
  },
  {
   "cell_type": "markdown",
   "metadata": {},
   "source": [
    "Jeśli nie ma więcej elementów, wywołuje wyjątek `StopIteration`."
   ]
  },
  {
   "cell_type": "code",
   "execution_count": 8,
   "metadata": {},
   "outputs": [
    {
     "ename": "StopIteration",
     "evalue": "",
     "output_type": "error",
     "traceback": [
      "\u001b[0;31m---------------------------------------------------------------------------\u001b[0m",
      "\u001b[0;31mStopIteration\u001b[0m                             Traceback (most recent call last)",
      "\u001b[0;32m<ipython-input-8-92de4e9f6b1e>\u001b[0m in \u001b[0;36m<module>\u001b[0;34m\u001b[0m\n\u001b[0;32m----> 1\u001b[0;31m \u001b[0mnext\u001b[0m\u001b[0;34m(\u001b[0m\u001b[0mx\u001b[0m\u001b[0;34m)\u001b[0m\u001b[0;34m\u001b[0m\u001b[0;34m\u001b[0m\u001b[0m\n\u001b[0m",
      "\u001b[0;31mStopIteration\u001b[0m: "
     ]
    }
   ],
   "source": [
    "next(x)"
   ]
  },
  {
   "cell_type": "markdown",
   "metadata": {},
   "source": [
    "#### Iteratory"
   ]
  },
  {
   "cell_type": "markdown",
   "metadata": {},
   "source": [
    "Iteratory są implementowane jako klasy."
   ]
  },
  {
   "cell_type": "markdown",
   "metadata": {},
   "source": [
    "Po obiektach, które implementują metodę specjalną `__next__`, można iterować w taki sam sposób, jak po liście `for element in instancja:`. Klasy, które implementują metodę `__next__` nazywamy **iteratorami**. Przy wywołaniu tej metody, ma ona zwrócić następny element z kolekcji. Jeżeli nie ma więcej elementów w kolekcji, `__next__` ma rzucić wyjątek `StopIteration`.\n",
    "\n",
    "Klasy, które pozwalają po sobie iterować, posiadają metodę specjalną `__iter__`, która zwraca obiekt iteratora. Nic nie stoi na przeszkodzie, żeby obiekt iterowalny był jednocześnie iteratorem.\n",
    "\n",
    "Podsumowując:\n",
    "\n",
    "* Iterator posiada metodę `__next()__`, która zwraca kolejny element z iterowanej sekwencji\n",
    "* Jeśli iteracja dobiegła końca (brak kolejnych elementów) zgłaszany jest wyjątek `StopIteration`\n",
    "* Iterator jest zwracany przez funkcję `iter()`\n",
    "\n",
    "Przykład typu iterowalnego (string) i jego iteratora (`it`):"
   ]
  },
  {
   "cell_type": "code",
   "execution_count": 9,
   "metadata": {},
   "outputs": [],
   "source": [
    "s = 'abc'"
   ]
  },
  {
   "cell_type": "code",
   "execution_count": 10,
   "metadata": {},
   "outputs": [],
   "source": [
    "it = iter(s)"
   ]
  },
  {
   "cell_type": "code",
   "execution_count": 11,
   "metadata": {},
   "outputs": [
    {
     "data": {
      "text/plain": [
       "'a'"
      ]
     },
     "execution_count": 11,
     "metadata": {},
     "output_type": "execute_result"
    }
   ],
   "source": [
    "it.__next__()"
   ]
  },
  {
   "cell_type": "code",
   "execution_count": 12,
   "metadata": {},
   "outputs": [
    {
     "data": {
      "text/plain": [
       "'b'"
      ]
     },
     "execution_count": 12,
     "metadata": {},
     "output_type": "execute_result"
    }
   ],
   "source": [
    "next(it)"
   ]
  },
  {
   "cell_type": "code",
   "execution_count": 13,
   "metadata": {},
   "outputs": [
    {
     "data": {
      "text/plain": [
       "'c'"
      ]
     },
     "execution_count": 13,
     "metadata": {},
     "output_type": "execute_result"
    }
   ],
   "source": [
    "it.__next__()"
   ]
  },
  {
   "cell_type": "code",
   "execution_count": 14,
   "metadata": {},
   "outputs": [
    {
     "ename": "StopIteration",
     "evalue": "",
     "output_type": "error",
     "traceback": [
      "\u001b[0;31m---------------------------------------------------------------------------\u001b[0m",
      "\u001b[0;31mStopIteration\u001b[0m                             Traceback (most recent call last)",
      "\u001b[0;32m<ipython-input-14-bc1ab118995a>\u001b[0m in \u001b[0;36m<module>\u001b[0;34m\u001b[0m\n\u001b[0;32m----> 1\u001b[0;31m \u001b[0mnext\u001b[0m\u001b[0;34m(\u001b[0m\u001b[0mit\u001b[0m\u001b[0;34m)\u001b[0m\u001b[0;34m\u001b[0m\u001b[0;34m\u001b[0m\u001b[0m\n\u001b[0m",
      "\u001b[0;31mStopIteration\u001b[0m: "
     ]
    }
   ],
   "source": [
    "next(it)"
   ]
  },
  {
   "cell_type": "markdown",
   "metadata": {},
   "source": [
    "Oto iterator, który działa jak wbudowana funkcja `range`."
   ]
  },
  {
   "cell_type": "code",
   "execution_count": 15,
   "metadata": {},
   "outputs": [],
   "source": [
    "class yrange:\n",
    "    def __init__(self, n):\n",
    "        self.i = 0\n",
    "        self.n = n\n",
    "\n",
    "    def __iter__(self):\n",
    "        return self\n",
    "\n",
    "    def __next__(self):\n",
    "        if self.i < self.n:\n",
    "            i = self.i\n",
    "            self.i += 1\n",
    "            return i\n",
    "        else:\n",
    "            raise StopIteration()"
   ]
  },
  {
   "cell_type": "code",
   "execution_count": 16,
   "metadata": {},
   "outputs": [
    {
     "name": "stdout",
     "output_type": "stream",
     "text": [
      "0\n",
      "1\n",
      "2\n",
      "3\n",
      "4\n",
      "5\n",
      "6\n",
      "7\n",
      "8\n",
      "9\n"
     ]
    }
   ],
   "source": [
    "for i in range(10):\n",
    "    print(i)"
   ]
  },
  {
   "cell_type": "code",
   "execution_count": 17,
   "metadata": {},
   "outputs": [
    {
     "name": "stdout",
     "output_type": "stream",
     "text": [
      "0\n",
      "1\n",
      "2\n",
      "3\n",
      "4\n",
      "5\n",
      "6\n",
      "7\n",
      "8\n",
      "9\n"
     ]
    }
   ],
   "source": [
    "for i in yrange(10):\n",
    "    print(i)"
   ]
  },
  {
   "cell_type": "markdown",
   "metadata": {},
   "source": [
    "Wypróbujmy to z `next`:"
   ]
  },
  {
   "cell_type": "code",
   "execution_count": 18,
   "metadata": {},
   "outputs": [],
   "source": [
    "y = yrange(3)"
   ]
  },
  {
   "cell_type": "code",
   "execution_count": 19,
   "metadata": {},
   "outputs": [
    {
     "data": {
      "text/plain": [
       "<__main__.yrange at 0x7fae21c54490>"
      ]
     },
     "execution_count": 19,
     "metadata": {},
     "output_type": "execute_result"
    }
   ],
   "source": [
    "y"
   ]
  },
  {
   "cell_type": "code",
   "execution_count": 20,
   "metadata": {},
   "outputs": [
    {
     "data": {
      "text/plain": [
       "0"
      ]
     },
     "execution_count": 20,
     "metadata": {},
     "output_type": "execute_result"
    }
   ],
   "source": [
    "next(y)"
   ]
  },
  {
   "cell_type": "code",
   "execution_count": 21,
   "metadata": {},
   "outputs": [
    {
     "data": {
      "text/plain": [
       "1"
      ]
     },
     "execution_count": 21,
     "metadata": {},
     "output_type": "execute_result"
    }
   ],
   "source": [
    "next(y)"
   ]
  },
  {
   "cell_type": "code",
   "execution_count": 22,
   "metadata": {},
   "outputs": [
    {
     "data": {
      "text/plain": [
       "2"
      ]
     },
     "execution_count": 22,
     "metadata": {},
     "output_type": "execute_result"
    }
   ],
   "source": [
    "next(y)"
   ]
  },
  {
   "cell_type": "code",
   "execution_count": 23,
   "metadata": {},
   "outputs": [
    {
     "ename": "StopIteration",
     "evalue": "",
     "output_type": "error",
     "traceback": [
      "\u001b[0;31m---------------------------------------------------------------------------\u001b[0m",
      "\u001b[0;31mStopIteration\u001b[0m                             Traceback (most recent call last)",
      "\u001b[0;32m<ipython-input-23-81b9d2f0f16a>\u001b[0m in \u001b[0;36m<module>\u001b[0;34m\u001b[0m\n\u001b[0;32m----> 1\u001b[0;31m \u001b[0mnext\u001b[0m\u001b[0;34m(\u001b[0m\u001b[0my\u001b[0m\u001b[0;34m)\u001b[0m\u001b[0;34m\u001b[0m\u001b[0;34m\u001b[0m\u001b[0m\n\u001b[0m",
      "\u001b[0;32m<ipython-input-15-79e514da8e3b>\u001b[0m in \u001b[0;36m__next__\u001b[0;34m(self)\u001b[0m\n\u001b[1;32m     13\u001b[0m             \u001b[0;32mreturn\u001b[0m \u001b[0mi\u001b[0m\u001b[0;34m\u001b[0m\u001b[0;34m\u001b[0m\u001b[0m\n\u001b[1;32m     14\u001b[0m         \u001b[0;32melse\u001b[0m\u001b[0;34m:\u001b[0m\u001b[0;34m\u001b[0m\u001b[0;34m\u001b[0m\u001b[0m\n\u001b[0;32m---> 15\u001b[0;31m             \u001b[0;32mraise\u001b[0m \u001b[0mStopIteration\u001b[0m\u001b[0;34m(\u001b[0m\u001b[0;34m)\u001b[0m\u001b[0;34m\u001b[0m\u001b[0;34m\u001b[0m\u001b[0m\n\u001b[0m",
      "\u001b[0;31mStopIteration\u001b[0m: "
     ]
    }
   ],
   "source": [
    "next(y)"
   ]
  },
  {
   "cell_type": "markdown",
   "metadata": {},
   "source": [
    "Wiele funkcji wbudowanych akceptuje iteratory jako argumenty."
   ]
  },
  {
   "cell_type": "code",
   "execution_count": 24,
   "metadata": {},
   "outputs": [
    {
     "data": {
      "text/plain": [
       "[0, 1, 2, 3, 4]"
      ]
     },
     "execution_count": 24,
     "metadata": {},
     "output_type": "execute_result"
    }
   ],
   "source": [
    "list(range(5))"
   ]
  },
  {
   "cell_type": "code",
   "execution_count": 25,
   "metadata": {},
   "outputs": [
    {
     "data": {
      "text/plain": [
       "[0, 1, 2, 3, 4]"
      ]
     },
     "execution_count": 25,
     "metadata": {},
     "output_type": "execute_result"
    }
   ],
   "source": [
    "list(yrange(5))"
   ]
  },
  {
   "cell_type": "code",
   "execution_count": 26,
   "metadata": {},
   "outputs": [
    {
     "data": {
      "text/plain": [
       "10"
      ]
     },
     "execution_count": 26,
     "metadata": {},
     "output_type": "execute_result"
    }
   ],
   "source": [
    "sum(range(5))"
   ]
  },
  {
   "cell_type": "code",
   "execution_count": 27,
   "metadata": {},
   "outputs": [
    {
     "data": {
      "text/plain": [
       "10"
      ]
     },
     "execution_count": 27,
     "metadata": {},
     "output_type": "execute_result"
    }
   ],
   "source": [
    "sum(yrange(5))"
   ]
  },
  {
   "cell_type": "markdown",
   "metadata": {},
   "source": [
    "#### Przykład generowania ciągu Fibonacciego i iteratorów"
   ]
  },
  {
   "cell_type": "code",
   "execution_count": 28,
   "metadata": {},
   "outputs": [],
   "source": [
    "class Fibs:\n",
    "    def __init__(self, limit):\n",
    "        self.a = 0\n",
    "        self.b = 1\n",
    "        # nie chcemy tego w nieskończoność\n",
    "        self.limit = limit\n",
    "\n",
    "    def __next__(self):\n",
    "        self.a, self.b = self.b, self.a + self.b\n",
    "        if self.a > self.limit:\n",
    "            raise StopIteration\n",
    "        return self.a\n",
    "\n",
    "    def __iter__(self):\n",
    "        return self"
   ]
  },
  {
   "cell_type": "markdown",
   "metadata": {},
   "source": [
    "Wywołanie:"
   ]
  },
  {
   "cell_type": "code",
   "execution_count": 29,
   "metadata": {},
   "outputs": [
    {
     "data": {
      "text/plain": [
       "[1, 1, 2, 3, 5, 8, 13, 21, 34, 55, 89]"
      ]
     },
     "execution_count": 29,
     "metadata": {},
     "output_type": "execute_result"
    }
   ],
   "source": [
    "list(Fibs(100))"
   ]
  },
  {
   "cell_type": "markdown",
   "metadata": {},
   "source": [
    "#### Zadanie - tasowanie kart\n",
    "\n",
    "**Część 1**: stwórz klasę kart (`Card`). Pamiętaj, karty mają dwa atrybuty: wartość (2, 3, 4, 5, 6, 7, 8, 9, J, Q, K, A) i kolor (pik, kier, trefl, karo). Stwórz metodę `__str__` zwracającą string karty typu \"2 karo\", jako \"Karta 2♦\", ale już karty typu \"2 dzwonek\", jako \"Karta 2 dzwonek\". Stwórz metodę `__repr__` zwracającą reprezentację, jako string w otoczeniu znaków \"<>\".\n",
    "\n",
    "**Część 2**: stwórz klasę stosu kart (`Deck`), która w metodzie `__init__` będzie generowała listę (na razie posortowaną) całego stosu kart (52 karty). Stwórz metodę `shuffle_cards`, która tasowała będzie w miejscu cały stos kart (możesz użyć `random.shuffle()`).\n",
    "\n",
    "**Część 3**: napisz metodę `__iter__`, która zwróci iterator. Czy musisz tworzyć sam klasę iteratora? Czy możesz wykorzystać iterator dla innego typu danych?\n",
    "\n",
    "**Część 4**: dodaj tasowanie stosu kart. W którym miejscu chcesz to zrobić?"
   ]
  },
  {
   "cell_type": "markdown",
   "metadata": {},
   "source": [
    "> ##### `random.shuffle(x[, random])`\n",
    "> Tasuje sekwencję *x* na miejscu.\n",
    "> \n",
    "> Opcjonalny argument *random* to 0-argumentowa funkcja zwracająca losową liczbę zmiennoprzecinkową z wartości `[0.0, 1.0)`; domyślnie jest to funkcja `random()`.\n",
    "> \n",
    "> Aby przetasować niezmienną sekwencję i zwrócić nową potasowaną listę, użyj zamiast tego `sample(x, k=len(x))`.\n",
    "> \n",
    "> Zauważ, że nawet dla małych `len(x)`, całkowita liczba permutacji *x* może szybko wzrosnąć do większej niż okres większości generatorów liczb losowych. Oznacza to, że większości permutacji długiej sekwencji nie można nigdy wygenerować. Na przykład sekwencja o długości 2080 jest największą, jaka może zmieścić się w okresie generatora liczb losowych Mersenne Twister.\n",
    "> \n",
    "> *Zdeprecjonowane od wersji 3.9, zostanie usunięte w wersji 3.11:* Opcjonalny parametr *random*."
   ]
  },
  {
   "cell_type": "markdown",
   "metadata": {},
   "source": [
    "#### Rozwiązanie - tasowanie kart"
   ]
  },
  {
   "cell_type": "code",
   "execution_count": 30,
   "metadata": {},
   "outputs": [],
   "source": [
    "import random\n",
    "\n",
    "\n",
    "class Card:\n",
    "    def __init__(self, wartosc, kolor):\n",
    "        self.wartosc = wartosc\n",
    "        self.kolor = kolor\n",
    "\n",
    "    def __str__(self):\n",
    "        znaki = {\n",
    "            \"karo\": \"♦\",\n",
    "            \"kier\": \"♥\",\n",
    "            \"pik\": \"♠\",\n",
    "            \"trefl\": \"♣\",\n",
    "        }\n",
    "        if self.kolor in znaki:\n",
    "            return \"Karta {}{}\".format(self.wartosc, znaki[self.kolor])\n",
    "        else:\n",
    "            return \"Karta {} {}\".format(self.wartosc, self.kolor)\n",
    "\n",
    "    def __repr__(self):\n",
    "        return \"<{}>\".format(str(self))"
   ]
  },
  {
   "cell_type": "markdown",
   "metadata": {},
   "source": [
    "Testowanie:"
   ]
  },
  {
   "cell_type": "code",
   "execution_count": 31,
   "metadata": {},
   "outputs": [],
   "source": [
    "c1 = Card(2, \"karo\")"
   ]
  },
  {
   "cell_type": "code",
   "execution_count": 32,
   "metadata": {},
   "outputs": [
    {
     "name": "stdout",
     "output_type": "stream",
     "text": [
      "Karta 2♦\n"
     ]
    }
   ],
   "source": [
    "print(c1)  # __str__"
   ]
  },
  {
   "cell_type": "code",
   "execution_count": 33,
   "metadata": {},
   "outputs": [
    {
     "data": {
      "text/plain": [
       "<Karta 2♦>"
      ]
     },
     "execution_count": 33,
     "metadata": {},
     "output_type": "execute_result"
    }
   ],
   "source": [
    "c1         # __repr__"
   ]
  },
  {
   "cell_type": "code",
   "execution_count": 34,
   "metadata": {},
   "outputs": [],
   "source": [
    "c2 = Card(3, \"dzwonek\")"
   ]
  },
  {
   "cell_type": "code",
   "execution_count": 35,
   "metadata": {},
   "outputs": [
    {
     "name": "stdout",
     "output_type": "stream",
     "text": [
      "Karta 3 dzwonek\n"
     ]
    }
   ],
   "source": [
    "print(c2)  # __str__"
   ]
  },
  {
   "cell_type": "code",
   "execution_count": 36,
   "metadata": {},
   "outputs": [
    {
     "data": {
      "text/plain": [
       "<Karta 3 dzwonek>"
      ]
     },
     "execution_count": 36,
     "metadata": {},
     "output_type": "execute_result"
    }
   ],
   "source": [
    "c2         # __repr__"
   ]
  },
  {
   "cell_type": "code",
   "execution_count": 37,
   "metadata": {},
   "outputs": [],
   "source": [
    "class Deck:\n",
    "    def __init__(self):\n",
    "        wartosci = [\"2\", \"3\", \"4\", \"5\", \"6\", \"7\", \"8\", \"9\", \"10\",\n",
    "                    \"J\", \"Q\", \"K\", \"A\"]\n",
    "        kolory = [\"karo\", \"kier\", \"pik\", \"trefl\"]\n",
    "\n",
    "        # wygenerowana talia kart: 2♦, 3♦, 4♦, ..., K♣, A♣\n",
    "        self.stos = [\n",
    "            Card(wartosc, kolor)\n",
    "            for kolor in kolory\n",
    "            for wartosc in wartosci\n",
    "        ]\n",
    "\n",
    "        # tasowanie kart odbywa się w miejscu, tzn. random.shuffle\n",
    "        # zmienia listę podaną jako argument, ale jej nie musi zwracać\n",
    "        # random.shuffle(self.stos)\n",
    "    def shuffle_cards(self):\n",
    "        random.shuffle(self.stos)\n",
    "\n",
    "    def __iter__(self):\n",
    "        # zamiast męczyć się z pisaniem własnego iteratora, zastosujmy\n",
    "        # iterator wbudowany w Pythona: iterator po liście, która zawiera\n",
    "        # naszą talię kart\n",
    "        return iter(self.stos)"
   ]
  },
  {
   "cell_type": "markdown",
   "metadata": {},
   "source": [
    "Testowanie:"
   ]
  },
  {
   "cell_type": "code",
   "execution_count": 38,
   "metadata": {},
   "outputs": [],
   "source": [
    "talia = Deck()"
   ]
  },
  {
   "cell_type": "code",
   "execution_count": 39,
   "metadata": {},
   "outputs": [
    {
     "name": "stdout",
     "output_type": "stream",
     "text": [
      "Karta 2♦\n",
      "Karta 3♦\n",
      "Karta 4♦\n",
      "Karta 5♦\n",
      "Karta 6♦\n",
      "Karta 7♦\n",
      "Karta 8♦\n",
      "Karta 9♦\n",
      "Karta 10♦\n",
      "Karta J♦\n",
      "Karta Q♦\n",
      "Karta K♦\n",
      "Karta A♦\n",
      "Karta 2♥\n",
      "Karta 3♥\n",
      "Karta 4♥\n",
      "Karta 5♥\n",
      "Karta 6♥\n",
      "Karta 7♥\n",
      "Karta 8♥\n",
      "Karta 9♥\n",
      "Karta 10♥\n",
      "Karta J♥\n",
      "Karta Q♥\n",
      "Karta K♥\n",
      "Karta A♥\n",
      "Karta 2♠\n",
      "Karta 3♠\n",
      "Karta 4♠\n",
      "Karta 5♠\n",
      "Karta 6♠\n",
      "Karta 7♠\n",
      "Karta 8♠\n",
      "Karta 9♠\n",
      "Karta 10♠\n",
      "Karta J♠\n",
      "Karta Q♠\n",
      "Karta K♠\n",
      "Karta A♠\n",
      "Karta 2♣\n",
      "Karta 3♣\n",
      "Karta 4♣\n",
      "Karta 5♣\n",
      "Karta 6♣\n",
      "Karta 7♣\n",
      "Karta 8♣\n",
      "Karta 9♣\n",
      "Karta 10♣\n",
      "Karta J♣\n",
      "Karta Q♣\n",
      "Karta K♣\n",
      "Karta A♣\n"
     ]
    }
   ],
   "source": [
    "for karta in talia:\n",
    "    print(karta)"
   ]
  },
  {
   "cell_type": "code",
   "execution_count": 40,
   "metadata": {},
   "outputs": [],
   "source": [
    "talia.shuffle_cards()"
   ]
  },
  {
   "cell_type": "markdown",
   "metadata": {},
   "source": [
    "**Uwaga - kolejność kart będzie każdorazowo losowa**:"
   ]
  },
  {
   "cell_type": "code",
   "execution_count": 41,
   "metadata": {
    "scrolled": true
   },
   "outputs": [
    {
     "name": "stdout",
     "output_type": "stream",
     "text": [
      "Karta 7♠\n",
      "Karta Q♥\n",
      "Karta 4♠\n",
      "Karta A♣\n",
      "Karta 7♦\n",
      "Karta 2♠\n",
      "Karta 10♦\n",
      "Karta 10♥\n",
      "Karta 3♥\n",
      "Karta J♥\n",
      "Karta 5♣\n",
      "Karta K♦\n",
      "Karta 9♥\n",
      "Karta 10♣\n",
      "Karta 4♦\n",
      "Karta Q♦\n",
      "Karta Q♣\n",
      "Karta 8♠\n",
      "Karta 5♦\n",
      "Karta 6♦\n",
      "Karta 3♠\n",
      "Karta 5♠\n",
      "Karta 8♣\n",
      "Karta A♥\n",
      "Karta 3♦\n",
      "Karta A♠\n",
      "Karta 8♦\n",
      "Karta J♣\n",
      "Karta 4♣\n",
      "Karta 2♦\n",
      "Karta 8♥\n",
      "Karta 7♥\n",
      "Karta K♣\n",
      "Karta 7♣\n",
      "Karta 2♥\n",
      "Karta K♥\n",
      "Karta 5♥\n",
      "Karta K♠\n",
      "Karta 9♣\n",
      "Karta 10♠\n",
      "Karta 9♠\n",
      "Karta 6♥\n",
      "Karta 6♣\n",
      "Karta J♠\n",
      "Karta 2♣\n",
      "Karta 9♦\n",
      "Karta Q♠\n",
      "Karta 3♣\n",
      "Karta 6♠\n",
      "Karta J♦\n",
      "Karta A♦\n",
      "Karta 4♥\n"
     ]
    }
   ],
   "source": [
    "for karta in talia:\n",
    "    print(karta)"
   ]
  },
  {
   "cell_type": "code",
   "execution_count": null,
   "metadata": {},
   "outputs": [],
   "source": []
  }
 ],
 "metadata": {
  "kernelspec": {
   "display_name": "Python 3",
   "language": "python",
   "name": "python3"
  },
  "language_info": {
   "codemirror_mode": {
    "name": "ipython",
    "version": 3
   },
   "file_extension": ".py",
   "mimetype": "text/x-python",
   "name": "python",
   "nbconvert_exporter": "python",
   "pygments_lexer": "ipython3",
   "version": "3.8.2"
  }
 },
 "nbformat": 4,
 "nbformat_minor": 4
}
