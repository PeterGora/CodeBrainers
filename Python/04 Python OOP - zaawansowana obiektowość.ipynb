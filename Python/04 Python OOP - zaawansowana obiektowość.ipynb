{
 "cells": [
  {
   "cell_type": "markdown",
   "metadata": {},
   "source": [
    "![](data:image/jpeg;base64,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)"
   ]
  },
  {
   "cell_type": "markdown",
   "metadata": {},
   "source": [
    "# Python Object-Oriented Programming (OOP)\n",
    "\n",
    "_Mikołaj Leszczuk_"
   ]
  },
  {
   "cell_type": "markdown",
   "metadata": {},
   "source": [
    "## Zaawansowana obiektowość\n",
    "\n",
    "![](https://miro.medium.com/max/1000/1*eSgw4TrT3_5kUU3QFFW4qA.jpeg)"
   ]
  },
  {
   "cell_type": "markdown",
   "metadata": {},
   "source": [
    "### Zaawansowane kwestie OOP"
   ]
  },
  {
   "cell_type": "markdown",
   "metadata": {},
   "source": [
    "#### Interfejsy i introspekcja\n",
    "\n",
    "Istnieje możliwość sprawdzania charakterystyk klas i obiektów w trakcie działania programu."
   ]
  },
  {
   "cell_type": "code",
   "execution_count": 2,
   "metadata": {},
   "outputs": [],
   "source": [
    "class A:\n",
    "    \"\"\"Rodzic pierwszy\"\"\"\n",
    "\n",
    "    def __init__(self):\n",
    "        super().__init__()\n",
    "        self.a = \"A\"\n",
    "\n",
    "    def fa(self):\n",
    "        print(\"a:\", self.a)\n",
    "\n",
    "\n",
    "class B:\n",
    "    \"\"\"Rodzic drugi\"\"\"\n",
    "\n",
    "    def __init__(self):\n",
    "        super().__init__()\n",
    "        self.b = \"B\"\n",
    "\n",
    "    def fb(self):\n",
    "        print(\"b:\", self.b)\n",
    "\n",
    "\n",
    "class Pochodna(B, A):\n",
    "    \"\"\"Dziecko\"\"\"\n",
    "\n",
    "    def __init__(self):\n",
    "        super().__init__()"
   ]
  },
  {
   "cell_type": "markdown",
   "metadata": {},
   "source": [
    "> ##### Funkcja wbudowana `issubclass()`\n",
    "```python\n",
    "issubclass(class, classinfo)\n",
    "```\n",
    "> Zwraca `True`, jeśli *class* jest podklasą (bezpośrednią, pośrednią lub wirtualną) *classinfo*. Klasa jest traktowana jako podklasa sama w sobie. *classinfo* może być krotką obiektów klas, w którym to przypadku każdy wpis w *classinfo* zostanie sprawdzony. W każdym innym przypadku zgłaszany jest wyjątek `TypeError`."
   ]
  },
  {
   "cell_type": "code",
   "execution_count": 3,
   "metadata": {},
   "outputs": [
    {
     "data": {
      "text/plain": [
       "True"
      ]
     },
     "execution_count": 3,
     "metadata": {},
     "output_type": "execute_result"
    }
   ],
   "source": [
    "issubclass(Pochodna, A)"
   ]
  },
  {
   "cell_type": "code",
   "execution_count": 4,
   "metadata": {},
   "outputs": [
    {
     "data": {
      "text/plain": [
       "False"
      ]
     },
     "execution_count": 4,
     "metadata": {},
     "output_type": "execute_result"
    }
   ],
   "source": [
    "issubclass(B, Pochodna)"
   ]
  },
  {
   "cell_type": "markdown",
   "metadata": {},
   "source": [
    "> ##### Atrybut specjalny `__bases__`\n",
    "```python\n",
    "class.__bases__\n",
    "```\n",
    "> Krotka klas bazowych obiektu klasy."
   ]
  },
  {
   "cell_type": "code",
   "execution_count": 5,
   "metadata": {},
   "outputs": [
    {
     "data": {
      "text/plain": [
       "(__main__.B, __main__.A)"
      ]
     },
     "execution_count": 5,
     "metadata": {},
     "output_type": "execute_result"
    }
   ],
   "source": [
    "Pochodna.__bases__"
   ]
  },
  {
   "cell_type": "markdown",
   "metadata": {},
   "source": [
    "> ##### Funkcja wbudowana `isinstance()`\n",
    "```python\n",
    "isinstance(object, classinfo)\n",
    "```\n",
    "> Zwraca `True`, jeśli argument *object* jest instancją argumentu *classinfo* lub jego (bezpośredniej, pośredniej lub wirtualnej) podklasy. Jeśli *object* nie jest obiektem danego typu, funkcja zawsze zwraca `False`. Jeśli *classinfo* jest krotką obiektów typu (lub rekurencyjnie innymi takimi krotkami), zwraca `True`, jeśli *object* jest instancją dowolnego z typów. Jeśli *classinfo* nie jest typem lub krotką typów i takimi krotkami, zgłaszany jest wyjątek `TypeError`."
   ]
  },
  {
   "cell_type": "code",
   "execution_count": 7,
   "metadata": {},
   "outputs": [],
   "source": [
    "d = Pochodna()"
   ]
  },
  {
   "cell_type": "code",
   "execution_count": 8,
   "metadata": {},
   "outputs": [
    {
     "data": {
      "text/plain": [
       "True"
      ]
     },
     "execution_count": 8,
     "metadata": {},
     "output_type": "execute_result"
    }
   ],
   "source": [
    "isinstance(d, A)"
   ]
  },
  {
   "cell_type": "markdown",
   "metadata": {},
   "source": [
    "> ##### Funkcja wbudowana `getattr()`\n",
    "```python\n",
    "getattr(object, name[, default])\n",
    "```\n",
    "> Zwraca wartość nazwanego atrybutu *object*. Nazwa musi być ciągiem. Jeśli ciąg jest nazwą jednego z atrybutów obiektu, wynikiem jest wartość tego atrybutu. Na przykład `getattr(x, 'foobar')` jest równoważne z `x.foobar`. Jeśli nazwany atrybut nie istnieje, zwracana jest wartość *default*, jeśli została podana. W przeciwnym razie zostanie zgłoszony `AttributeError`."
   ]
  },
  {
   "cell_type": "code",
   "execution_count": 11,
   "metadata": {},
   "outputs": [
    {
     "data": {
      "text/plain": [
       "'A'"
      ]
     },
     "execution_count": 11,
     "metadata": {},
     "output_type": "execute_result"
    }
   ],
   "source": [
    "getattr(d, \"a\")"
   ]
  },
  {
   "cell_type": "code",
   "execution_count": 12,
   "metadata": {},
   "outputs": [
    {
     "data": {
      "text/plain": [
       "<bound method A.fa of <__main__.Pochodna object at 0x7ff609bd72e0>>"
      ]
     },
     "execution_count": 12,
     "metadata": {},
     "output_type": "execute_result"
    }
   ],
   "source": [
    "getattr(d, \"fa\")"
   ]
  },
  {
   "cell_type": "code",
   "execution_count": 13,
   "metadata": {},
   "outputs": [
    {
     "data": {
      "text/plain": [
       "'A'"
      ]
     },
     "execution_count": 13,
     "metadata": {},
     "output_type": "execute_result"
    }
   ],
   "source": [
    "d.a"
   ]
  },
  {
   "cell_type": "code",
   "execution_count": 14,
   "metadata": {},
   "outputs": [
    {
     "data": {
      "text/plain": [
       "<bound method A.fa of <__main__.Pochodna object at 0x7ff609bd72e0>>"
      ]
     },
     "execution_count": 14,
     "metadata": {},
     "output_type": "execute_result"
    }
   ],
   "source": [
    "d.fa"
   ]
  },
  {
   "cell_type": "markdown",
   "metadata": {},
   "source": [
    "> ##### Funkcja wbudowana `hasattr()`\n",
    "```python\n",
    "hasattr(object, name)\n",
    "```\n",
    "> Argumentami są obiekt i łańcuch (ciąg). Wynik to `True`, jeśli ciąg jest nazwą jednego z atrybutów obiektu, lub `False`, jeśli nie. (Jest to realizowane przez wywołanie metody `getattr(object, name)` i sprawdzenie, czy wywołuje ona błąd `AttributeError`, czy nie)."
   ]
  },
  {
   "cell_type": "code",
   "execution_count": 15,
   "metadata": {},
   "outputs": [
    {
     "data": {
      "text/plain": [
       "True"
      ]
     },
     "execution_count": 15,
     "metadata": {},
     "output_type": "execute_result"
    }
   ],
   "source": [
    "hasattr(d, \"a\")"
   ]
  },
  {
   "cell_type": "code",
   "execution_count": 16,
   "metadata": {},
   "outputs": [
    {
     "data": {
      "text/plain": [
       "True"
      ]
     },
     "execution_count": 16,
     "metadata": {},
     "output_type": "execute_result"
    }
   ],
   "source": [
    "hasattr(d, \"fa\")"
   ]
  },
  {
   "cell_type": "markdown",
   "metadata": {},
   "source": [
    "> ##### Emulowanie wywoływalnych obiektów\n",
    "```python\n",
    "object.__call__(self[, args...])\n",
    "```\n",
    "> Wywoływana, gdy instancja jest „wywoływana” jako funkcja; jeśli ta metoda jest zdefiniowana, `x(arg1, arg2, ...)` jest skrótem dla `x.__call__(arg1, arg2, ...)`."
   ]
  },
  {
   "cell_type": "markdown",
   "metadata": {},
   "source": [
    "> ##### Funkcja wbudowana `callable()`\n",
    "```python\n",
    "callable(object)\n",
    "```\n",
    "> Zwraca `True`, jeśli argument *object* wydaje się być wywoływalny, `False`, jeśli nie. Jeśli zwraca `True`, nadal jest możliwe, że wywołanie się nie powiedzie, ale jeśli jest `False`, wywołanie *object* nigdy się nie powiedzie. Zauważ, że klasy są wywoływalne (wywołanie klasy zwraca nową instancję); instancje są wywoływalne, jeśli ich klasa ma metodę `__call__()`.\n",
    ">\n",
    "> Nowość w wersji 3.2: Ta funkcja została najpierw usunięta w Pythonie 3.0, a następnie przywrócona w Pythonie 3.2."
   ]
  },
  {
   "cell_type": "code",
   "execution_count": 18,
   "metadata": {},
   "outputs": [
    {
     "data": {
      "text/plain": [
       "False"
      ]
     },
     "execution_count": 18,
     "metadata": {},
     "output_type": "execute_result"
    }
   ],
   "source": [
    "callable(getattr(d, \"a\", None))"
   ]
  },
  {
   "cell_type": "code",
   "execution_count": 19,
   "metadata": {},
   "outputs": [
    {
     "data": {
      "text/plain": [
       "True"
      ]
     },
     "execution_count": 19,
     "metadata": {},
     "output_type": "execute_result"
    }
   ],
   "source": [
    "callable(getattr(d, \"fa\", None))"
   ]
  },
  {
   "cell_type": "markdown",
   "metadata": {},
   "source": [
    "#### Składowe prywatne klasy\n",
    "\n",
    "Wszystkie atrybuty i metody zdefiniowane w klasie są publiczne. Aby ukryć atrybut lub metodę przed dostępem spoza klasy (składowa private) należy jej nazwę poprzedzić dwoma podkreślnikami (np. `__atrybut`)."
   ]
  },
  {
   "cell_type": "code",
   "execution_count": 9,
   "metadata": {},
   "outputs": [],
   "source": [
    "class KontoBankowe:\n",
    "    def __init__(self, nazwa, stan=0):\n",
    "        self.nazwa = nazwa\n",
    "        self.__stan = stan\n",
    "\n",
    "    def info(self):\n",
    "        print(\"nazwa:\", self.nazwa)\n",
    "        print(\"stan:\", self.__stan)\n",
    "\n",
    "    def wyplac(self, ilosc):\n",
    "        self.__stan -= ilosc\n",
    "\n",
    "    def wplac(self, ilosc):\n",
    "        self.__stan += ilosc"
   ]
  },
  {
   "cell_type": "code",
   "execution_count": 10,
   "metadata": {},
   "outputs": [],
   "source": [
    "jk = KontoBankowe(\"Kowalski\", 1000)"
   ]
  },
  {
   "cell_type": "code",
   "execution_count": 11,
   "metadata": {},
   "outputs": [
    {
     "ename": "AttributeError",
     "evalue": "'KontoBankowe' object has no attribute 'stan'",
     "output_type": "error",
     "traceback": [
      "\u001b[0;31m---------------------------------------------------------------------------\u001b[0m",
      "\u001b[0;31mAttributeError\u001b[0m                            Traceback (most recent call last)",
      "\u001b[0;32m<ipython-input-11-c411bce0c61b>\u001b[0m in \u001b[0;36m<module>\u001b[0;34m\u001b[0m\n\u001b[0;32m----> 1\u001b[0;31m \u001b[0mprint\u001b[0m\u001b[0;34m(\u001b[0m\u001b[0mjk\u001b[0m\u001b[0;34m.\u001b[0m\u001b[0mstan\u001b[0m\u001b[0;34m)\u001b[0m                \u001b[0;31m# Błąd!\u001b[0m\u001b[0;34m\u001b[0m\u001b[0;34m\u001b[0m\u001b[0m\n\u001b[0m",
      "\u001b[0;31mAttributeError\u001b[0m: 'KontoBankowe' object has no attribute 'stan'"
     ]
    }
   ],
   "source": [
    "print(jk.stan)                # Błąd!"
   ]
  },
  {
   "cell_type": "code",
   "execution_count": 12,
   "metadata": {},
   "outputs": [
    {
     "ename": "AttributeError",
     "evalue": "'KontoBankowe' object has no attribute '__stan'",
     "output_type": "error",
     "traceback": [
      "\u001b[0;31m---------------------------------------------------------------------------\u001b[0m",
      "\u001b[0;31mAttributeError\u001b[0m                            Traceback (most recent call last)",
      "\u001b[0;32m<ipython-input-12-7c0e8f584a0a>\u001b[0m in \u001b[0;36m<module>\u001b[0;34m\u001b[0m\n\u001b[0;32m----> 1\u001b[0;31m \u001b[0mprint\u001b[0m\u001b[0;34m(\u001b[0m\u001b[0mjk\u001b[0m\u001b[0;34m.\u001b[0m\u001b[0m__stan\u001b[0m\u001b[0;34m)\u001b[0m              \u001b[0;31m# Błąd!\u001b[0m\u001b[0;34m\u001b[0m\u001b[0;34m\u001b[0m\u001b[0m\n\u001b[0m",
      "\u001b[0;31mAttributeError\u001b[0m: 'KontoBankowe' object has no attribute '__stan'"
     ]
    }
   ],
   "source": [
    "print(jk.__stan)              # Błąd!"
   ]
  },
  {
   "cell_type": "code",
   "execution_count": 13,
   "metadata": {
    "scrolled": true
   },
   "outputs": [
    {
     "name": "stdout",
     "output_type": "stream",
     "text": [
      "1000\n"
     ]
    }
   ],
   "source": [
    "print(jk._KontoBankowe__stan) # OK"
   ]
  },
  {
   "cell_type": "markdown",
   "metadata": {},
   "source": [
    "#### Składowe statyczne\n",
    "\n",
    "Składowe statyczne są wspólne dla wszystkich instancji klasy."
   ]
  },
  {
   "cell_type": "markdown",
   "metadata": {},
   "source": [
    "> ##### [Zmienna statyczna (pole statyczne)](https://pl.wikipedia.org/wiki/Zmienna_statyczna)\n",
    "> **Zmienna statyczna** w [programowaniu](https://pl.wikipedia.org/wiki/Programowanie_komputer%C3%B3w) jest to [zmienna](https://pl.wikipedia.org/wiki/Zmienna_(informatyka)), która w danym bloku programu posiada dokładnie jedną instancję i istnieje przez cały czas działania programu."
   ]
  },
  {
   "cell_type": "markdown",
   "metadata": {},
   "source": [
    "> ##### [Metoda statyczna](https://pl.wikipedia.org/wiki/Metoda_statyczna)\n",
    "> **Metoda statyczna** albo **metoda klasowa** jest to [metoda](https://pl.wikipedia.org/wiki/Metoda_(programowanie_obiektowe)) [klasy](https://pl.wikipedia.org/wiki/Klasa_(programowanie_obiektowe)), która nie jest wywoływana w kontekście żadnego konkretnego [obiektu](https://pl.wikipedia.org/wiki/Obiekt_(programowanie_obiektowe)) tej klasy. Metody statyczne z reguły służą do obsługi składowych statycznych klas.\n",
    "> ###### Właściwości\n",
    "> * W ciele metody statycznej, z racji tego iż nie jest wywoływana na rzecz konkretnego obiektu, nie można odwoływać się do składowych niestatycznych. Nie można więc użyć wskaźnika `self`.\n",
    "> * Metoda statyczna może wywołać jedynie inne metody statyczne w swojej klasie lub odwoływać się jedynie do [pól (zmiennych) statycznych](https://pl.wikipedia.org/wiki/Zmienna_statyczna) w swojej klasie. Dostęp do pól i metod obiektów przekazywanych jako parametry czy też obiektów i funkcji globalnych następuje tak samo jak w zwykłej funkcji. <!--, jednak w przypadku obiektów własnej klasy ma dostęp do składowych prywatnych.-->\n",
    "<!-- > * Metoda statyczna nie może być metodą wirtualną. -->"
   ]
  },
  {
   "cell_type": "markdown",
   "metadata": {},
   "source": [
    "> ##### `@staticmethod`\n",
    "> Przekształca metodę w metodę statyczną.\n",
    "> \n",
    "> Metoda statyczna nie otrzymuje niejawnego pierwszego argumentu. Aby zadeklarować metodę statyczną, użyj tego idiomu:\n",
    ">\n",
    "> ```python\n",
    "> class C:\n",
    ">     @staticmethod\n",
    ">     def f(arg1, arg2, ...): ...\n",
    "> ```\n",
    ">\n",
    "> Metodę statyczną można wywołać w klasie (na przykład `C.f()`) lub w instancji (na przykład `C().f()`)."
   ]
  },
  {
   "cell_type": "markdown",
   "metadata": {},
   "source": [
    "> ##### `@classmethod`\n",
    "> Przekształca metodę w metodę klasy.\n",
    "> \n",
    "> Metoda klasy otrzymuje klasę jako niejawny pierwszy argument, tak jak metoda instancji otrzymuje instancję. Aby zadeklarować metodę klasy, użyj tego idiomu:\n",
    "> ```python\n",
    "> class C:\n",
    ">     @classmethod\n",
    ">     def f(cls, arg1, arg2, ...): ...\n",
    "> ```\n",
    "> \n",
    "> Metodę klasy można wywołać w klasie (na przykład `C.f()`) lub w instancji (na przykład `C().f()`). Instancja jest ignorowana z wyjątkiem swojej klasy. Jeśli metoda klasy jest wywoływana dla klasy pochodnej, obiekt klasy pochodnej jest przekazywany jako niejawny pierwszy argument."
   ]
  },
  {
   "cell_type": "code",
   "execution_count": 11,
   "metadata": {},
   "outputs": [],
   "source": [
    "class CountedObject:\n",
    "    __count = 0   # Statyczna skladowa\n",
    "\n",
    "    def __init__(self):\n",
    "        CountedObject.__count += 1\n",
    "\n",
    "    @staticmethod\n",
    "    def staticGetCount():\n",
    "        return CountedObject.__count\n",
    "\n",
    "    @classmethod\n",
    "    def classGetCount(cls):\n",
    "        print(\"classGetCount wywoływana dla instancji\", cls)\n",
    "        return cls.__count"
   ]
  },
  {
   "cell_type": "markdown",
   "metadata": {},
   "source": [
    "Działanie:"
   ]
  },
  {
   "cell_type": "code",
   "execution_count": 12,
   "metadata": {},
   "outputs": [
    {
     "name": "stdout",
     "output_type": "stream",
     "text": [
      "Liczba obiektów: 0\n"
     ]
    }
   ],
   "source": [
    "print(\"Liczba obiektów:\", CountedObject.staticGetCount())"
   ]
  },
  {
   "cell_type": "code",
   "execution_count": 13,
   "metadata": {},
   "outputs": [
    {
     "name": "stdout",
     "output_type": "stream",
     "text": [
      "Tworzenie obiektów...\n"
     ]
    }
   ],
   "source": [
    "print(\"Tworzenie obiektów...\")"
   ]
  },
  {
   "cell_type": "code",
   "execution_count": 14,
   "metadata": {},
   "outputs": [],
   "source": [
    "c1 = CountedObject()"
   ]
  },
  {
   "cell_type": "code",
   "execution_count": 15,
   "metadata": {},
   "outputs": [],
   "source": [
    "c2 = CountedObject()"
   ]
  },
  {
   "cell_type": "code",
   "execution_count": 16,
   "metadata": {},
   "outputs": [],
   "source": [
    "cs = [CountedObject(), CountedObject()]"
   ]
  },
  {
   "cell_type": "code",
   "execution_count": 17,
   "metadata": {},
   "outputs": [
    {
     "name": "stdout",
     "output_type": "stream",
     "text": [
      "Liczba obiektów: 4\n"
     ]
    }
   ],
   "source": [
    "print(\"Liczba obiektów:\", CountedObject.staticGetCount())"
   ]
  },
  {
   "cell_type": "code",
   "execution_count": 18,
   "metadata": {},
   "outputs": [
    {
     "name": "stdout",
     "output_type": "stream",
     "text": [
      "classGetCount wywoływana dla instancji <class '__main__.CountedObject'>\n",
      "Liczba obiektów: 4\n"
     ]
    }
   ],
   "source": [
    "print(\"Liczba obiektów:\", CountedObject.classGetCount())"
   ]
  },
  {
   "cell_type": "markdown",
   "metadata": {},
   "source": [
    "#### Właściwości"
   ]
  },
  {
   "cell_type": "markdown",
   "metadata": {},
   "source": [
    "> ##### Hermetyzacja (enkapsulacja)\n",
    "> **Hermetyzacja** (kalk. „enkapsulacja”, w starszych pozycjach „kapsułkowanie”, od [ang](https://pl.wikipedia.org/wiki/J%C4%99zyk_angielski). *encapsulation*) – jedno z założeń [programowania obiektowego](https://pl.wikipedia.org/wiki/Programowanie_obiektowe). Hermetyzacja polega na ukrywaniu pewnych danych składowych lub [metod](https://pl.wikipedia.org/wiki/Metoda_(programowanie_obiektowe)) obiektów danej [klasy](https://pl.wikipedia.org/wiki/Klasa_(programowanie_obiektowe)) tak, aby były one dostępne tylko wybranym metodom/funkcjom, np.: metodom wewnętrznym danej klasy."
   ]
  },
  {
   "cell_type": "markdown",
   "metadata": {},
   "source": [
    "> ##### Właściwość\n",
    "> **Właściwość klasy** (ang. *class property*) – specjalny składnik [klas](https://pl.wikipedia.org/wiki/Klasa_(programowanie_obiektowe)), posiadający cechy [pola (atrybutu)](https://pl.wikipedia.org/wiki/Pole_(informatyka)) i [metody](https://pl.wikipedia.org/wiki/Metoda_(programowanie_obiektowe)). Właściwości są odczytywane i zapisywane tak jak pola, ale ich odczytywanie i zapisywanie zazwyczaj przebiega przez wywołanie metod. Łatwiej jest czytać i zapisywać pola, niż wywoływać metody, jednak wstawienie poprzez wywołanie metody pozwala na sprawdzanie poprawności danych, aktywowanie kodu aktualizacji (np. wyglądu GUI). Oznacza to, że właściwości są pośrednie między kodem (metody) a danymi ([pole/atrybut](https://pl.wikipedia.org/wiki/Pole_(informatyka))) klasy i zapewniają wyższy poziom [hermetyzacji (enkapsulacji)](https://pl.wikipedia.org/wiki/Hermetyzacja_(informatyka)) niż publiczne pola."
   ]
  },
  {
   "cell_type": "markdown",
   "metadata": {},
   "source": [
    "Właściwości (nie mylić z atrybutami!), zwane również jako gettery i settery, umożliwiają enkapsulację obiektu. Są odpowiednikiem metod dostępowych z innych języków programowania."
   ]
  },
  {
   "cell_type": "markdown",
   "metadata": {},
   "source": [
    "> ##### `class property(fget=None, fset=None, fdel=None, doc=None)`\n",
    "> Zwraca atrybut właściwości.\n",
    "> \n",
    "> *fget* to funkcja do pobierania wartości atrybutu. *fset* to funkcja do ustawiania wartości atrybutu. *fdel* to funkcja służąca do usuwania wartości atrybutu. *doc* tworzy docstring dla atrybutu.\n",
    "> \n",
    "> Typowym zastosowaniem jest zdefiniowanie zarządzanego atrybutu `x`:\n",
    "> \n",
    "> ```python\n",
    "> class C:\n",
    ">     def __init__(self):\n",
    ">         self._x = None\n",
    "> \n",
    ">     def getx(self):\n",
    ">         return self._x\n",
    "> \n",
    ">     def setx(self, value):\n",
    ">         self._x = value\n",
    "> \n",
    ">     def delx(self):\n",
    ">         del self._x\n",
    "> \n",
    ">     x = property(getx, setx, delx, \"Jestem właściwością „x”.\")\n",
    "> ```\n",
    "> \n",
    "> Jeśli *c* jest instancją *C*, `c.x` wywoła metodę pobierającą, `c.x = value` - ustawiającą, a `del c.x` - usuwającą."
   ]
  },
  {
   "cell_type": "code",
   "execution_count": 22,
   "metadata": {},
   "outputs": [],
   "source": [
    "class Rectangle:\n",
    "    def __init__(self):\n",
    "        self.width = 0\n",
    "        self.height = 0\n",
    "\n",
    "    def setSize(self, size):\n",
    "        self.width, self.height = size\n",
    "\n",
    "    def getSize(self):\n",
    "        return self.width, self.height\n",
    "\n",
    "    size = property(getSize, setSize)"
   ]
  },
  {
   "cell_type": "markdown",
   "metadata": {},
   "source": [
    "Przykład użycia:"
   ]
  },
  {
   "cell_type": "code",
   "execution_count": 23,
   "metadata": {},
   "outputs": [],
   "source": [
    "r = Rectangle()"
   ]
  },
  {
   "cell_type": "code",
   "execution_count": 24,
   "metadata": {},
   "outputs": [],
   "source": [
    "r.width = 10"
   ]
  },
  {
   "cell_type": "code",
   "execution_count": 25,
   "metadata": {},
   "outputs": [],
   "source": [
    "r.height = 20"
   ]
  },
  {
   "cell_type": "code",
   "execution_count": 26,
   "metadata": {},
   "outputs": [
    {
     "data": {
      "text/plain": [
       "(10, 20)"
      ]
     },
     "execution_count": 26,
     "metadata": {},
     "output_type": "execute_result"
    }
   ],
   "source": [
    "r.size"
   ]
  },
  {
   "cell_type": "code",
   "execution_count": 27,
   "metadata": {},
   "outputs": [],
   "source": [
    "r.size = 150, 100"
   ]
  },
  {
   "cell_type": "code",
   "execution_count": 29,
   "metadata": {},
   "outputs": [
    {
     "data": {
      "text/plain": [
       "100"
      ]
     },
     "execution_count": 29,
     "metadata": {},
     "output_type": "execute_result"
    }
   ],
   "source": [
    "r.height"
   ]
  },
  {
   "cell_type": "markdown",
   "metadata": {},
   "source": [
    "Istnieje możliwość definiowania właściwości typu \"read-only\". Poniżej przykład konta bankowego, w którym można odczytać stan konta, ale nie można go zmienić."
   ]
  },
  {
   "cell_type": "code",
   "execution_count": 19,
   "metadata": {},
   "outputs": [],
   "source": [
    "class BankAccount:\n",
    "    counter = 0\n",
    "    def __init__(self, owner, balance=0):\n",
    "        self.owner = owner\n",
    "        self.__balance = balance\n",
    "        BankAccount.counter += 1\n",
    "\n",
    "    def __getBalance(self):\n",
    "        return self.__balance\n",
    "\n",
    "    balance = property(__getBalance)"
   ]
  },
  {
   "cell_type": "markdown",
   "metadata": {},
   "source": [
    "Użycie:"
   ]
  },
  {
   "cell_type": "code",
   "execution_count": 20,
   "metadata": {},
   "outputs": [],
   "source": [
    "ba = BankAccount(\"jk\", 100)"
   ]
  },
  {
   "cell_type": "code",
   "execution_count": 21,
   "metadata": {},
   "outputs": [
    {
     "data": {
      "text/plain": [
       "100"
      ]
     },
     "execution_count": 21,
     "metadata": {},
     "output_type": "execute_result"
    }
   ],
   "source": [
    "ba.balance"
   ]
  },
  {
   "cell_type": "code",
   "execution_count": 22,
   "metadata": {
    "scrolled": true
   },
   "outputs": [
    {
     "ename": "AttributeError",
     "evalue": "can't set attribute",
     "output_type": "error",
     "traceback": [
      "\u001b[0;31m---------------------------------------------------------------------------\u001b[0m",
      "\u001b[0;31mAttributeError\u001b[0m                            Traceback (most recent call last)",
      "\u001b[0;32m<ipython-input-22-3476e4684dfa>\u001b[0m in \u001b[0;36m<module>\u001b[0;34m\u001b[0m\n\u001b[0;32m----> 1\u001b[0;31m \u001b[0mba\u001b[0m\u001b[0;34m.\u001b[0m\u001b[0mbalance\u001b[0m \u001b[0;34m=\u001b[0m \u001b[0;36m100\u001b[0m \u001b[0;31m# Błąd!\u001b[0m\u001b[0;34m\u001b[0m\u001b[0;34m\u001b[0m\u001b[0m\n\u001b[0m",
      "\u001b[0;31mAttributeError\u001b[0m: can't set attribute"
     ]
    }
   ],
   "source": [
    "ba.balance = 100 # Błąd!"
   ]
  },
  {
   "cell_type": "markdown",
   "metadata": {},
   "source": [
    "#### Atrybuty specjalne\n",
    "\n",
    "Instancje klas posiadają specjalne atrybuty, które opisują obiekty:"
   ]
  },
  {
   "cell_type": "code",
   "execution_count": 33,
   "metadata": {},
   "outputs": [],
   "source": [
    "ba = BankAccount(\"Kowalski\", 1000)"
   ]
  },
  {
   "cell_type": "code",
   "execution_count": 34,
   "metadata": {},
   "outputs": [
    {
     "data": {
      "text/plain": [
       "{'owner': 'Kowalski', '_BankAccount__balance': 1000}"
      ]
     },
     "execution_count": 34,
     "metadata": {},
     "output_type": "execute_result"
    }
   ],
   "source": [
    "ba.__dict__  # Słownik zdefiniowanych przez użytkownika atrybutów"
   ]
  },
  {
   "cell_type": "code",
   "execution_count": 35,
   "metadata": {},
   "outputs": [
    {
     "data": {
      "text/plain": [
       "'BankAccount'"
      ]
     },
     "execution_count": 35,
     "metadata": {},
     "output_type": "execute_result"
    }
   ],
   "source": [
    "ba.__class__.__name__  # Nazwa klasy"
   ]
  },
  {
   "cell_type": "markdown",
   "metadata": {
    "scrolled": true
   },
   "source": [
    "<!-- ba.withdraw.__name__  # Nazwa metody -->"
   ]
  },
  {
   "cell_type": "code",
   "execution_count": 37,
   "metadata": {},
   "outputs": [
    {
     "data": {
      "text/plain": [
       "['_BankAccount__balance',\n",
       " '_BankAccount__getBalance',\n",
       " '__class__',\n",
       " '__delattr__',\n",
       " '__dict__',\n",
       " '__dir__',\n",
       " '__doc__',\n",
       " '__eq__',\n",
       " '__format__',\n",
       " '__ge__',\n",
       " '__getattribute__',\n",
       " '__gt__',\n",
       " '__hash__',\n",
       " '__init__',\n",
       " '__init_subclass__',\n",
       " '__le__',\n",
       " '__lt__',\n",
       " '__module__',\n",
       " '__ne__',\n",
       " '__new__',\n",
       " '__reduce__',\n",
       " '__reduce_ex__',\n",
       " '__repr__',\n",
       " '__setattr__',\n",
       " '__sizeof__',\n",
       " '__str__',\n",
       " '__subclasshook__',\n",
       " '__weakref__',\n",
       " 'balance',\n",
       " 'counter',\n",
       " 'owner']"
      ]
     },
     "execution_count": 37,
     "metadata": {},
     "output_type": "execute_result"
    }
   ],
   "source": [
    "dir(ba)"
   ]
  },
  {
   "cell_type": "code",
   "execution_count": 36,
   "metadata": {},
   "outputs": [
    {
     "data": {
      "text/plain": [
       "['balance', 'counter', 'owner']"
      ]
     },
     "execution_count": 36,
     "metadata": {},
     "output_type": "execute_result"
    }
   ],
   "source": [
    "[attrib for attrib in dir(ba) if not attrib.startswith('_')] # Interfejs"
   ]
  },
  {
   "cell_type": "markdown",
   "metadata": {},
   "source": [
    "#### Metody specjalne"
   ]
  },
  {
   "cell_type": "markdown",
   "metadata": {},
   "source": [
    "> ##### Przeciążanie operatorów\n",
    "> **Przeciążanie operatorów** ([ang](https://pl.wikipedia.org/wiki/J%C4%99zyk_angielski). *operator overloading*) lub **przeładowanie operatorów** – polega na tym, że [operator](https://pl.wikipedia.org/wiki/Operator_(programowanie)) może mieć różne implementacje w zależności od typów użytych argumentów (operandów).\n",
    "> \n",
    "> Przeciążanie operatorów to typowy tzw. [lukier składniowy](https://pl.wikipedia.org/wiki/Lukier_sk%C5%82adniowy) (cecha składni języka, którą można wyeliminować przez proste przekształcenia składniowe, istniejąca jedynie dla wygody programisty). Potencjalnie znacznie poprawia czytelność kodu i umożliwia zdefiniowanie większej części [biblioteki standardowej](https://pl.wikipedia.org/wiki/Biblioteka_programistyczna) na poziomie języka, bez uciekania się do trików. Z drugiej strony, ta technika programistyczna może spowodować powstawanie niejasnych konstrukcji, gdzie operatory wykonują kompletnie różne czynności w zależności od ich operandów.\n",
    "> \n",
    "> Na przykład Pythonie, jeżeli:"
   ]
  },
  {
   "cell_type": "code",
   "execution_count": 43,
   "metadata": {},
   "outputs": [],
   "source": [
    "a = 1"
   ]
  },
  {
   "cell_type": "markdown",
   "metadata": {},
   "source": [
    "> To wyrażenie:"
   ]
  },
  {
   "cell_type": "code",
   "execution_count": 44,
   "metadata": {},
   "outputs": [
    {
     "data": {
      "text/plain": [
       "2"
      ]
     },
     "execution_count": 44,
     "metadata": {},
     "output_type": "execute_result"
    }
   ],
   "source": [
    "a * 2"
   ]
  },
  {
   "cell_type": "markdown",
   "metadata": {},
   "source": [
    "> Normalnie oznacza przemnożenie liczby o `2`.\n",
    "> \n",
    "> Ale, jeśli:"
   ]
  },
  {
   "cell_type": "code",
   "execution_count": 47,
   "metadata": {},
   "outputs": [],
   "source": [
    "a = 'a'"
   ]
  },
  {
   "cell_type": "markdown",
   "metadata": {},
   "source": [
    "> To:"
   ]
  },
  {
   "cell_type": "code",
   "execution_count": 48,
   "metadata": {},
   "outputs": [
    {
     "data": {
      "text/plain": [
       "'aa'"
      ]
     },
     "execution_count": 48,
     "metadata": {},
     "output_type": "execute_result"
    }
   ],
   "source": [
    "a * 2"
   ]
  },
  {
   "cell_type": "markdown",
   "metadata": {},
   "source": [
    "> Oznacza to podwojenie `'a'`.\n",
    "> \n",
    "> A jak interpretować ten fragment gdy `a` jest jeszcze czymś innym?\n",
    "> \n",
    "> Z tego powodu zalecane jest, aby przeciążać tylko te operatory, których znaczenia łatwo się domyślić, gdyż mają swój odpowiednik w matematyce, fizyce itp."
   ]
  },
  {
   "cell_type": "markdown",
   "metadata": {},
   "source": [
    "Klasy umożliwiają przeładowywanie (przeciążanie) operatorów (podobnie jak w C++). Jest to możliwe dzięki specjalnym metodom, które można zaimplementować w klasie. Poniżej przykład klasy `Special`, w której zdefiniowano kilka metod specjalnych."
   ]
  },
  {
   "cell_type": "code",
   "execution_count": 41,
   "metadata": {},
   "outputs": [],
   "source": [
    "class Special:\n",
    "    def __init__(self, *args, **kwargs):\n",
    "        pass\n",
    "        # konstruktor\n",
    "\n",
    "    def __del__(self):\n",
    "        pass\n",
    "        # Destruktor – rzadko wykorzystywany\n",
    "\n",
    "    def __str__(self):\n",
    "        pass\n",
    "        # Reprezentacja znakowa; wywoływana przez print i str\n",
    "\n",
    "    def __repr__(self):\n",
    "        pass\n",
    "        # Reprezentacja znakowa; wywoływana przez repr\n",
    "        # eval(repr(a)) powinno być równe a\n",
    "\n",
    "    def __getitem__(self, i):\n",
    "        pass\n",
    "        # Indeksacja dla obiektu: b = a[i]\n",
    "\n",
    "    def __setitem__(self, i, v):\n",
    "        pass\n",
    "        # Przypisanie z wykorzystaniem indeksacji: a[i] = v\n",
    "\n",
    "    def __len__(self):\n",
    "        pass\n",
    "        # Wywoływane przez len(a);  Funkcja powinna zwrócić\n",
    "        # długość obiektu (o ile ma to uzasadnienie)\n",
    "\n",
    "    def __eq__(self, x):\n",
    "        pass\n",
    "        # Test self == x; zwraca True lub False\n",
    "\n",
    "    def __add__(self, b):\n",
    "        pass\n",
    "        # Definiuje self + b\n",
    "\n",
    "    def __sub__(self, b):\n",
    "        pass\n",
    "        # Definiuje self – b\n",
    "\n",
    "    def __mul__(self, b):\n",
    "        pass\n",
    "        # Definiuje self * b\n",
    "\n",
    "    def __div__(self, b):\n",
    "        pass\n",
    "        # Definiuje self / b\n",
    "\n",
    "    def __pow__(self, b):\n",
    "        pass\n",
    "        # Definiuje self ** b"
   ]
  },
  {
   "cell_type": "code",
   "execution_count": null,
   "metadata": {},
   "outputs": [],
   "source": []
  }
 ],
 "metadata": {
  "kernelspec": {
   "display_name": "Python 3",
   "language": "python",
   "name": "python3"
  },
  "language_info": {
   "codemirror_mode": {
    "name": "ipython",
    "version": 3
   },
   "file_extension": ".py",
   "mimetype": "text/x-python",
   "name": "python",
   "nbconvert_exporter": "python",
   "pygments_lexer": "ipython3",
   "version": "3.8.2"
  }
 },
 "nbformat": 4,
 "nbformat_minor": 4
}
