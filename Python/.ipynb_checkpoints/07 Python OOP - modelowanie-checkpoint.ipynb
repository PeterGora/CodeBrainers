{
 "cells": [
  {
   "cell_type": "markdown",
   "metadata": {},
   "source": [
    "![](data:image/jpeg;base64,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)"
   ]
  },
  {
   "cell_type": "markdown",
   "metadata": {},
   "source": [
    "# Python Object-Oriented Programming (OOP)\n",
    "\n",
    "_Mikołaj Leszczuk_"
   ]
  },
  {
   "cell_type": "markdown",
   "metadata": {},
   "source": [
    "## Modelowanie\n",
    "\n",
    "![](https://pics.awwmemes.com/its-only-a-model-memegenerator-net-its-only-a-model-52664171.png)"
   ]
  },
  {
   "cell_type": "markdown",
   "metadata": {},
   "source": [
    "### Zadanie - zaimplementuj zwięrzątko Tamagotchi\n",
    "\n",
    "[Tamagotchi](https://pl.wikipedia.org/wiki/Tamagotchi) to mała, elektroniczna zabawka pozwalająca \"opiekować się\" zwierzakiem. Tamagotchi wymaga karmienia, zabawy, czy sprzątania po nim.\n",
    "\n",
    "Zasady Tamagotchi:\n",
    "\n",
    "1. humor określa się na podstawie licznika głodu i znudzenia; dopóki głód jest poniżej określonego poziomu, i dopóki znudzenie jest poniżej określonego poziomu, dopóty Tamagotchi jest szczęśliwy\n",
    "1. karmienie zmniejsza poziom głodu o określoną liczbę punktów\n",
    "1. nauka nowych słówek lub przywitanie się z Tamagotchi zmniejsza poziom znudzenia o określoną liczbę punktów\n",
    "1. znane słówka są listą wyrażeń, które Tamagotchi może wypowiedzieć (np. \"Mmmmrrp\" albo \"Hrrp\")\n",
    "1. można wywołać metodę, która odpowiada \"tyknięciu\" zegara - w jej wyniku nuda i głód rosną o jedną jednostkę\n",
    "\n",
    "Implementacja Tamagotchi:\n",
    "\n",
    "1. pola klasy: `imie`, `prog_nudy`, `prog_glodu`, `malenie_nudy`, `malenie_glodu`, `poziom_nudy`, `poziom_glodu`, `slowa` (lista)\n",
    "1. metoda `humor()` musi zwracać, na podstawie `prog_nudy`, `prog_glodu`, `poziom_nudy` i `poziom_glodu`, czy Tamagotchi jest szczęśliwy, głodny lub znudzony\n",
    "1. metoda `__str__()` musi zwracać imię Tamagotchi i jego humor (np. \"Jestem Tobi. Czuję się szczęśliwy.\")\n",
    "1. metoda `zegar()` musi zwiększać poziom znudzenia i głodu o jedną jednostkę\n",
    "1. metody `zmniejsz_glod()` i `zmniejsz_nude()` mają zmniejszać odpowiednio `poziom_glodu` i `poziom_nudy` o `malenie_glodu` i malenie_nudy; **uwaga**: oba poziomy nie mogą spaść poniżej zera\n",
    "1. metoda `przywitaj_sie()` musi wylosować element z listy `slowa`, zmniejszyć nudę i wypisać na ekranie \"{Imię} mówi {słowo}.\"\n",
    "1. metoda `naucz_slowo(slowo)` dodaje słowo do listy `slowa` i zmniejsza nudę\n",
    "1. metoda `karm()` zmniejsza głód\n",
    "1. metody `karm()`, `naucz_slowo()`, `przywitaj_sie()` oraz `__str__()` wywołują `zegar()`.\n",
    "\n",
    "Do losowania elementu z listy `slowa` użyj funkcji `random.choice`.\n",
    "\n",
    "Za wartości początkowe możesz przyjąć:\n",
    "\n",
    "| Pole            | Wartość               |\n",
    "|-----------------|-----------------------|\n",
    "| `prog_nudy`     | 5                     |\n",
    "| `prog_glodu`    | 10                    |\n",
    "| `malenie_nudy`  | 4                     |\n",
    "| `malenie_glodu` | 6                     |\n",
    "| `słowa`         | `[\"Mmmmrrp\", \"Hrrp\"]` |"
   ]
  },
  {
   "cell_type": "markdown",
   "metadata": {},
   "source": [
    "### Rozwiązanie - zaimplementuj zwięrzątko Tamagotchi"
   ]
  },
  {
   "cell_type": "code",
   "execution_count": 1,
   "metadata": {},
   "outputs": [],
   "source": [
    "import random\n",
    "\n",
    "\n",
    "class Tamagotchi:\n",
    "    prog_nudy = 5\n",
    "    prog_glodu = 10\n",
    "    malenie_nudy = 4\n",
    "    malenie_glodu = 6\n",
    "\n",
    "    def __init__(self, imie):\n",
    "        self.imie = imie\n",
    "        self.slowa = [\"Mmmmrrp\", \"Hrrp\"]\n",
    "        self.poziom_glodu = 0\n",
    "        self.poziom_nudy = 0\n",
    "\n",
    "    def humor(self):\n",
    "        if self.poziom_glodu > self.prog_glodu:\n",
    "            return \"głodny\"\n",
    "        elif self.poziom_nudy > self.prog_nudy:\n",
    "            return \"znudzony\"\n",
    "        else:\n",
    "            return \"szczęśliwy\"\n",
    "\n",
    "    def __str__(self):\n",
    "        # kolejność jest ważna!\n",
    "        # ponieważ self.zegar() może zmienić stan (głodny/znudzony) zwierzaka,\n",
    "        # dlatego fajnie jeśli ten stan wyświetlimy\n",
    "        self.zegar()\n",
    "        return \"Jestem {}. Czuję się {}.\".format(self.imie, self.humor())\n",
    "\n",
    "    def zegar(self):\n",
    "        self.poziom_glodu += 1\n",
    "        self.poziom_nudy += 1\n",
    "\n",
    "    def zmniejsz_glod(self):\n",
    "        self.poziom_glodu -= self.malenie_glodu\n",
    "        if self.poziom_glodu < 0:\n",
    "            self.poziom_glodu = 0\n",
    "\n",
    "    def zmniejsz_nude(self):\n",
    "        self.poziom_nudy -= self.malenie_nudy\n",
    "        if self.poziom_nudy < 0:\n",
    "            self.poziom_nudy = 0\n",
    "\n",
    "    def przywitaj_sie(self):\n",
    "        slowo = random.choice(self.slowa)\n",
    "        print(\"{} mówi {}.\".format(self.imie, slowo))\n",
    "        self.zmniejsz_nude()\n",
    "        self.zegar()\n",
    "\n",
    "    def naucz_slowo(self, slowo):\n",
    "        self.slowa.append(slowo)\n",
    "        self.zmniejsz_nude()\n",
    "        self.zegar()\n",
    "\n",
    "    def karm(self):\n",
    "        self.zmniejsz_glod()\n",
    "        self.zegar()"
   ]
  },
  {
   "cell_type": "code",
   "execution_count": null,
   "metadata": {},
   "outputs": [],
   "source": []
  }
 ],
 "metadata": {
  "kernelspec": {
   "display_name": "Python 3",
   "language": "python",
   "name": "python3"
  },
  "language_info": {
   "codemirror_mode": {
    "name": "ipython",
    "version": 3
   },
   "file_extension": ".py",
   "mimetype": "text/x-python",
   "name": "python",
   "nbconvert_exporter": "python",
   "pygments_lexer": "ipython3",
   "version": "3.8.2"
  }
 },
 "nbformat": 4,
 "nbformat_minor": 4
}
