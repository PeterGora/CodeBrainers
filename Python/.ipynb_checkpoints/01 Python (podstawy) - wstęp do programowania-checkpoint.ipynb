{
 "cells": [
  {
   "cell_type": "markdown",
   "metadata": {},
   "source": [
    "![](data:image/jpeg;base64,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)"
   ]
  },
  {
   "cell_type": "markdown",
   "metadata": {},
   "source": [
    "# Python (podstawy) - wstęp do programowania"
   ]
  },
  {
   "cell_type": "markdown",
   "metadata": {},
   "source": [
    "_Mikołaj Leszczuk_"
   ]
  },
  {
   "cell_type": "markdown",
   "metadata": {},
   "source": [
    "![](https://www.ikaria.pl/wp-content/uploads/2020/05/042_full.jpg)"
   ]
  },
  {
   "cell_type": "markdown",
   "metadata": {},
   "source": [
    "## Wyjaśnienie podstawowych pojęć"
   ]
  },
  {
   "cell_type": "markdown",
   "metadata": {},
   "source": [
    "### Wielo..."
   ]
  },
  {
   "cell_type": "markdown",
   "metadata": {},
   "source": [
    "* Wielozadaniowość\n",
    "* Wielowątkowość\n",
    "* Wielodostęp"
   ]
  },
  {
   "cell_type": "markdown",
   "metadata": {},
   "source": [
    "#### Wielozadaniowość"
   ]
  },
  {
   "cell_type": "markdown",
   "metadata": {},
   "source": [
    "* **Ang. _multitasking_**\n",
    "* Cecha **systemu operacyjnego** umożliwiająca równoczesne wykonywanie więcej niż jednego **procesu** (programu)\n",
    "* Zwykle poprawna realizacja wielozadaniowości to odpowiedzialność **jądra systemu operacyjnego**\n",
    "\n",
    "![Możliwości wielozadaniowości systemu Microsoft Windows 1.01 wydanego w 1985 roku, tutaj pokazano działanie programów MS-DOS Executive i Calculator](https://upload.wikimedia.org/wikipedia/en/7/71/Microsoft_Windows_1.01_multitasking.png \"Możliwości wielozadaniowości systemu Microsoft Windows 1.01 wydanego w 1985 roku, tutaj pokazano działanie programów MS-DOS Executive i Calculator\")\n",
    "\n",
    "![Nowoczesne systemy operacyjne dla komputerów stacjonarnych mogą jednocześnie obsługiwać dużą liczbę różnych procesów. Ten zrzut ekranu pokazuje Linux Mint działający jednocześnie w środowisku graficznym Xfce, Firefoksie, programie kalkulacyjnym, wbudowanym kalendarzu, Vim, GIMP i odtwarzaczu multimedialnym VLC.](https://upload.wikimedia.org/wikipedia/commons/4/41/Desktop-Linux-Mint.png \"Nowoczesne systemy operacyjne dla komputerów stacjonarnych mogą jednocześnie obsługiwać dużą liczbę różnych procesów. Ten zrzut ekranu pokazuje Linux Mint działający jednocześnie w środowisku graficznym Xfce, Firefoksie, programie kalkulacyjnym, wbudowanym kalendarzu, Vim, GIMP i odtwarzaczu multimedialnym VLC.\")"
   ]
  },
  {
   "cell_type": "markdown",
   "metadata": {},
   "source": [
    "#### Wielowątkowość\n",
    "\n",
    "* **Ang. _multithreading_**\n",
    "* Cecha **systemu operacyjnego**, dzięki której w ramach jednego **procesu** może być wykonywanych kilka **zadań** nazywanych **wątkami**\n",
    "* Nowe zadania to kolejne ciągi instrukcji realizowane do pewnego stopnia niezależnie\n",
    "* Wszystkie wątki (zadania) w ramach tego samego procesu współdzielą tą samą wirtualną przestrzeń adresową zawierającą:\n",
    "  * Kod **programu**, i \n",
    "  * Jego **dane**\n",
    "\n",
    "![Proces z dwoma wątkami wykonywania, działający na jednym procesorze](https://upload.wikimedia.org/wikipedia/commons/a/a5/Multithreaded_process.svg \"Proces z dwoma wątkami wykonywania, działający na jednym procesorze\")"
   ]
  },
  {
   "cell_type": "markdown",
   "metadata": {},
   "source": [
    "#### Wielodostęp"
   ]
  },
  {
   "cell_type": "markdown",
   "metadata": {},
   "source": [
    "* W kontekście informatyki technicznej - zapewnienie możliwości jednoczesnej pracy wielu użytkowników za pomocą wielu terminali"
   ]
  },
  {
   "cell_type": "markdown",
   "metadata": {},
   "source": [
    "## Urządzenia wejścia-wyjścia (we-wy, we/wy, I/O)"
   ]
  },
  {
   "cell_type": "markdown",
   "metadata": {},
   "source": [
    "* Urządzenie do komunikacji **systemu komputerowego** z:\n",
    "  * **Jego użytkownikiem**\n",
    "  * Innym systemem **przetwarzania danych**\n",
    "* Często służące do zamiany wielkości fizycznych na dane przetwarzane przez system lub odwrotnie\n",
    "* Na przykład:\n",
    "  * **Mysz komputerowa** przetwarzająca prędkość ruchu po powierzchni \n",
    "  * Odbiornik **GPS** przetwarzający aktualne położenie geograficzne\n",
    "  * **Monitor komputera** przetwarzający dane komputerowe na obraz przedstawiany na **wyświetlaczu**\n",
    "* Wszystkie urządzenia wejścia-wyjścia wyposażone w **interfejs**, pozwalający na:\n",
    "  * Komunikację z systemem\n",
    "  * Jednoznaczne adresowanie urządzenia \n",
    "* Interfejs charakteryzowany przez odpowiednią specyfikację elektryczna i logiczna, pozwalającą na komunikację z dołączonym systemem\n",
    "* Najpopularniejsze interfejsy urządzeń wejścia-wyjścia to:\n",
    "  * Aktualnie: **USB**, **PCI Express**, **SATA**\n",
    "  * Dawniej: **RS-232**, **IDE**\n",
    "* Obsługa urządzenia wejścia-wyjścia realizowana przez podłączony system:\n",
    "    * Przetwarzanie otrzymanych danych\n",
    "    * Wysyłanie odpowiednio przetworzone dane do urządzenia wejścia-wyjścia\n",
    "* Funkcjonalność takiego urządzenia silnie uzależniona od aplikacji działającej w systemie, obsługującej dane urządzenie\n",
    "* Przykładowo - obsługa tabletu graficznego przez komputer:\n",
    "  * Podstawowa: funkcjonalność myszy komputerowej\n",
    "    * Specjalizowana:\n",
    "      * Rozpoznawanie siły nacisku\n",
    "      * Dobieranie grubości kreski rysowanej w programie graficznym\n",
    "      \n",
    "![](https://www.ikaria.pl/wp-content/uploads/2020/05/014_full.jpg)"
   ]
  },
  {
   "cell_type": "markdown",
   "metadata": {},
   "source": [
    "## Klasyfikacja języków programowania"
   ]
  },
  {
   "cell_type": "markdown",
   "metadata": {},
   "source": [
    "### Podział języków programowania ze względu na…"
   ]
  },
  {
   "cell_type": "markdown",
   "metadata": {},
   "source": [
    "* **Paradygmat programowania**\n",
    "* Generację języka programowania\n",
    "* Sposób kontroli typów\n",
    "* Sposób wykonywania (**kompilacja**, **interpretacja**) / poziom (**języki niskiego poziomu** są bardziej zbliżone pod względem budowy do działania sprzętu, **języki wysokiego poziomu** są mniej zbliżone pod względem budowy do działania sprzętu)\n",
    "* Przeznaczenie"
   ]
  },
  {
   "cell_type": "markdown",
   "metadata": {},
   "source": [
    "### Paradygmat programowania (ang. _programming paradigm_)"
   ]
  },
  {
   "cell_type": "markdown",
   "metadata": {},
   "source": [
    "* Wzorzec **programowania komputerów**:\n",
    "  * Przedkładany w danym okresie rozwoju informatyki ponad inne, lub \n",
    "  * Ceniony w pewnych:\n",
    "    * Okolicznościach, lub \n",
    "    * Zastosowaniach\n",
    "* Przykłady wspierania paradygmatów programowania przez różne **języki programowania**:\n",
    "  * **Paradygmat programowania obiektowego - Smalltalk, Java**\n",
    "  * **Paradygmat programowania funkcyjnego - Haskell**\n",
    "  * **Wiele paradygmatów - Common Lisp, Python**"
   ]
  },
  {
   "cell_type": "markdown",
   "metadata": {},
   "source": [
    "### Kompilacja vs. interpretacja / poziom języka programowania"
   ]
  },
  {
   "cell_type": "markdown",
   "metadata": {},
   "source": [
    "#### Kompilator"
   ]
  },
  {
   "cell_type": "markdown",
   "metadata": {},
   "source": [
    "* **Program** służący do automatycznego tłumaczenia (kompilacji): \n",
    "  * Kodu napisanego w jednym języku (**_języku źródłowym_**)\n",
    "  * Na równoważny kod w innym języku (**_języku wynikowym_**)\n",
    "* W informatyce najczęściej tłumaczenie **kodu źródłowego** w **języku programowania** na **język maszynowy**"
   ]
  },
  {
   "cell_type": "markdown",
   "metadata": {},
   "source": [
    "#### Interpreter"
   ]
  },
  {
   "cell_type": "markdown",
   "metadata": {},
   "source": [
    "* **Program komputerowy** wykonujący inne programy:\n",
    "  * Analizując **kod źródłowy** programu\n",
    "  * A przeanalizowane fragmenty - wykonując\n",
    "*  Kluczowy element znacznej części implementacji:\n",
    "  * **Języków skryptowych**, oraz\n",
    "  * Języków kompilowanych do **kodu bajtowego**\n",
    "* Wykonywanie programu - wolniejsze"
   ]
  },
  {
   "cell_type": "markdown",
   "metadata": {},
   "source": [
    "#### Język niskiego poziomu (ang. _low-level programming language_)"
   ]
  },
  {
   "cell_type": "markdown",
   "metadata": {},
   "source": [
    "* **Język programowania**, w którym jedna operacja elementarna to najczęściej jedna operacja elementarna rzeczywistego procesora\n",
    "* W języku niskiego poziomu używa się stosunkowo prostych wyrażeń symbolicznych, odpowiadających zestawowi **rozkazów maszynowych**"
   ]
  },
  {
   "cell_type": "markdown",
   "metadata": {},
   "source": [
    "#### Język wysokiego poziomu (ang. _high-level programming language_)"
   ]
  },
  {
   "cell_type": "markdown",
   "metadata": {},
   "source": [
    "* Typ **języka programowania**, o składni i słowach kluczowych mających maksymalnie ułatwić rozumienie kodu programu przez człowieka, tym samym:\n",
    "  * Zwiększając poziom abstrakcji\n",
    "  * Dystansując się od sprzętowych niuansów\n",
    "* Większość z nich można zaliczyć do języków uniwersalnych, służących do rozwiązywania szerokiego zakresu problemów"
   ]
  },
  {
   "cell_type": "markdown",
   "metadata": {},
   "source": [
    "#### Cykl maszynowy"
   ]
  },
  {
   "cell_type": "markdown",
   "metadata": {},
   "source": [
    "* Cykl wymiany danych między **procesorem** a **pamięcią** lub układem wejścia wyjścia:\n",
    "  * Odczyt\n",
    "  * Zapis\n",
    "* W każdym cyklu maszynowym - wysłanie:\n",
    "  * Adresu na **magistralę** adresową\n",
    "  * Danych na magistralę danych\n",
    "  * Sygnałów sterujących, informujących o rodzaju cyklu, na magistralę sterującą"
   ]
  },
  {
   "cell_type": "markdown",
   "metadata": {},
   "source": [
    "#### Język (kod) maszynowy"
   ]
  },
  {
   "cell_type": "markdown",
   "metadata": {},
   "source": [
    "* **Zestaw rozkazów procesora**, w którym zapis **programu** wyrażany w postaci **liczb binarnych** stanowiących:\n",
    "  * **Rozkazy**, oraz ich \n",
    "  * **Argumenty**\n",
    "* Kod maszynowy generowany w procesie:\n",
    "  * **Kompilacji** (w przypadku **języków wysokiego poziomu**), lub \n",
    "  * **Asemblacji** (w przypadku **języków niskiego poziomu**)\n",
    "  \n",
    "![Przykład kodu maszynowego (kolumna druga rozpoczynająca się od 6C 36 00) uwidocznionego za pomocą monitora kodu maszynowego](https://upload.wikimedia.org/wikipedia/commons/4/4d/Apple_II_Monitor.png \"Przykład kodu maszynowego (kolumna druga rozpoczynająca się od 6C 36 00) uwidocznionego za pomocą monitora kodu maszynowego\")"
   ]
  },
  {
   "cell_type": "markdown",
   "metadata": {},
   "source": [
    "#### Instrukcja kodu maszynowego (podprogram wewnętrzny)"
   ]
  },
  {
   "cell_type": "markdown",
   "metadata": {},
   "source": [
    "* **Instrukcja** (lub inna konstrukcja **semantyczna** języka):\n",
    "  * Zdefiniowana w składni określonego **języka programowania**,\n",
    "  * Umożliwiająca **programowanie** fragmentów **kodu źródłowego** w **języku maszynowym** danego **komputera**\n",
    "* **Stosowanie podprogramów wewnętrznych**\n",
    "  * Specjalna instrukcja wprowadzona, przez **autorów** niektórych **implementacji** języków wysokiego poziomu, w celu umożliwienia **programowania hybrydowego**: dany język wysokiego poziomu – język maszynowy\n",
    "  * Sposób programowania stosowany przede wszystkim, w celu optymalizacji **kodu wynikowego**, szczególnie pod kątem wybranych fragmentów, mających istotny wpływ na wydajność wygenerowanego **programu**\n",
    "  * Ponadto umożliwienie **programiście** korzystanie z pewnych specyficznych **cech** konkretnego **systemu komputerowego**"
   ]
  },
  {
   "cell_type": "markdown",
   "metadata": {},
   "source": [
    "#### Język skryptowy"
   ]
  },
  {
   "cell_type": "markdown",
   "metadata": {},
   "source": [
    "* **Język programowania** obsługujący skrypty\n",
    "* Często służący do kontrolowania określonej **aplikacji** \n",
    "* **Skrypty** - programy:\n",
    "  * Napisane w językach skryptowych\n",
    "  * Przeznaczone do wykonywania w specjalnych **środowiskach uruchomieniowych** automatyzujących wykonywanie zadań, alternatywnie wykonywalnych jedno po drugim przez użytkownika\n",
    "* Języki skryptowe to najczęściej **języki interpretowane**, zaprojektowane z myślą o **interakcji** z użytkownikiem\n",
    "* Niejednokrotnie wysokie skomplikowanie poleceń używanych w skryptach – na przykład w systemach operacyjnych **UNIX**, w języku skryptowym **sh** większość poleceń to tak naprawdę samodzielne programy\n",
    "* Skrypty często używane do jednorazowych zadań, na przykład administracyjnych"
   ]
  },
  {
   "cell_type": "markdown",
   "metadata": {},
   "source": [
    "### Zastosowania (przeznaczenie) języków programowania"
   ]
  },
  {
   "cell_type": "markdown",
   "metadata": {},
   "source": [
    "* Aplikacje webowe: PHP, Python, Java, Ruby, JavaScript\n",
    "* Aplikacje desktopowe: C#, Java, Python, Swift\n",
    "* Aplikacje mobilne: Kotlin, Java, Swift\n",
    "* Gry: C, C++, C#, PHP, JavaScript, Java\n",
    "* Data science: R, Python\n",
    "* Systemy wbudowane: Python, C, C++"
   ]
  },
  {
   "cell_type": "markdown",
   "metadata": {},
   "source": [
    "### Pojęcie składni, semantyki"
   ]
  },
  {
   "cell_type": "markdown",
   "metadata": {},
   "source": [
    "#### Składnia języka programowania"
   ]
  },
  {
   "cell_type": "markdown",
   "metadata": {},
   "source": [
    "* Pewne reguły, jakie musi spełnić dany ciąg znaków, aby mógł być rozpoznany, jako program napisany w danym języku\n",
    "* Opis składni:\n",
    "  * Rodzaje dostępnych symboli\n",
    "  * Zasady, według których symbole mogą być łączone w większe struktury\n",
    "* Składnia najczęściej opisywana w formalnym zapisie\n",
    "\n",
    "![](https://upload.wikimedia.org/wikipedia/en/c/c3/Python_add5_syntax.png)"
   ]
  },
  {
   "cell_type": "markdown",
   "metadata": {},
   "source": [
    "#### Semantyka języka programowania"
   ]
  },
  {
   "cell_type": "markdown",
   "metadata": {},
   "source": [
    "* Precyzyjna definicja:\n",
    "  * Znaczenia poszczególnych symboli, oraz\n",
    "  * Ich funkcji w programie\n",
    "* Najczęściej definiowana słownie, ponieważ większość z jej zagadnień trudna lub wręcz niemożliwa do ujęcia w jakikolwiek formalizm\n",
    "* Część błędów semantycznych możliwa do wychwycenia już w momencie wstępnego przetwarzania kodu programu, np. próba odwołania się do nieistniejącej funkcji\n",
    "* Lecz inne ujawniające się dopiero w trakcie wykonywania"
   ]
  },
  {
   "cell_type": "markdown",
   "metadata": {},
   "source": [
    "## Algorytmy"
   ]
  },
  {
   "cell_type": "markdown",
   "metadata": {},
   "source": [
    "### Algorytm"
   ]
  },
  {
   "cell_type": "markdown",
   "metadata": {},
   "source": [
    "* Od **łacińskiego** słowa **_algorithmus_**\n",
    "* Skończony ciąg jasno zdefiniowanych czynności koniecznych do wykonania pewnego rodzaju zadań\n",
    "* Sposób postępowania prowadzący do rozwiązania problemu\n",
    "* Można go przedstawić na **schemacie blokowym**\n",
    "\n",
    "![Diagram Ady Lovelace z „notatki G”, pierwszego opublikowanego algorytmu komputerowego](https://upload.wikimedia.org/wikipedia/commons/c/cf/Diagram_for_the_computation_of_Bernoulli_numbers.jpg \"Diagram Ady Lovelace z „notatki G”, pierwszego opublikowanego algorytmu komputerowego\")"
   ]
  },
  {
   "cell_type": "markdown",
   "metadata": {},
   "source": [
    "### Pseudokod i jego implementacja"
   ]
  },
  {
   "cell_type": "markdown",
   "metadata": {},
   "source": [
    "* Sposób zapisu algorytmu:\n",
    "  * Zachowujący strukturę charakterystyczną dla kodu zapisanego w języku programowania\n",
    "  * Rezygnujący ze ścisłych reguł składniowych na rzecz prostoty i czytelności\n",
    "* Brak szczegółów implementacyjnych (inicjalizacja zmiennych, alokacja pamięci)\n",
    "* Często też opuszczanie w nim opisu działania pod-procedur (gdy oczywiste)\n",
    "* Nietrywialne kroki opisywane z pomocą matematyki lub języka naturalnego\n",
    "\n",
    "**`jeżeli`**` numer karty kredytowej jest ważny `**`to`**\\\n",
    "` ` ` ` `wykonanie transakcji w oparciu o numer karty i zamówienie`\\\n",
    "**`w przeciwnym razie`**\\\n",
    "` ` ` ` `wyświetlenie wiadomości o niepowodzeniu`\\\n",
    "**`koniec warunku`**\n",
    "\n",
    "![](https://www.ikaria.pl/wp-content/uploads/2020/05/025_full.jpg)"
   ]
  },
  {
   "cell_type": "markdown",
   "metadata": {},
   "source": [
    "### Algorytm (schemat) blokowy"
   ]
  },
  {
   "cell_type": "markdown",
   "metadata": {},
   "source": [
    "* Narzędzie służące do przedstawienia kolejnych czynności w projektowanym **algorytmie**\n",
    "* Diagram, na którym procedura, system lub program komputerowy - reprezentowane przez opisane figury geometryczne połączone strzałkami (niekiedy tylko liniami) zgodnie z kolejnością wykonywania czynności wynikających z przyjętego algorytmu rozwiązania zadania\n",
    "\n",
    "![](https://upload.wikimedia.org/wikipedia/commons/6/68/LampFlowchart-pl.svg)\n",
    "\n",
    "![](https://www.ikaria.pl/wp-content/uploads/2020/05/002_full.jpg)"
   ]
  },
  {
   "cell_type": "markdown",
   "metadata": {},
   "source": [
    "### Podstawowe elementy budowy"
   ]
  },
  {
   "cell_type": "markdown",
   "metadata": {},
   "source": [
    "* **Strzałka** - wskazywanie:\n",
    "  * Powiązania,\n",
    "  * I ich kierunku (zwrotu)\n",
    "* **Operator** - prostokąt, z wpisanymi wszystkimi operacjami z wyjątkiem instrukcji wyboru\n",
    "* **Predykat** - romb, z wpisanymi wyłącznie instrukcjami wyboru\n",
    "* **Etykieta** - owal służący do oznaczania początku albo końca sekwencji schematu:\n",
    "  * Kończenie schematu\n",
    "  * Zaczynanie schematu\n",
    "  * Przerywanie schematu\n",
    "  * Przenoszenie schematu"
   ]
  },
  {
   "cell_type": "markdown",
   "metadata": {},
   "source": [
    "### Szczegóły budowy schematu"
   ]
  },
  {
   "cell_type": "markdown",
   "metadata": {},
   "source": [
    "* a) **blok graniczny**\n",
    "* b) **blok wejścia-wyjścia (I / O)**\n",
    "* c) **blok operacyjny (PROCES)**\n",
    "* d) **blok decyzyjny, warunkowy (DECYZJA)**\n",
    "* e) **blok wywołania podprogramu**\n",
    "* f) **blok fragmentu**\n",
    "* g) **blok komentarza**\n",
    "* h) **łącznik wewnętrzny**\n",
    "* i) **łącznik zewnętrzny**\n",
    "\n",
    "![](https://upload.wikimedia.org/wikipedia/commons/a/a5/Block_diagram_flowchart.png)"
   ]
  },
  {
   "cell_type": "markdown",
   "metadata": {},
   "source": [
    "## Pierwsze programy"
   ]
  },
  {
   "cell_type": "markdown",
   "metadata": {},
   "source": [
    "### Ćwiczenie - Dodaj 10 i 20"
   ]
  },
  {
   "cell_type": "markdown",
   "metadata": {},
   "source": [
    "Aby rozwiązać ten problem, weźmiemy zmienną sumę i ustawimy ją na zero. Następnie weźmiemy dwie liczby 10 i 20 jako dane wejściowe. Następnie dodamy obie liczby i zapiszemy wynik w zmiennej suma, czyli suma = 10 + 20. Na koniec wydrukujemy wartość przechowywaną w zmiennej sum.\n",
    "\n",
    "Algorytm:\n",
    "\n",
    "1. Inicjalizuj sumę = 0 (PROCES)\n",
    "1. Wprowadź liczby (I / O)\n",
    "1. Dodaj je i zapisz wynik w sumie (PROCES)\n",
    "1. Wydrukuj sumę (I / O)\n",
    "\n",
    "Odpowiedź (rozwiązanie) - schemat blokowy:\n",
    "\n",
    "![](https://dyclassroom.com/image/topic/flowchart/flowchart-ex1-q1.png)"
   ]
  },
  {
   "cell_type": "markdown",
   "metadata": {},
   "source": [
    "### Ćwiczenie - Znajdź sumę 5 liczb"
   ]
  },
  {
   "cell_type": "markdown",
   "metadata": {},
   "source": [
    "W tym pytaniu mamy znaleźć sumę 5 liczb. Tak więc weźmiemy dwie zmienne - sumę i zliczanie (count) i ustawimy obie na zero. Zmienna suma zapisze wynik, a zmienna count będzie śledzić, ile liczb przeczytaliśmy.\n",
    "\n",
    "Aby rozwiązać ten problem, użyjemy koncepcji pętli. W przypadku operacji pętlowych lub iteracyjnych niektóre kroki wykonujemy wielokrotnie, o ile dany warunek ma wartość PRAWDZIWĄ (TRUE). W tym przypadku będziemy czytać dane wejściowe, aż odczytamy 5 liczb.\n",
    "\n",
    "![](https://www.ikaria.pl/wp-content/uploads/2020/05/020_full.jpg)\n",
    "\n",
    "Więc najpierw inicjalizujemy sumę i liczymy do zera. Następnie weźmiemy dane wejściowe i zapiszemy je w zmiennej n. Następnie dodamy wartość przechowywaną w n do sumy i zapiszemy sumę odpowiedzi.\n",
    "\n",
    "czyli suma = suma + n\n",
    "\n",
    "Następnie zwiększymy liczbę o 1 i sprawdzimy, czy liczba jest mniejsza niż 5. Jeśli ten warunek jest PRAWDZIWY, weźmiemy kolejne dane wejściowe. Jeśli warunek jest NIEPRAWIDŁOWY (FALSE), wydrukujemy wartość przechowywaną jako suma zmiennej.\n",
    "\n",
    "Algorytm:\n",
    "\n",
    "1. Zainicjuj sumę = 0 i liczbę (count) = 0 (PROCES)\n",
    "1. Wpisz n (I / O)\n",
    "1. Znajdź sumę + n i przypisz ją do sumy, a następnie zwiększ liczbę (count) o 1 (PROCES)\n",
    "1. Czy liczba <5 (DECYZJA)\n",
    "1. jeśli TAK, przejdź do kroku 2; inaczej; Wydrukuj sumę (I / O)\n",
    "\n",
    "Odpowiedź (rozwiązanie) - schemat blokowy:\n",
    "\n",
    "![](https://dyclassroom.com/image/topic/flowchart/flowchart-ex1-q2.png)"
   ]
  },
  {
   "cell_type": "markdown",
   "metadata": {},
   "source": [
    "### Ćwiczenie - Wydrukuj Hello World 10 razy"
   ]
  },
  {
   "cell_type": "markdown",
   "metadata": {},
   "source": [
    "Ten problem jest również rozwiązany za pomocą koncepcji pętli. Bierzemy zmienną liczba (count) i ustawiamy ją na zero. Następnie drukujemy „Hello World” i zwiększamy liczbę (count) o 1.\n",
    "\n",
    "tj. liczba = liczba + 1\n",
    "\n",
    "Następnie sprawdzamy, czy liczba (count) jest mniejsza niż 10. Jeśli jest to PRAWDA (TRUE), ponownie drukujemy „Hello World” i zwiększamy zmienną liczba (count). Z drugiej strony, jeśli warunek jest NIEPRAWDZIWY (FALSE), to zatrzymamy się.\n",
    "\n",
    "Algorytm:\n",
    "\n",
    "1. Inicjalizacja liczby = 0 (PROCES)\n",
    "1. Drukuj Hello World (I / O)\n",
    "1. Przyrost liczby (count) o 1 (PROCES)\n",
    "1. Czy liczba <10 (DECYZJA)\n",
    "1. jeśli TAK przejdź do kroku 2; inaczej; Stop\n",
    "\n",
    "Odpowiedź (rozwiązanie) - schemat blokowy:\n",
    "\n",
    "![](https://dyclassroom.com/image/topic/flowchart/flowchart-ex1-q3.png)"
   ]
  },
  {
   "cell_type": "markdown",
   "metadata": {},
   "source": [
    "### Ćwiczenie - Narysuj schemat, aby zalogować się do konta na Facebooku"
   ]
  },
  {
   "cell_type": "markdown",
   "metadata": {},
   "source": [
    "Ten problem można rozwiązać na wiele sposobów, dlatego zachęcę Was do przemyślenia i narysowania schematu blokowego tego problemu za pomocą wyobraźni.\n",
    "\n",
    "Aby zalogować się na konto na Facebooku, najpierw wpisujemy adres URL facebooka www.facebook.com w naszej przeglądarce, takiej jak Google, Firefox, Safari, Internet Explorer itp. Ta prośba jest wysyłana do serwera Facebooka i odpowiada, wysyłając nam stronę główną facebooka .\n",
    "\n",
    "Następnie wpisujemy nasz zarejestrowany identyfikator e-mail i hasło i klikamy przycisk Zaloguj.\n",
    "\n",
    "Następnie sprawdzane są nasze dane logowania. Jeśli się zgadza, pokazujemy nasz profil. Z drugiej strony, jeśli dane logowania są nieprawidłowe, wystąpi błąd i zostaniemy poproszeni o ponowne wprowadzenie naszego identyfikatora e-mail i hasła.\n",
    "\n",
    "Algorytm:\n",
    "\n",
    "1. Wejdź na www.facebook.com w przeglądarce. (I / O)\n",
    "1. Ładowanie strony głównej facebooka (PROCES)\n",
    "1. Wprowadź swój identyfikator e-mail i hasło (I / O)\n",
    "1. Czy identyfikator e-mail i hasło są prawidłowe (DECYZJA)\n",
    "1. jeśli NIE, to; Błąd logowania (PROCES), przejdź do kroku 3; inaczej; Wyświetl konto na Facebooku (I / O), Stop\n",
    "\n",
    "Uwaga!\n",
    "Ponieważ istnieje wiele sposobów rozwiązania danego problemu, istnieje wiele sposobów rysowania schematu blokowego.\n",
    "\n",
    "Odpowiedź (rozwiązanie) - schemat blokowy:\n",
    "\n",
    "![](https://dyclassroom.com/image/topic/flowchart/flowchart-ex1-q4.png)"
   ]
  },
  {
   "cell_type": "markdown",
   "metadata": {},
   "source": [
    "### Ćwiczenie - wydrukuj od 1 do 20 - algorytm"
   ]
  },
  {
   "cell_type": "markdown",
   "metadata": {},
   "source": [
    "1. Zainicjuj X jako 0\n",
    "1. Zwiększ X o 1\n",
    "1. Drukuj X\n",
    "1. Jeśli X jest mniejsze niż 20, wróć do kroku 2\n",
    "\n",
    "Odpowiedź (rozwiązanie) - schemat blokowy:\n",
    "\n",
    "![](data:image/png;base64,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)"
   ]
  },
  {
   "cell_type": "markdown",
   "metadata": {},
   "source": [
    "### Ćwiczenie - Przelicz temperaturę z Fahrenheita (`℉`) na Celsjusza (`℃`) - algorytm"
   ]
  },
  {
   "cell_type": "markdown",
   "metadata": {},
   "source": [
    "1. Odczytaj temperaturę w stopniach Fahrenheita\n",
    "1. Oblicz temperaturę za pomocą wzoru C = 5/9 * (F-32)\n",
    "1. Drukuj C\n",
    "\n",
    "Odpowiedź (rozwiązanie) - schemat blokowy:\n",
    "\n",
    "![](data:image/png;base64,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)"
   ]
  },
  {
   "cell_type": "markdown",
   "metadata": {},
   "source": [
    "### Ćwiczenie - Ustal, czy uczeń zdał egzamin, czy nie - algorytm"
   ]
  },
  {
   "cell_type": "markdown",
   "metadata": {},
   "source": [
    "1. Wprowadź stopnie 4 kursów M1, M2, M3 i M4\n",
    "1. Oblicz średnią ocenę za pomocą wzoru „Ocena = (M1 + M2 + M3 + M4) / 4”\n",
    "1. Jeśli średnia ocen jest mniejsza niż 60, wpisz „FAIL”, w przeciwnym razie wydrukuj „PASS”\n",
    "\n",
    "Odpowiedź (rozwiązanie) - schemat blokowy:\n",
    "\n",
    "![](https://www.edrawsoft.com/flowchart/images/algorithm-flowchart-example4.png)"
   ]
  },
  {
   "cell_type": "markdown",
   "metadata": {},
   "source": [
    "## Program - jedzenie ;-)"
   ]
  },
  {
   "cell_type": "markdown",
   "metadata": {},
   "source": [
    "![](https://i.pinimg.com/originals/d4/69/c2/d469c26a34fc603c5347819b6cf98baa.jpg)"
   ]
  },
  {
   "cell_type": "code",
   "execution_count": null,
   "metadata": {},
   "outputs": [],
   "source": []
  }
 ],
 "metadata": {
  "kernelspec": {
   "display_name": "Python 3",
   "language": "python",
   "name": "python3"
  },
  "language_info": {
   "codemirror_mode": {
    "name": "ipython",
    "version": 3
   },
   "file_extension": ".py",
   "mimetype": "text/x-python",
   "name": "python",
   "nbconvert_exporter": "python",
   "pygments_lexer": "ipython3",
   "version": "3.8.3"
  }
 },
 "nbformat": 4,
 "nbformat_minor": 4
}
