{
 "cells": [
  {
   "cell_type": "markdown",
   "metadata": {},
   "source": [
    "![](data:image/jpeg;base64,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)"
   ]
  },
  {
   "cell_type": "markdown",
   "metadata": {},
   "source": [
    "# Python (programowanie funkcyjne) - funkcje"
   ]
  },
  {
   "cell_type": "markdown",
   "metadata": {},
   "source": [
    "_Mikołaj Leszczuk_"
   ]
  },
  {
   "attachments": {},
   "cell_type": "markdown",
   "metadata": {},
   "source": [
    "## Funkcje anonimowe (lambda)"
   ]
  },
  {
   "attachments": {},
   "cell_type": "markdown",
   "metadata": {},
   "source": [
    "* Python umożliwia tworzenie funkcji w miejscu, bez osobnego deklarowania ich\n",
    "* Takie funkcje nazywane są „anonimowe”, bo:\n",
    "  * Nie muszą przyjmować nazw, a\n",
    "  * Wykorzystuje się je często jako np. argumenty do „normalnych” funkcji\n",
    "* Podstawowa składania funkcji anonimowej jest następująca:\n",
    "```\n",
    "lambda arg1, arg2: arg1 ** arg2\n",
    "       \\--------/  \\----------/\n",
    "        argumenty   operacja, której wynik jest zwracany przez funkcję\n",
    "```"
   ]
  },
  {
   "cell_type": "markdown",
   "metadata": {},
   "source": [
    "#### Podobieństwo do Excela"
   ]
  },
  {
   "cell_type": "markdown",
   "metadata": {},
   "source": [
    "* **Operacja funkcji `lambda` jest niemal identyczna jak zawartość funkcji w komórce w Excelu**\n",
    "* **Różnicą jest jedynie odwoływanie do:**\n",
    "  * **Zmiennych (Python), i**\n",
    "  * **Nazw komórek (Excel)**"
   ]
  },
  {
   "cell_type": "markdown",
   "metadata": {},
   "source": [
    "#### Przykład funkcji anonimowej"
   ]
  },
  {
   "cell_type": "markdown",
   "metadata": {},
   "source": [
    "* Przykład funkcji anonimowej obliczającej przeciwprostokątną w trójkącie prostokątnym (twierdzenie Pitagorasa)\n",
    "* Przypomnienie:\n",
    "  * Twierdzenie Pitagorasa: `c*c = a*a + b*b`\n",
    "  * Operator `**` to podnoszenie do potęgi\n",
    "  * Jeśli wykładnik potęgi ma postać `1/n` (przykładowo: `1/2`), to takie potęgowanie zamienia się w pierwiastkowanie o stopniu `n`"
   ]
  },
  {
   "cell_type": "markdown",
   "metadata": {},
   "source": [
    "```python\n",
    "lambda a, b:  ((a * a) + (b * b)) ** 0.5\n",
    "```"
   ]
  },
  {
   "cell_type": "markdown",
   "metadata": {},
   "source": [
    "* Funkcje anonimowe są obiektami w Pythonie\n",
    "* Dzięki temu możemy je przypisać w taki sam sposób, jak przypisanie wartości do zmiennej"
   ]
  },
  {
   "cell_type": "markdown",
   "metadata": {},
   "source": [
    "```python\n",
    "pitagoras = lambda a, b: ((a * a) + (b * b)) ** 0.5\n",
    "```"
   ]
  },
  {
   "cell_type": "markdown",
   "metadata": {},
   "source": [
    "* Pozwala to w dalszym kodzie np. wywoływać taką funkcję anonimową po jej, de facto, nazwie:"
   ]
  },
  {
   "cell_type": "code",
   "execution_count": 5,
   "metadata": {},
   "outputs": [
    {
     "data": {
      "text/plain": [
       "5.0"
      ]
     },
     "execution_count": 5,
     "metadata": {},
     "output_type": "execute_result"
    }
   ],
   "source": [
    "pitagoras = lambda a, b:  ((a * a) + (b * b)) ** 0.5\n",
    "pitagoras(3, 4)"
   ]
  },
  {
   "cell_type": "markdown",
   "metadata": {},
   "source": [
    "#### Funkcje konwencjonalne vs. lambda"
   ]
  },
  {
   "cell_type": "markdown",
   "metadata": {},
   "source": [
    "* Funkcja `lambda` może wyglądać jak zabawka dla matematyka \n",
    "* Formalizm, który zamienia łatwą do zrozumienia kwestię w abstrakcyjny, trudniejszy do uchwycenia formalizm\n",
    "* Przede wszystkim mogliśmy osiągnąć ten sam efekt, używając po prostu następującej definicji funkcji konwencjonalnej"
   ]
  },
  {
   "cell_type": "code",
   "execution_count": 6,
   "metadata": {},
   "outputs": [],
   "source": [
    "def c_sum(x, y):\n",
    "    return x + y"
   ]
  },
  {
   "cell_type": "code",
   "execution_count": 7,
   "metadata": {},
   "outputs": [],
   "source": [
    "l_sum = lambda x, y: x + y"
   ]
  },
  {
   "cell_type": "code",
   "execution_count": 8,
   "metadata": {},
   "outputs": [
    {
     "name": "stdout",
     "output_type": "stream",
     "text": [
      "7\n",
      "7\n"
     ]
    }
   ],
   "source": [
    "print(c_sum(3, 4))\n",
    "print(l_sum(3, 4))"
   ]
  },
  {
   "cell_type": "markdown",
   "metadata": {},
   "source": [
    "* Mogę Was zapewnić, że zalety tego podejścia (`lambda`) będą widoczne, gdy nauczycie się (później) używać funkcji `map()`"
   ]
  },
  {
   "cell_type": "markdown",
   "metadata": {},
   "source": [
    "#### Ćwiczenie na rozgrzewkę"
   ]
  },
  {
   "cell_type": "markdown",
   "metadata": {},
   "source": [
    "* Utwórz funkcję `lambda`, która przyjmuje jeden parametr (`a`) i zwraca go"
   ]
  },
  {
   "cell_type": "markdown",
   "metadata": {},
   "source": [
    "#### Rozwiązanie ćwiczenia na rozgrzewkę"
   ]
  },
  {
   "cell_type": "code",
   "execution_count": 9,
   "metadata": {},
   "outputs": [],
   "source": [
    "x = lambda a : a"
   ]
  },
  {
   "cell_type": "code",
   "execution_count": 11,
   "metadata": {},
   "outputs": [
    {
     "data": {
      "text/plain": [
       "3"
      ]
     },
     "execution_count": 11,
     "metadata": {},
     "output_type": "execute_result"
    }
   ],
   "source": [
    "x(3)"
   ]
  },
  {
   "cell_type": "markdown",
   "metadata": {},
   "source": [
    "#### Kolejne ćwiczenia na rozgrzewkę"
   ]
  },
  {
   "cell_type": "markdown",
   "metadata": {},
   "source": [
    "* Napisz program w Pythonie, aby utworzyć funkcję `lambda`, która dodaje `15` do podanej liczby przekazanej jako argument\n",
    "* A także utwórz funkcję `lambda`, która mnoży argument `x` przez argument `y` i drukuje wynik"
   ]
  },
  {
   "cell_type": "markdown",
   "metadata": {},
   "source": [
    "#### Rozwiązania kolejnych ćwiczeń na rozgrzewkę"
   ]
  },
  {
   "cell_type": "code",
   "execution_count": 12,
   "metadata": {},
   "outputs": [
    {
     "name": "stdout",
     "output_type": "stream",
     "text": [
      "25\n"
     ]
    }
   ],
   "source": [
    "r = lambda a: a + 15\n",
    "print(r(10))"
   ]
  },
  {
   "cell_type": "code",
   "execution_count": 13,
   "metadata": {},
   "outputs": [
    {
     "name": "stdout",
     "output_type": "stream",
     "text": [
      "48\n"
     ]
    }
   ],
   "source": [
    "r = lambda x, y: x * y\n",
    "print(r(12, 4))"
   ]
  },
  {
   "cell_type": "markdown",
   "metadata": {},
   "source": [
    "#### Ćwiczenie"
   ]
  },
  {
   "attachments": {},
   "cell_type": "markdown",
   "metadata": {},
   "source": [
    "* Napisz program w Pythonie do sortowania listy krotek za pomocą `lambda`"
   ]
  },
  {
   "cell_type": "markdown",
   "metadata": {},
   "source": [
    "```python\n",
    "subject_marks = [('Język angielski', 88),\n",
    "                 ('Nauka',           90),\n",
    "                 ('Matematyka',      97),\n",
    "                 ('Nauki społeczne', 82)]\n",
    "```"
   ]
  },
  {
   "cell_type": "markdown",
   "metadata": {},
   "source": [
    "#### Przykładowe rozwiązanie"
   ]
  },
  {
   "cell_type": "code",
   "execution_count": 15,
   "metadata": {},
   "outputs": [
    {
     "name": "stdout",
     "output_type": "stream",
     "text": [
      "Oryginalna lista krotek:\n",
      "[('Język angielski', 88), ('Nauka', 90), ('Matematyka', 97), ('Nauki społeczne', 82)]\n",
      "\n",
      "Sortowanie listy krotek:\n",
      "[('Nauki społeczne', 82), ('Język angielski', 88), ('Nauka', 90), ('Matematyka', 97)]\n"
     ]
    }
   ],
   "source": [
    "subject_marks = [('Język angielski', 88),\n",
    "                 ('Nauka',           90),\n",
    "                 ('Matematyka',      97),\n",
    "                 ('Nauki społeczne', 82)]\n",
    "print(\"Oryginalna lista krotek:\")\n",
    "print(subject_marks)\n",
    "subject_marks.sort(key=lambda x: x[1])\n",
    "print(\"\\nSortowanie listy krotek:\")\n",
    "print(subject_marks)"
   ]
  },
  {
   "cell_type": "markdown",
   "metadata": {},
   "source": [
    "#### Ćwiczenie"
   ]
  },
  {
   "cell_type": "markdown",
   "metadata": {},
   "source": [
    "* Napisz program w Pythonie, aby posortować listę słowników za pomocą `lambda`"
   ]
  },
  {
   "attachments": {},
   "cell_type": "markdown",
   "metadata": {},
   "source": [
    "```python\n",
    "models = [{'marka': 'Nokia',   'model': '3310',   'kolor': 'Czarny'},\n",
    "          {'marka': 'Apple',   'model': '11',     'kolor': 'Złoty'},\n",
    "          {'marka': 'Samsung', 'model': 'Galaxy', 'kolor': 'Srebrny'}]\n",
    "```"
   ]
  },
  {
   "cell_type": "markdown",
   "metadata": {},
   "source": [
    "#### Przykładowe rozwiązanie"
   ]
  },
  {
   "cell_type": "code",
   "execution_count": 16,
   "metadata": {},
   "outputs": [
    {
     "name": "stdout",
     "output_type": "stream",
     "text": [
      "Oryginalna lista słowników :\n",
      "[{'marka': 'Nokia', 'model': '3310', 'kolor': 'Czarny'}, {'marka': 'Apple', 'model': '11', 'kolor': 'Złoty'}, {'marka': 'Samsung', 'model': 'Galaxy', 'kolor': 'Srebrny'}]\n",
      "\n",
      "Sortowanie listy słowników :\n",
      "[{'marka': 'Nokia', 'model': '3310', 'kolor': 'Czarny'}, {'marka': 'Samsung', 'model': 'Galaxy', 'kolor': 'Srebrny'}, {'marka': 'Apple', 'model': '11', 'kolor': 'Złoty'}]\n"
     ]
    }
   ],
   "source": [
    "models = [{'marka': 'Nokia',   'model': '3310',   'kolor': 'Czarny'},\n",
    "          {'marka': 'Apple',   'model': '11',     'kolor': 'Złoty'},\n",
    "          {'marka': 'Samsung', 'model': 'Galaxy', 'kolor': 'Srebrny'}]\n",
    "print(\"Oryginalna lista słowników :\")\n",
    "print(models)\n",
    "sorted_models = sorted(models, key=lambda x: x['kolor'])\n",
    "print(\"\\nSortowanie listy słowników :\")\n",
    "print(sorted_models)"
   ]
  },
  {
   "cell_type": "markdown",
   "metadata": {},
   "source": [
    "#### Ćwiczenie"
   ]
  },
  {
   "cell_type": "markdown",
   "metadata": {},
   "source": [
    "* Napisz program w Pythonie, aby sprawdzić, czy dany ciąg zaczyna się od znaku '`P`', używając `lambda`\n",
    "* Podpowiedź: skorzystaj z funkcji (metody) `startswith()`"
   ]
  },
  {
   "cell_type": "markdown",
   "metadata": {},
   "source": [
    "#### Przykładowe rozwiązanie"
   ]
  },
  {
   "cell_type": "code",
   "execution_count": 20,
   "metadata": {},
   "outputs": [],
   "source": [
    "starts_with = lambda x: True if x.startswith('P') else False"
   ]
  },
  {
   "cell_type": "code",
   "execution_count": 21,
   "metadata": {},
   "outputs": [
    {
     "name": "stdout",
     "output_type": "stream",
     "text": [
      "True\n"
     ]
    }
   ],
   "source": [
    "print(starts_with('Python'))"
   ]
  },
  {
   "cell_type": "code",
   "execution_count": 22,
   "metadata": {},
   "outputs": [
    {
     "name": "stdout",
     "output_type": "stream",
     "text": [
      "False\n"
     ]
    }
   ],
   "source": [
    "print(starts_with('Java'))"
   ]
  },
  {
   "cell_type": "markdown",
   "metadata": {},
   "source": [
    "#### Ćwiczenie"
   ]
  },
  {
   "cell_type": "markdown",
   "metadata": {},
   "source": [
    "* Napisz program w Pythonie, aby wyodrębnić rok, miesiąc, dzień i godzinę za pomocą `lambda`\n",
    "* Podpowiedź: skorzystaj z modułu `datetime`:\n",
    "  * `now = datetime.datetime.now()` - przypisuje do `now` aktualną lokalną datę i godzinę.\n",
    "  * `now.year` - wyodrębnia i zwraca rok z `now`.\n",
    "  * `now.month` - wyodrębnia i zwraca miesiąc z `now`.\n",
    "  * `now.day` - wyodrębnia i zwraca dzień z `now`.\n",
    "  * `now.time()` - wyodrębnia i zwraca godzinę z `now`."
   ]
  },
  {
   "cell_type": "markdown",
   "metadata": {},
   "source": [
    "#### Przykładowe rozwiązanie"
   ]
  },
  {
   "cell_type": "code",
   "execution_count": 27,
   "metadata": {},
   "outputs": [
    {
     "name": "stdout",
     "output_type": "stream",
     "text": [
      "2021-01-20 21:03:09.615935\n",
      "2021\n",
      "1\n",
      "20\n",
      "21:03:09.615935\n"
     ]
    }
   ],
   "source": [
    "import datetime\n",
    "now = datetime.datetime.now()\n",
    "print(now)\n",
    "year = lambda x: x.year\n",
    "month = lambda x: x.month\n",
    "day = lambda x: x.day\n",
    "t = lambda x: x.time()\n",
    "print(year(now))\n",
    "print(month(now))\n",
    "print(day(now))\n",
    "print(t(now))"
   ]
  },
  {
   "cell_type": "markdown",
   "metadata": {},
   "source": [
    "#### Ćwiczenie"
   ]
  },
  {
   "cell_type": "markdown",
   "metadata": {},
   "source": [
    "* Napisz program w Pythonie, aby sprawdzić, czy dany ciąg jest liczbą, czy nie, używając `lambda`\n",
    "* Podpowiedź: przydatna metoda to\\\n",
    "    `string.replace(oldvalue, newvalue, count)`\\\n",
    "    Składnia parametrów:\n",
    "  * `oldvalue`\t– \tWymagany; ciąg do wyszukania\n",
    "  * `newvalue`\t– \tWymagany; ciąg znaków, który ma zastąpić starą wartość\n",
    "  * `count`\t\t– \tOpcjonalny; liczba określająca, ile wystąpień starej wartości chcesz zastąpić; domyślnie są to wszystkie wystąpienia"
   ]
  },
  {
   "cell_type": "markdown",
   "metadata": {},
   "source": [
    "#### Przykładowe rozwiązanie"
   ]
  },
  {
   "cell_type": "code",
   "execution_count": 29,
   "metadata": {},
   "outputs": [
    {
     "name": "stdout",
     "output_type": "stream",
     "text": [
      "True\n",
      "True\n",
      "False\n",
      "True\n",
      "False\n",
      "True\n",
      "\n",
      "Wydrukuj liczby kontrolne:\n",
      "True\n",
      "True\n"
     ]
    }
   ],
   "source": [
    "is_num = lambda q: q.replace('.', '', 1).isdigit()\n",
    "print(is_num('26587'))\n",
    "print(is_num('4.2365'))\n",
    "print(is_num('-12547'))\n",
    "print(is_num('00'))\n",
    "print(is_num('A001'))\n",
    "print(is_num('001'))\n",
    "print(\"\\nWydrukuj liczby kontrolne:\")\n",
    "is_num1 = lambda r: is_num(r[1:]) if r[0] == '-' else is_num(r)\n",
    "print(is_num1('-16.4'))\n",
    "print(is_num1('-24587.11'))"
   ]
  },
  {
   "cell_type": "markdown",
   "metadata": {},
   "source": [
    "## Filtrowanie, aplikowanie, redukowanie"
   ]
  },
  {
   "cell_type": "markdown",
   "metadata": {},
   "source": [
    "* W Pythonie istnieje kilka przydatnych funkcji korzystających z funkcji anonimowe i pracujących na zbiorach danych:\n",
    "  * `filter(funkcja, iterator)`: zwraca tylko te wartości ze zbioru danych, dla których `funkcja(wartość)` zwróciła `True`\n",
    "  * `map(funkcja, iterator)`: aplikuje funkcję dla każdej wartości\n",
    "  * `reduce(funkcja, iterator)`: służy do zredukowania całego zbioru danych do jednej wartości"
   ]
  },
  {
   "cell_type": "markdown",
   "metadata": {},
   "source": [
    "### Filtrowanie"
   ]
  },
  {
   "cell_type": "markdown",
   "metadata": {},
   "source": [
    "* Dla przykładów użyjemy prostego zbioru danych temperatury:"
   ]
  },
  {
   "cell_type": "code",
   "execution_count": 30,
   "metadata": {},
   "outputs": [],
   "source": [
    "temperatury = [\n",
    "    37.6, 35.8, 37.6, 33.4, 34.1, 37.1, 35.9, 34.1, 37.1, 40.5, 38.5, 37.6,\n",
    "    35.8, 34.5, 36.4, 38.3, 37.5, 37.7, 34.0, 35.3, 35.7, 38.9, 34.8, 34.1,\n",
    "    39.6, 35.4, 34.7, 37.6, 38.4, 36.4, 39.8, 39.1, 37.1, 35.6, 36.8, 37.6,\n",
    "    36.7, 40.0, 38.0, 34.1, 35.5, 38.5, 36.1, 32.6, 32.9, 34.5, 41.0, 38.3,\n",
    "    33.7, 38.7, 36.9, 36.2, 33.7, 38.3, 35.3, 38.3, 40.1, 39.3, 38.2, 37.6,\n",
    "    39.1, 37.1, 34.4, 38.7, 35.8, 38.2, 38.2, 33.1, 37.8, 36.5, 37.6, 37.4,\n",
    "    34.3, 37.7, 36.0, 37.5, 37.6, 36.5, 31.3, 37.7, 40.3, 39.5, 35.7, 38.1,\n",
    "    34.7, 36.5, 34.3, 38.0, 37.0, 38.5, 39.4, 37.6, 41.7, 40.0, 38.4, 38.9,\n",
    "    34.2, 40.2, 34.3, 35.3\n",
    "]"
   ]
  },
  {
   "cell_type": "markdown",
   "metadata": {},
   "source": [
    "* Użyjmy teraz funkcji filtrującej, żeby znaleźć wszystkie wartości większe lub równe `40.0`:"
   ]
  },
  {
   "cell_type": "code",
   "execution_count": 32,
   "metadata": {},
   "outputs": [
    {
     "data": {
      "text/plain": [
       "[40.5, 40.0, 41.0, 40.1, 40.3, 41.7, 40.0, 40.2]"
      ]
     },
     "execution_count": 32,
     "metadata": {},
     "output_type": "execute_result"
    }
   ],
   "source": [
    "list(filter(lambda x: x>=40.0,  temperatury)) "
   ]
  },
  {
   "cell_type": "markdown",
   "metadata": {},
   "source": [
    "#### Ćwiczenie"
   ]
  },
  {
   "cell_type": "markdown",
   "metadata": {},
   "source": [
    "* Napisz program w Pythonie do filtrowania listy liczb całkowitych za pomocą `lambda` i `filter`"
   ]
  },
  {
   "cell_type": "markdown",
   "metadata": {},
   "source": [
    "```python\n",
    "nums = [1, 2, 3, 4, 5, 6, 7, 8, 9, 10]\n",
    "```"
   ]
  },
  {
   "cell_type": "markdown",
   "metadata": {},
   "source": [
    "#### Przykładowe rozwiązanie"
   ]
  },
  {
   "cell_type": "code",
   "execution_count": 33,
   "metadata": {},
   "outputs": [
    {
     "name": "stdout",
     "output_type": "stream",
     "text": [
      "Oryginalna lista liczb całkowitych:\n",
      "[1, 2, 3, 4, 5, 6, 7, 8, 9, 10]\n",
      "\n",
      "Parzyste liczby ze wspomnianej listy:\n",
      "[2, 4, 6, 8, 10]\n",
      "\n",
      "Nieparzyste liczby ze wspomnianej listy:\n",
      "[1, 3, 5, 7, 9]\n"
     ]
    }
   ],
   "source": [
    "nums = [1, 2, 3, 4, 5, 6, 7, 8, 9, 10]\n",
    "print(\"Oryginalna lista liczb całkowitych:\")\n",
    "print(nums)\n",
    "print(\"\\nParzyste liczby ze wspomnianej listy:\")\n",
    "even_nums = list(filter(lambda x: x % 2 == 0, nums))\n",
    "print(even_nums)\n",
    "print(\"\\nNieparzyste liczby ze wspomnianej listy:\")\n",
    "odd_nums = list(filter(lambda x: x % 2 != 0, nums))\n",
    "print(odd_nums)"
   ]
  },
  {
   "cell_type": "markdown",
   "metadata": {},
   "source": [
    "#### Ćwiczenie"
   ]
  },
  {
   "cell_type": "markdown",
   "metadata": {},
   "source": [
    "* Napisz program w Pythonie, aby znaleźć przecięcie dwóch podanych tablic za pomocą `lambda` i `filter`"
   ]
  },
  {
   "cell_type": "markdown",
   "metadata": {},
   "source": [
    "```python\n",
    "array_nums1 = [1, 2, 3, 5, 7, 8, 9, 10]\n",
    "array_nums2 = [1, 2, 4, 8, 9]\n",
    "```"
   ]
  },
  {
   "cell_type": "markdown",
   "metadata": {},
   "source": [
    "#### Przykładowe rozwiązanie"
   ]
  },
  {
   "cell_type": "code",
   "execution_count": 34,
   "metadata": {},
   "outputs": [
    {
     "name": "stdout",
     "output_type": "stream",
     "text": [
      "Oryginalne tablice:\n",
      "[1, 2, 3, 5, 7, 8, 9, 10]\n",
      "[1, 2, 4, 8, 9]\n",
      "\n",
      "Przecięcie wspomnianych tablic:  [1, 2, 8, 9]\n"
     ]
    }
   ],
   "source": [
    "array_nums1 = [1, 2, 3, 5, 7, 8, 9, 10]\n",
    "array_nums2 = [1, 2, 4, 8, 9]\n",
    "print(\"Oryginalne tablice:\")\n",
    "print(array_nums1)\n",
    "print(array_nums2)\n",
    "result = list(filter(lambda x: x in array_nums1, array_nums2))\n",
    "print(\"\\nPrzecięcie wspomnianych tablic: \", result)"
   ]
  },
  {
   "cell_type": "markdown",
   "metadata": {},
   "source": [
    "#### Ćwiczenie"
   ]
  },
  {
   "cell_type": "markdown",
   "metadata": {},
   "source": [
    "* Napisz program w Pythonie, aby policzyć parzyste i nieparzyste liczby w danej tablicy liczb całkowitych, używając `lambda` i `filter`"
   ]
  },
  {
   "attachments": {},
   "cell_type": "markdown",
   "metadata": {},
   "source": [
    "```python\n",
    "array_nums = [1, 2, 3, 5, 7, 8, 9, 10]\n",
    "```"
   ]
  },
  {
   "cell_type": "markdown",
   "metadata": {},
   "source": [
    "#### Przykładowe rozwiązanie"
   ]
  },
  {
   "cell_type": "code",
   "execution_count": 37,
   "metadata": {},
   "outputs": [
    {
     "name": "stdout",
     "output_type": "stream",
     "text": [
      "Oryginalna tablica:\n",
      "[1, 2, 3, 5, 7, 8, 9, 10]\n",
      "\n",
      "Liczba liczb parzystych w powyższej tablicy:  3\n",
      "\n",
      "Liczba liczb nieparzystych w powyższej tablicy:  5\n"
     ]
    }
   ],
   "source": [
    "array_nums = [1, 2, 3, 5, 7, 8, 9, 10]\n",
    "print(\"Oryginalna tablica:\")\n",
    "print(array_nums)\n",
    "odd_ctr = len(list(filter(lambda x: (x % 2 != 0), array_nums)))\n",
    "even_ctr = len(list(filter(lambda x: (x % 2 == 0), array_nums)))\n",
    "print(\"\\nLiczba liczb parzystych w powyższej tablicy: \", even_ctr)\n",
    "print(\"\\nLiczba liczb nieparzystych w powyższej tablicy: \", odd_ctr)"
   ]
  },
  {
   "cell_type": "markdown",
   "metadata": {},
   "source": [
    "#### Ćwiczenie"
   ]
  },
  {
   "cell_type": "markdown",
   "metadata": {},
   "source": [
    "* Napisz program w Pythonie, aby znaleźć wartości o długości sześć na podanej liście za pomocą funkcji `lambda` i `filter`"
   ]
  },
  {
   "cell_type": "markdown",
   "metadata": {},
   "source": [
    "```python\n",
    "weekdays = ['Poniedziałek', 'Wtorek', 'Środa', 'Czwartek', 'Piątek', 'Sobota', 'Niedziela']\n",
    "```"
   ]
  },
  {
   "cell_type": "markdown",
   "metadata": {},
   "source": [
    "#### Przykładowe rozwiązanie"
   ]
  },
  {
   "cell_type": "code",
   "execution_count": 40,
   "metadata": {},
   "outputs": [
    {
     "name": "stdout",
     "output_type": "stream",
     "text": [
      "Wtorek\n",
      "Piątek\n",
      "Sobota\n"
     ]
    }
   ],
   "source": [
    "weekdays = ['Poniedziałek', 'Wtorek', 'Środa', 'Czwartek', 'Piątek', 'Sobota', 'Niedziela']\n",
    "days = filter(lambda day: day if len(day) == 6 else '', weekdays)\n",
    "for d in days:\n",
    "    print(d)"
   ]
  },
  {
   "cell_type": "markdown",
   "metadata": {},
   "source": [
    "#### Ćwiczenie"
   ]
  },
  {
   "cell_type": "markdown",
   "metadata": {},
   "source": [
    "* Napisz program w Pythonie, aby znaleźć liczby podzielne przez dziewiętnaście lub trzynaście z listy liczb za pomocą `lambda` i `filter`"
   ]
  },
  {
   "cell_type": "markdown",
   "metadata": {},
   "source": [
    "```python\n",
    "nums = [19, 65, 57, 39, 152, 639, 121, 44, 90, 190]\n",
    "```"
   ]
  },
  {
   "cell_type": "markdown",
   "metadata": {},
   "source": [
    "#### Przykładowe rozwiązanie"
   ]
  },
  {
   "cell_type": "code",
   "execution_count": 41,
   "metadata": {},
   "outputs": [
    {
     "name": "stdout",
     "output_type": "stream",
     "text": [
      "Oryginalna lista:\n",
      "[19, 65, 57, 39, 152, 639, 121, 44, 90, 190]\n",
      "\n",
      "Liczby z poniższej listy są podzielne przez 19 lub 13:\n",
      "[19, 65, 57, 39, 152, 190]\n"
     ]
    }
   ],
   "source": [
    "nums = [19, 65, 57, 39, 152, 639, 121, 44, 90, 190]\n",
    "print(\"Oryginalna lista:\")\n",
    "print(nums)\n",
    "result = list(filter(lambda x: (x % 19 == 0 or x % 13 == 0), nums))\n",
    "print(\"\\nLiczby z poniższej listy są podzielne przez 19 lub 13:\")\n",
    "print(result)"
   ]
  },
  {
   "cell_type": "markdown",
   "metadata": {},
   "source": [
    "#### Ćwiczenie"
   ]
  },
  {
   "cell_type": "markdown",
   "metadata": {},
   "source": [
    "* Napisz program w Pythonie, aby znaleźć palindromy na podanej liście ciągów za pomocą `lambda` i `filter`\n",
    "* Palindrom – wyrażenie brzmiące tak samo czytane od lewej do prawej i od prawej do lewej\n",
    "* Przykładem palindromu jest: „kobyła ma mały bok”"
   ]
  },
  {
   "cell_type": "markdown",
   "metadata": {},
   "source": [
    "```python\n",
    "texts = [\"php\", \"w3r\", \"Python\", \"abcd\", \"Java\", \"aaa\"]\n",
    "```"
   ]
  },
  {
   "cell_type": "markdown",
   "metadata": {},
   "source": [
    "#### Przykładowe rozwiązanie"
   ]
  },
  {
   "cell_type": "code",
   "execution_count": 43,
   "metadata": {},
   "outputs": [
    {
     "name": "stdout",
     "output_type": "stream",
     "text": [
      "Oryginalna lista ciągów:\n",
      "['php', 'w3r', 'Python', 'abcd', 'Java', 'aaa']\n",
      "\n",
      "Lista palindromów:\n",
      "['php', 'aaa']\n"
     ]
    }
   ],
   "source": [
    "texts = [\"php\", \"w3r\", \"Python\", \"abcd\", \"Java\", \"aaa\"]\n",
    "print(\"Oryginalna lista ciągów:\")\n",
    "print(texts)\n",
    "result = list(filter(lambda x: (x == \"\".join(reversed(x))), texts))\n",
    "print(\"\\nLista palindromów:\")\n",
    "print(result)"
   ]
  },
  {
   "cell_type": "markdown",
   "metadata": {},
   "source": [
    "#### Ćwiczenie"
   ]
  },
  {
   "cell_type": "markdown",
   "metadata": {},
   "source": [
    "* Napisz program w Pythonie, który zsumuje długość nazw z danej listy nazw po usunięciu nazw zaczynających się od małej litery\n",
    "* Użyj funkcji `lambda`"
   ]
  },
  {
   "cell_type": "markdown",
   "metadata": {},
   "source": [
    "```python\n",
    "sample_names = ['antoni', 'Jakub', 'zuzanna', 'Julia', 'Jan', 'szymon']\n",
    "```"
   ]
  },
  {
   "cell_type": "markdown",
   "metadata": {},
   "source": [
    "#### Przykładowe rozwiązanie"
   ]
  },
  {
   "cell_type": "code",
   "execution_count": 44,
   "metadata": {},
   "outputs": [
    {
     "name": "stdout",
     "output_type": "stream",
     "text": [
      "Wynik:\n",
      "13\n"
     ]
    }
   ],
   "source": [
    "sample_names = ['antoni', 'Jakub', 'zuzanna', 'Julia', 'Jan', 'szymon']\n",
    "sample_names=list(filter(lambda el: el[0].isupper() and el[1:].islower(), sample_names))\n",
    "print(\"Wynik:\")\n",
    "print(len(''.join(sample_names)))"
   ]
  },
  {
   "cell_type": "markdown",
   "metadata": {},
   "source": [
    "### Aplikowanie"
   ]
  },
  {
   "cell_type": "code",
   "execution_count": 66,
   "metadata": {},
   "outputs": [
    {
     "data": {
      "text/plain": [
       "[37.6,\n",
       " 35.8,\n",
       " 37.6,\n",
       " 33.4,\n",
       " 34.1,\n",
       " 37.1,\n",
       " 35.9,\n",
       " 34.1,\n",
       " 37.1,\n",
       " 40.5,\n",
       " 38.5,\n",
       " 37.6,\n",
       " 35.8,\n",
       " 34.5,\n",
       " 36.4,\n",
       " 38.3,\n",
       " 37.5,\n",
       " 37.7,\n",
       " 34.0,\n",
       " 35.3,\n",
       " 35.7,\n",
       " 38.9,\n",
       " 34.8,\n",
       " 34.1,\n",
       " 39.6,\n",
       " 35.4,\n",
       " 34.7,\n",
       " 37.6,\n",
       " 38.4,\n",
       " 36.4,\n",
       " 39.8,\n",
       " 39.1,\n",
       " 37.1,\n",
       " 35.6,\n",
       " 36.8,\n",
       " 37.6,\n",
       " 36.7,\n",
       " 40.0,\n",
       " 38.0,\n",
       " 34.1,\n",
       " 35.5,\n",
       " 38.5,\n",
       " 36.1,\n",
       " 32.6,\n",
       " 32.9,\n",
       " 34.5,\n",
       " 41.0,\n",
       " 38.3,\n",
       " 33.7,\n",
       " 38.7,\n",
       " 36.9,\n",
       " 36.2,\n",
       " 33.7,\n",
       " 38.3,\n",
       " 35.3,\n",
       " 38.3,\n",
       " 40.1,\n",
       " 39.3,\n",
       " 38.2,\n",
       " 37.6,\n",
       " 39.1,\n",
       " 37.1,\n",
       " 34.4,\n",
       " 38.7,\n",
       " 35.8,\n",
       " 38.2,\n",
       " 38.2,\n",
       " 33.1,\n",
       " 37.8,\n",
       " 36.5,\n",
       " 37.6,\n",
       " 37.4,\n",
       " 34.3,\n",
       " 37.7,\n",
       " 36.0,\n",
       " 37.5,\n",
       " 37.6,\n",
       " 36.5,\n",
       " 31.3,\n",
       " 37.7,\n",
       " 40.3,\n",
       " 39.5,\n",
       " 35.7,\n",
       " 38.1,\n",
       " 34.7,\n",
       " 36.5,\n",
       " 34.3,\n",
       " 38.0,\n",
       " 37.0,\n",
       " 38.5,\n",
       " 39.4,\n",
       " 37.6,\n",
       " 41.7,\n",
       " 40.0,\n",
       " 38.4,\n",
       " 38.9,\n",
       " 34.2,\n",
       " 40.2,\n",
       " 34.3,\n",
       " 35.3]"
      ]
     },
     "execution_count": 66,
     "metadata": {},
     "output_type": "execute_result"
    }
   ],
   "source": [
    "temperatury"
   ]
  },
  {
   "cell_type": "code",
   "execution_count": 67,
   "metadata": {},
   "outputs": [
    {
     "data": {
      "text/plain": [
       "36.9"
      ]
     },
     "execution_count": 67,
     "metadata": {},
     "output_type": "execute_result"
    }
   ],
   "source": [
    "from statistics import mean\n",
    "sr_temp = mean(temperatury)\n",
    "sr_temp"
   ]
  },
  {
   "cell_type": "code",
   "execution_count": 48,
   "metadata": {},
   "outputs": [
    {
     "data": {
      "text/plain": [
       "[0.7000000000000028,\n",
       " -1.1000000000000014,\n",
       " 0.7000000000000028,\n",
       " -3.5,\n",
       " -2.799999999999997,\n",
       " 0.20000000000000284,\n",
       " -1.0,\n",
       " -2.799999999999997,\n",
       " 0.20000000000000284,\n",
       " 3.6000000000000014,\n",
       " 1.6000000000000014,\n",
       " 0.7000000000000028,\n",
       " -1.1000000000000014,\n",
       " -2.3999999999999986,\n",
       " -0.5,\n",
       " 1.3999999999999986,\n",
       " 0.6000000000000014,\n",
       " 0.8000000000000043,\n",
       " -2.8999999999999986,\n",
       " -1.6000000000000014,\n",
       " -1.1999999999999957,\n",
       " 2.0,\n",
       " -2.1000000000000014,\n",
       " -2.799999999999997,\n",
       " 2.700000000000003,\n",
       " -1.5,\n",
       " -2.1999999999999957,\n",
       " 0.7000000000000028,\n",
       " 1.5,\n",
       " -0.5,\n",
       " 2.8999999999999986,\n",
       " 2.200000000000003,\n",
       " 0.20000000000000284,\n",
       " -1.2999999999999972,\n",
       " -0.10000000000000142,\n",
       " 0.7000000000000028,\n",
       " -0.19999999999999574,\n",
       " 3.1000000000000014,\n",
       " 1.1000000000000014,\n",
       " -2.799999999999997,\n",
       " -1.3999999999999986,\n",
       " 1.6000000000000014,\n",
       " -0.7999999999999972,\n",
       " -4.299999999999997,\n",
       " -4.0,\n",
       " -2.3999999999999986,\n",
       " 4.100000000000001,\n",
       " 1.3999999999999986,\n",
       " -3.1999999999999957,\n",
       " 1.8000000000000043,\n",
       " 0.0,\n",
       " -0.6999999999999957,\n",
       " -3.1999999999999957,\n",
       " 1.3999999999999986,\n",
       " -1.6000000000000014,\n",
       " 1.3999999999999986,\n",
       " 3.200000000000003,\n",
       " 2.3999999999999986,\n",
       " 1.3000000000000043,\n",
       " 0.7000000000000028,\n",
       " 2.200000000000003,\n",
       " 0.20000000000000284,\n",
       " -2.5,\n",
       " 1.8000000000000043,\n",
       " -1.1000000000000014,\n",
       " 1.3000000000000043,\n",
       " 1.3000000000000043,\n",
       " -3.799999999999997,\n",
       " 0.8999999999999986,\n",
       " -0.3999999999999986,\n",
       " 0.7000000000000028,\n",
       " 0.5,\n",
       " -2.6000000000000014,\n",
       " 0.8000000000000043,\n",
       " -0.8999999999999986,\n",
       " 0.6000000000000014,\n",
       " 0.7000000000000028,\n",
       " -0.3999999999999986,\n",
       " -5.599999999999998,\n",
       " 0.8000000000000043,\n",
       " 3.3999999999999986,\n",
       " 2.6000000000000014,\n",
       " -1.1999999999999957,\n",
       " 1.2000000000000028,\n",
       " -2.1999999999999957,\n",
       " -0.3999999999999986,\n",
       " -2.6000000000000014,\n",
       " 1.1000000000000014,\n",
       " 0.10000000000000142,\n",
       " 1.6000000000000014,\n",
       " 2.5,\n",
       " 0.7000000000000028,\n",
       " 4.800000000000004,\n",
       " 3.1000000000000014,\n",
       " 1.5,\n",
       " 2.0,\n",
       " -2.6999999999999957,\n",
       " 3.3000000000000043,\n",
       " -2.6000000000000014,\n",
       " -1.6000000000000014]"
      ]
     },
     "execution_count": 48,
     "metadata": {},
     "output_type": "execute_result"
    }
   ],
   "source": [
    "list(map(lambda x: x - sr_temp, temperatury))"
   ]
  },
  {
   "cell_type": "markdown",
   "metadata": {},
   "source": [
    "#### Format liczb zmiennoprzecinkowych"
   ]
  },
  {
   "cell_type": "markdown",
   "metadata": {},
   "source": [
    "* **Podczas testów powyższego kodu, Python potrafił zamiast wartości `0.7` zwrócić `0.7000000000000028`**\n",
    "* **Dlatego dla uproszczonego zapisu wszystkie wartości warto zaokrąglić do jednego miejsca po przecinku**"
   ]
  },
  {
   "cell_type": "markdown",
   "metadata": {},
   "source": [
    "#### Ćwiczenie"
   ]
  },
  {
   "cell_type": "markdown",
   "metadata": {},
   "source": [
    "* Napisz program w Pythonie podnoszący do kwadratu i sześcianu każdą liczbę z podanej listy liczb całkowitych, używając `lambda` i `map`"
   ]
  },
  {
   "attachments": {},
   "cell_type": "markdown",
   "metadata": {},
   "source": [
    "```python\n",
    "nums = [1, 2, 3, 4, 5, 6, 7, 8, 9, 10]\n",
    "```"
   ]
  },
  {
   "cell_type": "markdown",
   "metadata": {},
   "source": [
    "#### Przykładowe rozwiązanie"
   ]
  },
  {
   "cell_type": "code",
   "execution_count": 50,
   "metadata": {},
   "outputs": [
    {
     "name": "stdout",
     "output_type": "stream",
     "text": [
      "Oryginalna lista liczb całkowitych:\n",
      "[1, 2, 3, 4, 5, 6, 7, 8, 9, 10]\n",
      "\n",
      "Kwadrat każdej liczby z listy:\n",
      "[1, 4, 9, 16, 25, 36, 49, 64, 81, 100]\n",
      "\n",
      "Sześcian każdej liczby z listy:\n",
      "[1, 8, 27, 64, 125, 216, 343, 512, 729, 1000]\n"
     ]
    }
   ],
   "source": [
    "nums = [1, 2, 3, 4, 5, 6, 7, 8, 9, 10]\n",
    "print(\"Oryginalna lista liczb całkowitych:\")\n",
    "print(nums)\n",
    "print(\"\\nKwadrat każdej liczby z listy:\")\n",
    "square_nums = list(map(lambda x: x ** 2, nums))\n",
    "print(square_nums)\n",
    "print(\"\\nSześcian każdej liczby z listy:\")\n",
    "cube_nums = list(map(lambda x: x ** 3, nums))\n",
    "print(cube_nums)"
   ]
  },
  {
   "cell_type": "markdown",
   "metadata": {},
   "source": [
    "#### Ćwiczenie"
   ]
  },
  {
   "cell_type": "markdown",
   "metadata": {},
   "source": [
    "* Napisz program w Pythonie, aby dodać dwie podane listy za pomocą `map` i `lambda`"
   ]
  },
  {
   "attachments": {},
   "cell_type": "markdown",
   "metadata": {},
   "source": [
    "```python\n",
    "nums1 = [1, 2, 3]\n",
    "nums2 = [4, 5, 6]\n",
    "```"
   ]
  },
  {
   "cell_type": "markdown",
   "metadata": {},
   "source": [
    "#### Przykładowe rozwiązanie"
   ]
  },
  {
   "cell_type": "code",
   "execution_count": 51,
   "metadata": {},
   "outputs": [
    {
     "name": "stdout",
     "output_type": "stream",
     "text": [
      "Oryginalna lista:\n",
      "[1, 2, 3]\n",
      "[4, 5, 6]\n",
      "\n",
      "Wynik: po dodaniu dwóch list\n",
      "[5, 7, 9]\n"
     ]
    }
   ],
   "source": [
    "nums1 = [1, 2, 3]\n",
    "nums2 = [4, 5, 6]\n",
    "print(\"Oryginalna lista:\")\n",
    "print(nums1)\n",
    "print(nums2)\n",
    "result = map(lambda x, y: x + y, nums1, nums2)\n",
    "print(\"\\nWynik: po dodaniu dwóch list\")\n",
    "print(list(result))"
   ]
  },
  {
   "cell_type": "markdown",
   "metadata": {},
   "source": [
    "#### Ćwiczenie"
   ]
  },
  {
   "cell_type": "markdown",
   "metadata": {},
   "source": [
    "* Napisz program w Pythonie, który za pomocą funkcji `lambda` mnoży każdą liczbę z podanej listy przez określoną liczbę\n",
    "* Wydrukuj wynik"
   ]
  },
  {
   "cell_type": "markdown",
   "metadata": {},
   "source": [
    "```python\n",
    "nums = [2, 4, 6, 9, 11]\n",
    "n = 2\n",
    "```"
   ]
  },
  {
   "cell_type": "markdown",
   "metadata": {},
   "source": [
    "#### Przykładowe rozwiązanie"
   ]
  },
  {
   "cell_type": "code",
   "execution_count": 52,
   "metadata": {},
   "outputs": [
    {
     "name": "stdout",
     "output_type": "stream",
     "text": [
      "Oryginalna lista:  [2, 4, 6, 9, 11]\n",
      "Podana liczba:  2\n",
      "Wynik:\n",
      "4 8 12 18 22\n"
     ]
    }
   ],
   "source": [
    "nums = [2, 4, 6, 9, 11]\n",
    "n = 2\n",
    "print(\"Oryginalna lista: \", nums)\n",
    "print(\"Podana liczba: \", n)\n",
    "filtered_numbers = list(map(lambda number: number*n, nums))\n",
    "print(\"Wynik:\")\n",
    "print(' '.join(map(str, filtered_numbers)))"
   ]
  },
  {
   "cell_type": "markdown",
   "metadata": {},
   "source": [
    "### Redukowanie"
   ]
  },
  {
   "cell_type": "markdown",
   "metadata": {},
   "source": [
    "* Funkcja `reduce` z modułu `functools` pomaga w iteratywnym redukowaniu zbioru wartości do jednej wartości\n",
    "* Żeby to lepiej zobrazować, pokażmy dwa przykłady użycia `reduce` do obliczenia:\n",
    "  * Sumy wartości, i\n",
    "  * Ich iloczynu"
   ]
  },
  {
   "cell_type": "markdown",
   "metadata": {},
   "source": [
    "#### Przykład 1: obliczenie sumy"
   ]
  },
  {
   "cell_type": "code",
   "execution_count": 53,
   "metadata": {},
   "outputs": [
    {
     "data": {
      "text/plain": [
       "15"
      ]
     },
     "execution_count": 53,
     "metadata": {},
     "output_type": "execute_result"
    }
   ],
   "source": [
    "from functools import reduce\n",
    "reduce(lambda a, b: a + b, [1, 2, 3, 4, 5])"
   ]
  },
  {
   "cell_type": "markdown",
   "metadata": {},
   "source": [
    "* Użycie funkcji `reduce` w powyższym przykładzie sprowadza się tak naprawdę do:"
   ]
  },
  {
   "cell_type": "code",
   "execution_count": 54,
   "metadata": {},
   "outputs": [
    {
     "data": {
      "text/plain": [
       "15"
      ]
     },
     "execution_count": 54,
     "metadata": {},
     "output_type": "execute_result"
    }
   ],
   "source": [
    "((((1 + 2) + 3) + 4) + 5)"
   ]
  },
  {
   "cell_type": "markdown",
   "metadata": {},
   "source": [
    "#### Przykład 2: obliczenie iloczynu"
   ]
  },
  {
   "cell_type": "code",
   "execution_count": 55,
   "metadata": {},
   "outputs": [
    {
     "data": {
      "text/plain": [
       "24"
      ]
     },
     "execution_count": 55,
     "metadata": {},
     "output_type": "execute_result"
    }
   ],
   "source": [
    "reduce(lambda a, b: a * b, [1, 2, 3, 4])"
   ]
  },
  {
   "cell_type": "markdown",
   "metadata": {},
   "source": [
    "* Sprowadza się to do:"
   ]
  },
  {
   "cell_type": "code",
   "execution_count": 56,
   "metadata": {},
   "outputs": [
    {
     "data": {
      "text/plain": [
       "24"
      ]
     },
     "execution_count": 56,
     "metadata": {},
     "output_type": "execute_result"
    }
   ],
   "source": [
    "(((1 * 2) * 3) * 4)"
   ]
  },
  {
   "cell_type": "markdown",
   "metadata": {},
   "source": [
    "#### Ćwiczenie"
   ]
  },
  {
   "cell_type": "markdown",
   "metadata": {},
   "source": [
    "* Napisz program w Pythonie do tworzenia ciągu Fibonacciego aż do `n` za pomocą `lambda` i `reduce`\n",
    "* Podpowiedzi:\n",
    "  * Da się to zrobić w zasadzie w jednej linijce!\n",
    "  * Przypomnij sobie, co robiła zmienna `_`"
   ]
  },
  {
   "cell_type": "markdown",
   "metadata": {},
   "source": [
    "#### Przykładowe rozwiązanie"
   ]
  },
  {
   "cell_type": "code",
   "execution_count": 57,
   "metadata": {},
   "outputs": [],
   "source": [
    "from functools import reduce\n",
    "fib_series = lambda n: reduce(lambda x, _: x + [x[-1] + x[-2]],range(n - 2), [0, 1])"
   ]
  },
  {
   "cell_type": "code",
   "execution_count": 58,
   "metadata": {},
   "outputs": [
    {
     "name": "stdout",
     "output_type": "stream",
     "text": [
      "Ciąg Fibonacciego do 2:\n",
      "[0, 1]\n"
     ]
    }
   ],
   "source": [
    "print(\"Ciąg Fibonacciego do 2:\")\n",
    "print(fib_series(2))"
   ]
  },
  {
   "cell_type": "code",
   "execution_count": 59,
   "metadata": {},
   "outputs": [
    {
     "name": "stdout",
     "output_type": "stream",
     "text": [
      "Ciąg Fibonacciego do 5:\n",
      "[0, 1, 1, 2, 3]\n"
     ]
    }
   ],
   "source": [
    "print(\"Ciąg Fibonacciego do 5:\")\n",
    "print(fib_series(5))"
   ]
  },
  {
   "cell_type": "code",
   "execution_count": 60,
   "metadata": {},
   "outputs": [
    {
     "name": "stdout",
     "output_type": "stream",
     "text": [
      "Ciąg Fibonacciego do 6:\n",
      "[0, 1, 1, 2, 3, 5]\n"
     ]
    }
   ],
   "source": [
    "print(\"Ciąg Fibonacciego do 6:\")\n",
    "print(fib_series(6))"
   ]
  },
  {
   "cell_type": "code",
   "execution_count": 61,
   "metadata": {},
   "outputs": [
    {
     "name": "stdout",
     "output_type": "stream",
     "text": [
      "Ciąg Fibonacciego do 9:\n",
      "[0, 1, 1, 2, 3, 5, 8, 13, 21]\n"
     ]
    }
   ],
   "source": [
    "print(\"Ciąg Fibonacciego do 9:\")\n",
    "print(fib_series(9))"
   ]
  },
  {
   "cell_type": "markdown",
   "metadata": {},
   "source": [
    "## Tworzenie zbiorów danych w locie"
   ]
  },
  {
   "cell_type": "markdown",
   "metadata": {},
   "source": [
    "### Tworzenie list – ang. *list comprehension*"
   ]
  },
  {
   "cell_type": "markdown",
   "metadata": {},
   "source": [
    "* Dzięki generowaniu list w locie możemy:\n",
    "  * Nawet dość skomplikowane pętle, zamienić na\n",
    "  * Pojedyncze linijki kodu"
   ]
  },
  {
   "cell_type": "markdown",
   "metadata": {},
   "source": [
    "* Przykładowo 3 linijki kodu generujące listę sześcianów:"
   ]
  },
  {
   "cell_type": "code",
   "execution_count": 62,
   "metadata": {},
   "outputs": [],
   "source": [
    "szesciany = []\n",
    "for x in range(10):\n",
    "    szesciany.append(x**3)"
   ]
  },
  {
   "cell_type": "code",
   "execution_count": 68,
   "metadata": {},
   "outputs": [
    {
     "data": {
      "text/plain": [
       "[0, 1, 8, 27, 64, 125, 216, 343, 512, 729]"
      ]
     },
     "execution_count": 68,
     "metadata": {},
     "output_type": "execute_result"
    }
   ],
   "source": [
    "szesciany"
   ]
  },
  {
   "cell_type": "markdown",
   "metadata": {},
   "source": [
    "* W podstawowej wersji możemy „przenieść” pętlę do nawiasów kwadratowych:"
   ]
  },
  {
   "cell_type": "code",
   "execution_count": 69,
   "metadata": {},
   "outputs": [],
   "source": [
    "szesciany = [x**3 for x in range(10)]"
   ]
  },
  {
   "cell_type": "code",
   "execution_count": 70,
   "metadata": {},
   "outputs": [
    {
     "data": {
      "text/plain": [
       "[0, 1, 8, 27, 64, 125, 216, 343, 512, 729]"
      ]
     },
     "execution_count": 70,
     "metadata": {},
     "output_type": "execute_result"
    }
   ],
   "source": [
    "szesciany"
   ]
  },
  {
   "cell_type": "markdown",
   "metadata": {},
   "source": [
    "* Ogólniejsza postać *list comprehension*:"
   ]
  },
  {
   "cell_type": "markdown",
   "metadata": {},
   "source": [
    "```python\n",
    "nowa_lista = [funkcja(element) for element in lista if warunek(element)]\n",
    "```"
   ]
  },
  {
   "cell_type": "markdown",
   "metadata": {},
   "source": [
    "* Na przykład by przygotować listę kwadratów liczb nieparzystych z zakresu od `1` do `101`:"
   ]
  },
  {
   "cell_type": "code",
   "execution_count": 76,
   "metadata": {},
   "outputs": [],
   "source": [
    "kwadraty = [el**2 for el in range(1, 101) if el % 2 != 0]"
   ]
  },
  {
   "cell_type": "code",
   "execution_count": 75,
   "metadata": {},
   "outputs": [
    {
     "data": {
      "text/plain": [
       "[1,\n",
       " 9,\n",
       " 25,\n",
       " 49,\n",
       " 81,\n",
       " 121,\n",
       " 169,\n",
       " 225,\n",
       " 289,\n",
       " 361,\n",
       " 441,\n",
       " 529,\n",
       " 625,\n",
       " 729,\n",
       " 841,\n",
       " 961,\n",
       " 1089,\n",
       " 1225,\n",
       " 1369,\n",
       " 1521,\n",
       " 1681,\n",
       " 1849,\n",
       " 2025,\n",
       " 2209,\n",
       " 2401,\n",
       " 2601,\n",
       " 2809,\n",
       " 3025,\n",
       " 3249,\n",
       " 3481,\n",
       " 3721,\n",
       " 3969,\n",
       " 4225,\n",
       " 4489,\n",
       " 4761,\n",
       " 5041,\n",
       " 5329,\n",
       " 5625,\n",
       " 5929,\n",
       " 6241,\n",
       " 6561,\n",
       " 6889,\n",
       " 7225,\n",
       " 7569,\n",
       " 7921,\n",
       " 8281,\n",
       " 8649,\n",
       " 9025,\n",
       " 9409,\n",
       " 9801]"
      ]
     },
     "execution_count": 75,
     "metadata": {},
     "output_type": "execute_result"
    }
   ],
   "source": [
    "kwadraty"
   ]
  },
  {
   "cell_type": "markdown",
   "metadata": {},
   "source": [
    "#### Ćwiczenie"
   ]
  },
  {
   "cell_type": "markdown",
   "metadata": {},
   "source": [
    "* Napisz program w Pythonie, który usuwa liczby dodatnie z podanej listy liczb\n",
    "* Zsumuj liczby ujemne i wydrukuj wartość bezwzględną za pomocą tworzenia listy – ang. *list comprehension*\n",
    "* Wydrukuj wynik"
   ]
  },
  {
   "cell_type": "markdown",
   "metadata": {},
   "source": [
    "```python\n",
    "nums = [2, 4, -6, -9, 11, -12, 14, -5, 17]\n",
    "```"
   ]
  },
  {
   "cell_type": "markdown",
   "metadata": {},
   "source": [
    "#### Przykładowe rozwiązanie"
   ]
  },
  {
   "cell_type": "code",
   "execution_count": 77,
   "metadata": {},
   "outputs": [
    {
     "name": "stdout",
     "output_type": "stream",
     "text": [
      "Oryginalna lista:  [2, 4, -6, -9, 11, -12, 14, -5, 17]\n",
      "Wynik:\n",
      "32\n"
     ]
    }
   ],
   "source": [
    "nums = [2, 4, -6, -9, 11, -12, 14, -5, 17]\n",
    "print(\"Oryginalna lista: \", nums)\n",
    "print(\"Wynik:\")\n",
    "print(abs(sum([i for i in nums if i < 0])))"
   ]
  },
  {
   "cell_type": "markdown",
   "metadata": {},
   "source": [
    "#### Ćwiczenie"
   ]
  },
  {
   "cell_type": "markdown",
   "metadata": {},
   "source": [
    "* Napisz program w Pythonie, aby zmienić kolejność liczb dodatnich i ujemnych w danej tablicy (najpierw wszystkie ujemne, potem wszystkie dodatnie) za pomocą tworzenia listy – ang. *list comprehension*"
   ]
  },
  {
   "cell_type": "markdown",
   "metadata": {},
   "source": [
    "```python\n",
    "array_nums = [-1, 2, -3, 5, 7, 8, 9, -10]\u000b",
    "\n",
    "```"
   ]
  },
  {
   "cell_type": "markdown",
   "metadata": {},
   "source": [
    "#### Przykładowe rozwiązanie"
   ]
  },
  {
   "cell_type": "code",
   "execution_count": 78,
   "metadata": {},
   "outputs": [
    {
     "name": "stdout",
     "output_type": "stream",
     "text": [
      "Oryginalna tablica:\n",
      "[-1, 2, -3, 5, 7, 8, 9, -10]\n",
      "\n",
      "Zmiana kolejności liczb dodatnich i ujemnych wspomnianej tablicy:\n",
      "[-1, -3, -10, 2, 5, 7, 8, 9]\n"
     ]
    }
   ],
   "source": [
    "array_nums = [-1, 2, -3, 5, 7, 8, 9, -10]\n",
    "print(\"Oryginalna tablica:\")\n",
    "print(array_nums)\n",
    "result = [x for x in array_nums if x < 0] + [x for x in array_nums if x >= 0]\n",
    "print(\"\\nZmiana kolejności liczb dodatnich i ujemnych wspomnianej tablicy:\")\n",
    "print(result)"
   ]
  },
  {
   "cell_type": "markdown",
   "metadata": {},
   "source": [
    "#### Ćwiczenie"
   ]
  },
  {
   "cell_type": "markdown",
   "metadata": {},
   "source": [
    "* Napisz program w Pythonie, aby:\n",
    "  * Znaleźć liczby z podanego ciągu\n",
    "  * Zapisać je na liście\n",
    "  * Wyświetlić liczby w posortowanej formie\n",
    "* Użyj funkcji tworzenia listy – ang. *list comprehension*, aby rozwiązać problem"
   ]
  },
  {
   "cell_type": "markdown",
   "metadata": {},
   "source": [
    "```python\n",
    "str1 = \"sdf 23 safs8 5 sdfsd8 sdfs 56 21sfs 20 5\"\n",
    "```"
   ]
  },
  {
   "cell_type": "markdown",
   "metadata": {},
   "source": [
    "#### Przykładowe rozwiązanie"
   ]
  },
  {
   "cell_type": "code",
   "execution_count": 84,
   "metadata": {},
   "outputs": [
    {
     "name": "stdout",
     "output_type": "stream",
     "text": [
      "Oryginalny ciąg:  sdf 23 safs8 5 sdfsd8 sdfs 56 21sfs 20 5\n",
      "Oryginalna lista:  ['sdf', '23', 'safs8', '5', 'sdfsd8', 'sdfs', '56', '21sfs', '20', '5']\n",
      "Liczby w posortowanej formie:\n",
      "5 5 20 23 56 "
     ]
    }
   ],
   "source": [
    "str1 = \"sdf 23 safs8 5 sdfsd8 sdfs 56 21sfs 20 5\"\n",
    "print(\"Oryginalny ciąg: \", str1)\n",
    "str_num = [i for i in str1.split(' ')]\n",
    "print(\"Oryginalna lista: \", str_num)\n",
    "numbers = sorted([int(x) for x in str_num if x.isdigit()])\n",
    "print('Liczby w posortowanej formie:')\n",
    "for i in numbers:\n",
    "    print(i, end=' ')"
   ]
  },
  {
   "cell_type": "markdown",
   "metadata": {},
   "source": [
    "### Tworzenie zbiorów"
   ]
  },
  {
   "cell_type": "markdown",
   "metadata": {},
   "source": [
    "* W podobny sposób można też przygotować zbiór"
   ]
  },
  {
   "cell_type": "code",
   "execution_count": 85,
   "metadata": {},
   "outputs": [],
   "source": [
    "zbior = {znak for znak in \"abracadabra\" if znak not in \"abc\"}"
   ]
  },
  {
   "cell_type": "code",
   "execution_count": 86,
   "metadata": {},
   "outputs": [
    {
     "data": {
      "text/plain": [
       "{'d', 'r'}"
      ]
     },
     "execution_count": 86,
     "metadata": {},
     "output_type": "execute_result"
    }
   ],
   "source": [
    "zbior"
   ]
  },
  {
   "cell_type": "markdown",
   "metadata": {},
   "source": [
    "### Tworzenie słowników"
   ]
  },
  {
   "cell_type": "markdown",
   "metadata": {},
   "source": [
    "* Podobnie można stworzyć słownik"
   ]
  },
  {
   "cell_type": "code",
   "execution_count": 87,
   "metadata": {},
   "outputs": [],
   "source": [
    "tekst = \"abracadabra\"\n",
    "wystapienia = {znak: tekst.count(znak) for znak in tekst}"
   ]
  },
  {
   "cell_type": "code",
   "execution_count": 88,
   "metadata": {},
   "outputs": [
    {
     "data": {
      "text/plain": [
       "{'a': 5, 'b': 2, 'r': 2, 'c': 1, 'd': 1}"
      ]
     },
     "execution_count": 88,
     "metadata": {},
     "output_type": "execute_result"
    }
   ],
   "source": [
    "wystapienia"
   ]
  },
  {
   "cell_type": "markdown",
   "metadata": {},
   "source": [
    "## Wyrażenia generatorowe – ang. *generator expressions*"
   ]
  },
  {
   "cell_type": "markdown",
   "metadata": {},
   "source": [
    "* Co do zapisu: nie różnią się niczym od *list comprehension*, poza zmianą znaków nawiasów z `[]` na `()`"
   ]
  },
  {
   "cell_type": "code",
   "execution_count": 91,
   "metadata": {},
   "outputs": [],
   "source": [
    "list_comp = [x ** 0.5 for x in range(1, 11)]\n",
    "gene_expr = (x ** 0.5 for x in range(1, 11))"
   ]
  },
  {
   "cell_type": "code",
   "execution_count": 94,
   "metadata": {},
   "outputs": [
    {
     "name": "stdout",
     "output_type": "stream",
     "text": [
      "1.0\n",
      "1.4142135623730951\n",
      "1.7320508075688772\n",
      "2.0\n",
      "2.23606797749979\n",
      "2.449489742783178\n",
      "2.6457513110645907\n",
      "2.8284271247461903\n",
      "3.0\n",
      "3.1622776601683795\n"
     ]
    }
   ],
   "source": [
    "for x in list_comp:\n",
    "    print(x)"
   ]
  },
  {
   "cell_type": "code",
   "execution_count": 95,
   "metadata": {},
   "outputs": [
    {
     "name": "stdout",
     "output_type": "stream",
     "text": [
      "1.0\n",
      "1.4142135623730951\n",
      "1.7320508075688772\n",
      "2.0\n",
      "2.23606797749979\n",
      "2.449489742783178\n",
      "2.6457513110645907\n",
      "2.8284271247461903\n",
      "3.0\n",
      "3.1622776601683795\n"
     ]
    }
   ],
   "source": [
    "for x in gene_expr:\n",
    "    print(x)"
   ]
  },
  {
   "cell_type": "markdown",
   "metadata": {},
   "source": [
    "* Różnica polega na tym, że *list comprehension* tworzy listę, a więc zajmuje miejsce w pamięci i czas procesora\n",
    "* Wyrażenie generatorowe jest dopiero obliczane przy przechodzeniu przez nie, np. w formie pętli `for`"
   ]
  },
  {
   "cell_type": "code",
   "execution_count": 110,
   "metadata": {},
   "outputs": [],
   "source": [
    "list_comp = [x ** 0.5 for x in range(1, 20000001)]"
   ]
  },
  {
   "cell_type": "code",
   "execution_count": 111,
   "metadata": {},
   "outputs": [
    {
     "name": "stdout",
     "output_type": "stream",
     "text": [
      "59628481635.85357\n"
     ]
    }
   ],
   "source": [
    "sum = 0\n",
    "for x in list_comp:\n",
    "    sum += x\n",
    "print(sum)"
   ]
  },
  {
   "cell_type": "code",
   "execution_count": 112,
   "metadata": {},
   "outputs": [],
   "source": [
    "gene_expr = (x ** 0.5 for x in range(1, 20000001))\n",
    "# gene_expr nie obliczyło jeszcze tych milionów pierwiastków"
   ]
  },
  {
   "cell_type": "code",
   "execution_count": 113,
   "metadata": {},
   "outputs": [
    {
     "name": "stdout",
     "output_type": "stream",
     "text": [
      "59628481635.85357\n"
     ]
    }
   ],
   "source": [
    "sum = 0\n",
    "for x in gene_expr:\n",
    "    # teraz już kolejne elementy wyrażenia generatorowego są obliczane\n",
    "    sum += x\n",
    "print(sum)"
   ]
  },
  {
   "cell_type": "markdown",
   "metadata": {},
   "source": [
    "## Zadania utrwalające"
   ]
  },
  {
   "cell_type": "markdown",
   "metadata": {},
   "source": [
    "#### Zadanie 1"
   ]
  },
  {
   "cell_type": "markdown",
   "metadata": {},
   "source": [
    "* Napisz funkcję anonimową obliczającą kwadrat danej wartości\n",
    "* Czy potrafisz wytłumaczyć czym się to różni od użycia funkcji\n",
    "```python\n",
    "pow(a, b)\n",
    "```\n",
    "lub operatora\n",
    "```python\n",
    "a ** b\n",
    "```\n",
    "?"
   ]
  },
  {
   "cell_type": "markdown",
   "metadata": {},
   "source": [
    "#### Zadanie 2"
   ]
  },
  {
   "cell_type": "markdown",
   "metadata": {},
   "source": [
    "* Napisz funkcję anonimową obliczającą średnią arytmetyczną dwóch wartości"
   ]
  },
  {
   "cell_type": "markdown",
   "metadata": {},
   "source": [
    "#### Zadanie 3"
   ]
  },
  {
   "cell_type": "markdown",
   "metadata": {},
   "source": [
    "* Napisz funkcję anonimową sprawdzającą czy dana wartość jest większa (lub mniejsza) od pewnej wartości\n",
    "* Taka funkcja anonimowa powinna zwracać wartość logiczną"
   ]
  },
  {
   "cell_type": "markdown",
   "metadata": {},
   "source": [
    "#### Zadanie 4"
   ]
  },
  {
   "cell_type": "markdown",
   "metadata": {},
   "source": [
    "* Znajdź wszystkie wartości mniejsze od `36.6`"
   ]
  },
  {
   "cell_type": "markdown",
   "metadata": {},
   "source": [
    "#### Zadanie 5"
   ]
  },
  {
   "cell_type": "markdown",
   "metadata": {},
   "source": [
    "* Odfiltruj wszystkie wartości, które są:\n",
    "  * Mniejsze bądź równe `35.0`, lub \n",
    "  * Większe bądź równe `40.0`"
   ]
  },
  {
   "cell_type": "markdown",
   "metadata": {},
   "source": [
    "#### Zadanie 6"
   ]
  },
  {
   "cell_type": "markdown",
   "metadata": {},
   "source": [
    "* Oblicz dla każdej liczby w zbiorze temperatur kwadrat:\n",
    "  * Różnicy tej liczby, i\n",
    "  * Średniej arytmetycznej całego zbioru"
   ]
  },
  {
   "cell_type": "markdown",
   "metadata": {},
   "source": [
    "#### Zadanie 7"
   ]
  },
  {
   "cell_type": "markdown",
   "metadata": {},
   "source": [
    "* Mając obliczone wartości odchyleń temperatur od średniej temperatury, oblicz **wariancję** tych wartości\n",
    "* Wariancja:\n",
    "  * Klasyczna **miara zmienności**\n",
    "  * Intuicyjnie utożsamiana ze zróżnicowaniem zbiorowości\n",
    "  * Jest **średnią arytmetyczną kwadratów odchyleń** (różnic):\n",
    "    * Poszczególnych wartości **cechy**, od \n",
    "    * **Wartości oczekiwanej**\n",
    "  * [https://www.matemaks.pl/wariancja.html](https://www.matemaks.pl/wariancja.html)\n",
    "* Nie zapomnij o podzieleniu przez ilość elementów w zbiorze!"
   ]
  },
  {
   "cell_type": "markdown",
   "metadata": {},
   "source": [
    "#### Zadanie 8"
   ]
  },
  {
   "cell_type": "markdown",
   "metadata": {},
   "source": [
    "* Napisz pogram, który policzy kwadraty liczb z zakresu `[1,10000]`, które podzielne są przez:\n",
    "  * `5`, lub \n",
    "  * `9`\n",
    "* Następnie sprawdź, które z uzyskanych liczb są podzielne:\n",
    "  * Zarówno przez `5`,\n",
    "  * Jak i przez `9`"
   ]
  },
  {
   "cell_type": "markdown",
   "metadata": {},
   "source": [
    "#### Zadanie 9"
   ]
  },
  {
   "cell_type": "markdown",
   "metadata": {},
   "source": [
    "* Stwórz zbiór, który wypełnisz `30` wywołaniami funkcji:\n",
    "```python\n",
    "random.randint(1, 30)\n",
    "```\n",
    "* Ile razy wylosowana została ta sama wartość?\n",
    "* Sprawdzisz to porównując liczbę elementów zbioru.\n",
    "* Jak się zachowa program, jeśli zmienisz argumenty do funkcji `randint`? \n",
    "* A jeśli zmienisz liczbę wywołań tej funkcji?"
   ]
  },
  {
   "cell_type": "code",
   "execution_count": null,
   "metadata": {},
   "outputs": [],
   "source": []
  }
 ],
 "metadata": {
  "kernelspec": {
   "display_name": "Python 3",
   "language": "python",
   "name": "python3"
  },
  "language_info": {
   "codemirror_mode": {
    "name": "ipython",
    "version": 3
   },
   "file_extension": ".py",
   "mimetype": "text/x-python",
   "name": "python",
   "nbconvert_exporter": "python",
   "pygments_lexer": "ipython3",
   "version": "3.8.3"
  }
 },
 "nbformat": 4,
 "nbformat_minor": 4
}
